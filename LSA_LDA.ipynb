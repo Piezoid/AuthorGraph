{
 "cells": [
  {
   "cell_type": "markdown",
   "metadata": {},
   "source": [
    "## Chargement des publications\n",
    "\n",
    "Les publications de l'étape `1-Aggregation` peuvent être récupérées avec [ce lien dropbox (26 Mo)](https://www.dropbox.com/s/y1hf5ux8r5btmnn/publications.pk.bz2?dl=1\n",
    ") "
   ]
  },
  {
   "cell_type": "code",
   "execution_count": 2,
   "metadata": {
    "collapsed": false,
    "scrolled": true
   },
   "outputs": [],
   "source": [
    "import bibdb\n",
    "import pickle, bz2\n",
    "\n",
    "data = pickle.load(bz2.open('publications.pk.bz2', 'rb'))\n",
    "titles = data['titles']\n",
    "abstracts = data['abstracts']\n",
    "authors = data['authors']\n",
    "Mauthor_pubs = data['Mauthor_pubs']\n",
    "profs = data['profs']\n",
    "del data\n",
    "\n",
    "Ndocs = len(abstracts)\n",
    "Nauthors = len(authors)\n",
    "\n",
    "assert len(titles) == Ndocs\n",
    "assert Mauthor_pubs.shape == (Nauthors, Ndocs)"
   ]
  },
  {
   "cell_type": "markdown",
   "metadata": {},
   "source": [
    "## Tokenization et lematization\n",
    "\n",
    "La fonction `text_cleaning` implémente une tokenization et lematization du corpus a l'aide de la bibliothèque `nltk`. Une liste de stop-words anglais est utilisée, les nombres sont transformé en `[number]` et la ponctuation est retirée.\n",
    "\n",
    "La lematization est réalisée avec wordnet et un POS tagger (Perceptron Tagger de nltk). Les deux premières lettres du tag sont rajoutées au lemme : \"word/NN\"."
   ]
  },
  {
   "cell_type": "code",
   "execution_count": null,
   "metadata": {
    "collapsed": false
   },
   "outputs": [
    {
     "name": "stdout",
     "output_type": "stream",
     "text": [
      "0.00%\n",
      "1.68%\n",
      "3.35%\n",
      "5.03%\n",
      "6.71%\n",
      "8.39%\n",
      "10.06%\n",
      "11.74%\n",
      "13.42%\n",
      "15.10%\n",
      "16.77%\n",
      "18.45%\n",
      "20.13%\n",
      "21.80%\n",
      "23.48%\n",
      "25.16%\n",
      "26.84%\n",
      "28.51%\n",
      "30.19%\n",
      "31.87%\n",
      "33.55%\n",
      "35.22%\n",
      "36.90%\n",
      "38.58%\n",
      "40.25%\n",
      "41.93%\n",
      "43.61%\n",
      "45.29%\n",
      "46.96%\n",
      "48.64%\n"
     ]
    }
   ],
   "source": [
    "from text_cleaning import text_cleaning\n",
    "\n",
    "lem_abstracts = []\n",
    "lem_titles = []\n",
    "for i in range(Ndocs):\n",
    "    if i & 1023 == 0:\n",
    "        print('%.2f%%' % (100*i/Ndocs))\n",
    "    \n",
    "    lem_abstracts.append(text_cleaning(abstracts[i]))\n",
    "    \n",
    "    title = titles[i]\n",
    "    if title:\n",
    "        lem_titles.append(text_cleaning(title))\n",
    "    else:\n",
    "        lem_titles.append([]) # keeps lists aligned"
   ]
  },
  {
   "cell_type": "markdown",
   "metadata": {},
   "source": [
    "Cette opération prend du temps (20min) et donc les résultats sont sauvegardés :"
   ]
  },
  {
   "cell_type": "code",
   "execution_count": null,
   "metadata": {
    "collapsed": false
   },
   "outputs": [],
   "source": [
    "pickle.dump(dict(lem_abstracts=lem_abstracts,\n",
    "                 lem_titles=lem_titles),\n",
    "            bz2.open('lems.pk.bz2', 'wb'))"
   ]
  },
  {
   "cell_type": "markdown",
   "metadata": {},
   "source": [
    "Le résultat de la lemmatisation est accesible [sur ce lien dropbox (27 Mo)](https://www.dropbox.com/s/pyu7n2tsztnu0js/lems.pk.bz2?dl=1)"
   ]
  },
  {
   "cell_type": "code",
   "execution_count": 8,
   "metadata": {
    "collapsed": false
   },
   "outputs": [],
   "source": [
    "import pickle, bz2\n",
    "data = pickle.load(bz2.open('lems.pk.bz2', 'rb'))\n",
    "lem_abstracts = data['lem_abstracts']\n",
    "lem_titles = data['lem_titles']\n",
    "del data, titles, abstracts"
   ]
  },
  {
   "cell_type": "code",
   "execution_count": 9,
   "metadata": {
    "collapsed": true
   },
   "outputs": [],
   "source": [
    "lem_abstract_withtitles = [lem_title + lem_abstract \n",
    "                           for lem_title, lem_abstract in zip(lem_titles, lem_abstracts)]\n",
    "del lem_abstracts, lem_titles"
   ]
  },
  {
   "cell_type": "markdown",
   "metadata": {},
   "source": [
    "## Fréquences document des mots et filtrage\n",
    "\n",
    "Les lemmes taggés sont ensuite indexés avec `gensim.corpora.Dictionary`. Cet objet calcule également la fréquence document des mots."
   ]
  },
  {
   "cell_type": "code",
   "execution_count": 10,
   "metadata": {
    "collapsed": true
   },
   "outputs": [],
   "source": [
    "from itertools import chain\n",
    "import gensim\n",
    "\n",
    "dictionary = gensim.corpora.Dictionary(lem_abstract_withtitles)"
   ]
  },
  {
   "cell_type": "code",
   "execution_count": 11,
   "metadata": {
    "collapsed": false
   },
   "outputs": [
    {
     "data": {
      "image/png": "[encoded data removed]",
      "text/plain": [
       "<matplotlib.figure.Figure at 0x7f741434a3c8>"
      ]
     },
     "metadata": {},
     "output_type": "display_data"
    }
   ],
   "source": [
    "from matplotlib import pyplot as plt\n",
    "import numpy as np\n",
    "%matplotlib inline\n",
    "\n",
    "plt.hist([np.log10(count) for count in dictionary.dfs.values()],\n",
    "         100, log=True)\n",
    "plt.xlabel('Nombre de documents ($log_{10}$)')\n",
    "plt.ylabel('Nombre de mots');"
   ]
  },
  {
   "cell_type": "markdown",
   "metadata": {},
   "source": [
    "Les mot utilisés moins dans moins de 5 documents, ou dans plus de 1/4 des document sont retirés :"
   ]
  },
  {
   "cell_type": "code",
   "execution_count": 12,
   "metadata": {
    "collapsed": false
   },
   "outputs": [],
   "source": [
    "dictionary.filter_extremes(no_below=5, no_above=0.25, keep_n=None)"
   ]
  },
  {
   "cell_type": "markdown",
   "metadata": {},
   "source": [
    "## Modèle `bag of words` par publication\n",
    "Un modèle `bag of words` est construit en utilisant les indices numériques de `dictionary` (cela filtre aussi les mots)."
   ]
  },
  {
   "cell_type": "code",
   "execution_count": 13,
   "metadata": {
    "collapsed": false
   },
   "outputs": [],
   "source": [
    "# Make a scipy sparse matrix representation of the corpus, more memory efficient :\n",
    "bows_csc = gensim.matutils.corpus2csc((dictionary.doc2bow(lems) \n",
    "                                       for lems in lem_abstract_withtitles),\n",
    "                                      num_terms=len(dictionary.token2id), \n",
    "                                      num_docs=len(lem_abstract_withtitles))\n",
    "\n",
    "gen_bows = lambda: gensim.matutils.Sparse2Corpus(bows_csc)\n",
    "del lem_abstract_withtitles"
   ]
  },
  {
   "cell_type": "code",
   "execution_count": 33,
   "metadata": {
    "collapsed": false
   },
   "outputs": [],
   "source": [
    "tfidfmodel = gensim.models.tfidfmodel.TfidfModel(gen_bows(), dictionary=dictionary)\n",
    "lsimodel = gensim.models.lsimodel.LsiModel(tfidfmodel[gen_bows()], id2word=dictionary)\n",
    "# lsimodel.save('lsimodel_bypub')\n",
    "\n",
    "plt.plot(lsimodel.projection.s);"
   ]
  },
  {
   "cell_type": "code",
   "execution_count": 8,
   "metadata": {
    "collapsed": false
   },
   "outputs": [],
   "source": [
    "hdpmodel = gensim.models.hdpmodel.HdpModel(tfidfmodel[gen_bows()], dictionary)\n",
    "hdpmodel.save('hdpmodel_bypub.pk')"
   ]
  },
  {
   "cell_type": "markdown",
   "metadata": {},
   "source": [
    "## Moyenne des modèles BoW par auteurs"
   ]
  },
  {
   "cell_type": "markdown",
   "metadata": {},
   "source": [
    "## Modèles BoW par auteurs, abstracts concaténés"
   ]
  },
  {
   "cell_type": "markdown",
   "metadata": {},
   "source": [
    "L'attribution des termes des abstracts à un auteur se fait de la façon suivante : \n",
    "\n",
    "$$ \\#_\\textrm{occs}(\\textrm{terme}, \\textrm{auteur}) = \\sum_\\textrm{publication} \\frac{\n",
    "    \\delta_E( \\textrm{auteur}, \\textrm{publication} )\n",
    " }{ \n",
    "    \\#_\\textrm{auteurs}(\\textrm{publication})\n",
    " }\n",
    " \\#_\\textrm{occs}(\\textrm{terme}, \\textrm{publication})\n",
    "$$\n",
    "\n",
    "Où $\\delta_E( \\textrm{auteur}, \\textrm{publication} )$ indique si l'auteur participe dans la publication (1 ou 0 sinon). Ce sont les entrées de la matrices auteur / publication `Mauthor_pubs` définie après le chargement des données. Notament : \n",
    "\n",
    "$$ \\#_\\textrm{auteurs}(\\textrm{publication}) = \n",
    "\\sum_{auteur} \\delta_E( \\textrm{auteur}, \\textrm{publication} ) $$\n",
    "\n",
    "Ainsi, les termes des publications avec peu d'auteurs ont plus de poids.\n",
    "\n",
    "Avec l'aide de la matrice d'une matrice diagonale\n",
    "\n",
    "$$\n",
    "D = \\textrm{diag} \\left(\n",
    "\\frac{1}{\\#_\\textrm{auteurs}(\\textrm{publication})}\n",
    "\\right)\n",
    "$$\n",
    "    \n",
    "le modèle BoW par auteur peut se calculer par un produit matriciel : "
   ]
  },
  {
   "cell_type": "code",
   "execution_count": 17,
   "metadata": {
    "collapsed": false
   },
   "outputs": [
    {
     "data": {
      "text/plain": [
       "<47894x64418 sparse matrix of type '<class 'numpy.float64'>'\n",
       "\twith 30480351 stored elements in Compressed Sparse Column format>"
      ]
     },
     "execution_count": 17,
     "metadata": {},
     "output_type": "execute_result"
    }
   ],
   "source": [
    "# Matrice diagonale diag(1/#auteurs(abstract)):\n",
    "D = sparse.dia_matrix((1/Mauthor_pubs.sum(axis=0).ravel(), [0]), (Ndocs, Ndocs))\n",
    "\n",
    "# Enfin:\n",
    "bows_author_csc = bows_csc * (Mauthor_pubs * D).T\n",
    "\n",
    "gen_bows_authors = lambda: gensim.matutils.Sparse2Corpus(bows_author_csc)\n",
    "\n",
    "del D\n",
    "bows_author_csc"
   ]
  },
  {
   "cell_type": "code",
   "execution_count": 18,
   "metadata": {
    "collapsed": false
   },
   "outputs": [
    {
     "data": {
      "image/png": "[encoded data removed]",
      "text/plain": [
       "<matplotlib.figure.Figure at 0x7f741740b7f0>"
      ]
     },
     "metadata": {},
     "output_type": "display_data"
    }
   ],
   "source": [
    "tfidfmodel = gensim.models.tfidfmodel.TfidfModel(gen_bows_authors(), dictionary=dictionary)\n",
    "lsimodel = gensim.models.lsimodel.LsiModel(tfidfmodel[gen_bows_authors()], id2word=dictionary)\n",
    "lsimodel.save('lsimodel_byauthor')\n",
    "\n",
    "plt.plot(lsimodel.projection.s);\n",
    "plt.xlabel('Dimension lattente')\n",
    "plt.ylabel('Valeurs singulières')"
   ]
  },
  {
   "cell_type": "code",
   "execution_count": null,
   "metadata": {
    "collapsed": false
   },
   "outputs": [],
   "source": [
    "hdpmodel = gensim.models.hdpmodel.HdpModel(gen_bows_authors(), dictionary)\n",
    "hdpmodel.save('hdpmodel_byauthor.pk')"
   ]
  }
 ],
 "metadata": {
  "kernelspec": {
   "display_name": "Python 3",
   "language": "python",
   "name": "python3"
  },
  "language_info": {
   "codemirror_mode": {
    "name": "ipython",
    "version": 3
   },
   "file_extension": ".py",
   "mimetype": "text/x-python",
   "name": "python",
   "nbconvert_exporter": "python",
   "pygments_lexer": "ipython3",
   "version": "3.5.2"
  }
 },
 "nbformat": 4,
 "nbformat_minor": 2
}
