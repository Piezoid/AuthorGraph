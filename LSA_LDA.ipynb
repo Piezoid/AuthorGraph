{
 "cells": [
  {
   "cell_type": "markdown",
   "metadata": {},
   "source": [
    "## Chargement des publication\n",
    "\n",
    "Les publications de l'étape `1-Aggregation` peuvent être récupéré avec [ce lien dropbox (43 Mo)](https://www.dropbox.com/s/y1hf5ux8r5btmnn/publications.pk.bz2?dl=1\n",
    ") "
   ]
  },
  {
   "cell_type": "code",
   "execution_count": 1,
   "metadata": {
    "collapsed": false,
    "scrolled": true
   },
   "outputs": [],
   "source": [
    "import bibdb\n",
    "import pickle, bz2\n",
    "\n",
    "data = pickle.load(bz2.open('publications.pk.bz2', 'rb'))\n",
    "publications = data['publications']\n",
    "profs = data['profs']\n",
    "authors = data['authors']\n",
    "author_pubs = data['author_pubs']\n",
    "del data"
   ]
  },
  {
   "cell_type": "markdown",
   "metadata": {},
   "source": [
    "## Tokenization et lematization\n",
    "\n",
    "La fonction `text_cleaning` implémente une tokenization et lematization du corpus a l'aide de la bibliothèque `nltk`. Une liste de stop-words anglais est utilisée, les nombres sont transformé en `[number]` et la ponctuation est retirée.\n",
    "\n",
    "La lematization est réalisée avec wordnet et un POS tagger (Perceptron Tagger de nltk). Les deux premières lettres du tag sont rajoutées au lemme : \"word/NN\"."
   ]
  },
  {
   "cell_type": "code",
   "execution_count": 2,
   "metadata": {
    "collapsed": false
   },
   "outputs": [
    {
     "name": "stdout",
     "output_type": "stream",
     "text": [
      "0.00%\n",
      "1.70%\n",
      "3.40%\n",
      "5.10%\n",
      "6.80%\n",
      "8.50%\n",
      "10.20%\n",
      "11.90%\n",
      "13.60%\n",
      "15.30%\n",
      "17.00%\n",
      "18.69%\n",
      "20.39%\n",
      "22.09%\n",
      "23.79%\n",
      "25.49%\n",
      "27.19%\n",
      "28.89%\n",
      "30.59%\n",
      "32.29%\n",
      "33.99%\n",
      "35.69%\n",
      "37.39%\n",
      "39.09%\n",
      "40.79%\n",
      "42.49%\n",
      "44.19%\n",
      "45.89%\n",
      "47.59%\n",
      "49.29%\n",
      "50.99%\n",
      "52.68%\n",
      "54.38%\n",
      "56.08%\n",
      "57.78%\n",
      "59.48%\n",
      "61.18%\n",
      "62.88%\n",
      "64.58%\n",
      "66.28%\n",
      "67.98%\n",
      "69.68%\n",
      "71.38%\n",
      "73.08%\n",
      "74.78%\n",
      "76.48%\n",
      "78.18%\n",
      "79.88%\n",
      "81.58%\n",
      "83.28%\n",
      "84.98%\n",
      "86.67%\n",
      "88.37%\n",
      "90.07%\n",
      "91.77%\n",
      "93.47%\n",
      "95.17%\n",
      "96.87%\n",
      "98.57%\n"
     ]
    }
   ],
   "source": [
    "from text_cleaning import text_cleaning\n",
    "\n",
    "lem_abstracts = []\n",
    "lem_titles = []\n",
    "for i, pub in enumerate(publications):\n",
    "    if i & 1023 == 0:\n",
    "        print('%.2f%%' % (100*i/len(publications)))\n",
    "    \n",
    "    lem_abstracts.append(text_cleaning(pub.en_abstract))\n",
    "    \n",
    "    en_titles = [ref.ref for ref in pub.refs if ref.reftype=='en_title']\n",
    "    if en_titles:\n",
    "        title = max(en_titles, key=len) # Longest english title\n",
    "        lem_titles.append(text_cleaning(title))\n",
    "    else:\n",
    "        lem_titles.append([]) # keeps lists aligned"
   ]
  },
  {
   "cell_type": "markdown",
   "metadata": {},
   "source": [
    "Cette opération prend du temps (20min) et donc les résultats sont sauvegardés :"
   ]
  },
  {
   "cell_type": "code",
   "execution_count": 3,
   "metadata": {
    "collapsed": true
   },
   "outputs": [],
   "source": [
    "pickle.dump(dict(lem_abstracts=lem_abstracts,\n",
    "                 lem_titles=lem_titles),\n",
    "            bz2.open('lems.pk.bz2', 'wb'))"
   ]
  },
  {
   "cell_type": "markdown",
   "metadata": {},
   "source": [
    "Le résultat de la lemmatisation est accesible [sur ce lien dropbox (27 Mo)](https://www.dropbox.com/s/pyu7n2tsztnu0js/lems.pk.bz2?dl=1)"
   ]
  },
  {
   "cell_type": "code",
   "execution_count": 4,
   "metadata": {
    "collapsed": false
   },
   "outputs": [],
   "source": [
    "import pickle, bz2\n",
    "data = pickle.load(bz2.open('lems.pk.bz2', 'rb'))\n",
    "lem_abstracts = data['lem_abstracts']\n",
    "lem_titles = data['lem_titles']\n",
    "del data"
   ]
  },
  {
   "cell_type": "code",
   "execution_count": 4,
   "metadata": {
    "collapsed": true
   },
   "outputs": [],
   "source": [
    "lem_abstract_withtitles = [lem_title + lem_abstract \n",
    "                           for lem_title, lem_abstract in zip(lem_titles, lem_abstracts)]"
   ]
  },
  {
   "cell_type": "markdown",
   "metadata": {},
   "source": [
    "## Fréquence des mots, filtrage\n",
    "\n",
    "Les lemmes taggés sont ensuite indexés avec `gensim.corpora.Dictionary`. Cet objet calcule également la fréquence document des mots."
   ]
  },
  {
   "cell_type": "code",
   "execution_count": 5,
   "metadata": {
    "collapsed": true
   },
   "outputs": [],
   "source": [
    "from itertools import chain\n",
    "import gensim\n",
    "\n",
    "dictionary = gensim.corpora.Dictionary(lem_abstract_withtitles)"
   ]
  },
  {
   "cell_type": "code",
   "execution_count": 6,
   "metadata": {
    "collapsed": false
   },
   "outputs": [
    {
     "data": {
      "image/png": "[encoded data removed]",
      "text/plain": [
       "<matplotlib.figure.Figure at 0x7f3d63d39b70>"
      ]
     },
     "metadata": {},
     "output_type": "display_data"
    }
   ],
   "source": [
    "from matplotlib import pyplot as plt\n",
    "import numpy as np\n",
    "%matplotlib inline\n",
    "\n",
    "plt.hist([np.log10(count) for count in dictionary.dfs.values()],\n",
    "         100, log=True)\n",
    "plt.xlabel('Nombre de documents ($log_{10}$)')\n",
    "plt.ylabel('Nombre de mots');"
   ]
  },
  {
   "cell_type": "markdown",
   "metadata": {},
   "source": [
    "Les mot utilisés moins dans moins de 5 documents, ou dans plus de 1/4 des document sont retirés :"
   ]
  },
  {
   "cell_type": "code",
   "execution_count": 7,
   "metadata": {
    "collapsed": false
   },
   "outputs": [],
   "source": [
    "dictionary.filter_extremes(no_below=5, no_above=0.25, keep_n=None)"
   ]
  },
  {
   "cell_type": "markdown",
   "metadata": {},
   "source": [
    "## Modèle `bag of words` par publication\n",
    "Un modèle `bag of words` est construit en utilisant les indices numériques de `dictionary` (cela filtre aussi les mots)."
   ]
  },
  {
   "cell_type": "code",
   "execution_count": 8,
   "metadata": {
    "collapsed": false
   },
   "outputs": [],
   "source": [
    "bows = [dictionary.doc2bow(lems) for lems in lem_abstract_withtitles]"
   ]
  },
  {
   "cell_type": "code",
   "execution_count": 13,
   "metadata": {
    "collapsed": false
   },
   "outputs": [
    {
     "ename": "KeyboardInterrupt",
     "evalue": "",
     "output_type": "error",
     "traceback": [
      "\u001b[0;31m---------------------------------------------------------------------------\u001b[0m",
      "\u001b[0;31mKeyboardInterrupt\u001b[0m                         Traceback (most recent call last)",
      "\u001b[0;32m<ipython-input-13-874eab0f1202>\u001b[0m in \u001b[0;36m<module>\u001b[0;34m()\u001b[0m\n\u001b[1;32m      1\u001b[0m \u001b[0mtfidfmodel\u001b[0m \u001b[0;34m=\u001b[0m \u001b[0mgensim\u001b[0m\u001b[0;34m.\u001b[0m\u001b[0mmodels\u001b[0m\u001b[0;34m.\u001b[0m\u001b[0mtfidfmodel\u001b[0m\u001b[0;34m.\u001b[0m\u001b[0mTfidfModel\u001b[0m\u001b[0;34m(\u001b[0m\u001b[0mbows\u001b[0m\u001b[0;34m,\u001b[0m \u001b[0mdictionary\u001b[0m\u001b[0;34m=\u001b[0m\u001b[0mdictionary\u001b[0m\u001b[0;34m)\u001b[0m\u001b[0;34m\u001b[0m\u001b[0m\n\u001b[1;32m      2\u001b[0m \u001b[0mtfidfs\u001b[0m \u001b[0;34m=\u001b[0m \u001b[0mtfidfmodel\u001b[0m\u001b[0;34m[\u001b[0m\u001b[0mbows\u001b[0m\u001b[0;34m]\u001b[0m\u001b[0;34m\u001b[0m\u001b[0m\n\u001b[0;32m----> 3\u001b[0;31m \u001b[0mlsimodel\u001b[0m \u001b[0;34m=\u001b[0m \u001b[0mgensim\u001b[0m\u001b[0;34m.\u001b[0m\u001b[0mmodels\u001b[0m\u001b[0;34m.\u001b[0m\u001b[0mlsimodel\u001b[0m\u001b[0;34m.\u001b[0m\u001b[0mLsiModel\u001b[0m\u001b[0;34m(\u001b[0m\u001b[0mtfidfs\u001b[0m\u001b[0;34m,\u001b[0m \u001b[0mid2word\u001b[0m\u001b[0;34m=\u001b[0m\u001b[0mdictionary\u001b[0m\u001b[0;34m)\u001b[0m\u001b[0;34m\u001b[0m\u001b[0m\n\u001b[0m\u001b[1;32m      4\u001b[0m \u001b[0mlsimodel\u001b[0m\u001b[0;34m.\u001b[0m\u001b[0msave\u001b[0m\u001b[0;34m(\u001b[0m\u001b[0;34m'lsimodel_bypub.pk'\u001b[0m\u001b[0;34m)\u001b[0m\u001b[0;34m\u001b[0m\u001b[0m\n",
      "\u001b[0;32m/home/piezo/.local/lib/python3.5/site-packages/gensim/models/lsimodel.py\u001b[0m in \u001b[0;36m__init__\u001b[0;34m(self, corpus, num_topics, id2word, chunksize, decay, distributed, onepass, power_iters, extra_samples)\u001b[0m\n\u001b[1;32m    329\u001b[0m \u001b[0;34m\u001b[0m\u001b[0m\n\u001b[1;32m    330\u001b[0m         \u001b[0;32mif\u001b[0m \u001b[0mcorpus\u001b[0m \u001b[0;32mis\u001b[0m \u001b[0;32mnot\u001b[0m \u001b[0;32mNone\u001b[0m\u001b[0;34m:\u001b[0m\u001b[0;34m\u001b[0m\u001b[0m\n\u001b[0;32m--> 331\u001b[0;31m             \u001b[0mself\u001b[0m\u001b[0;34m.\u001b[0m\u001b[0madd_documents\u001b[0m\u001b[0;34m(\u001b[0m\u001b[0mcorpus\u001b[0m\u001b[0;34m)\u001b[0m\u001b[0;34m\u001b[0m\u001b[0m\n\u001b[0m\u001b[1;32m    332\u001b[0m \u001b[0;34m\u001b[0m\u001b[0m\n\u001b[1;32m    333\u001b[0m \u001b[0;34m\u001b[0m\u001b[0m\n",
      "\u001b[0;32m/home/piezo/.local/lib/python3.5/site-packages/gensim/models/lsimodel.py\u001b[0m in \u001b[0;36madd_documents\u001b[0;34m(self, corpus, chunksize, decay)\u001b[0m\n\u001b[1;32m    388\u001b[0m                     \u001b[0;32melse\u001b[0m\u001b[0;34m:\u001b[0m\u001b[0;34m\u001b[0m\u001b[0m\n\u001b[1;32m    389\u001b[0m                         \u001b[0;31m# serial version, there is only one \"worker\" (myself) => process the job directly\u001b[0m\u001b[0;34m\u001b[0m\u001b[0;34m\u001b[0m\u001b[0m\n\u001b[0;32m--> 390\u001b[0;31m                         \u001b[0mupdate\u001b[0m \u001b[0;34m=\u001b[0m \u001b[0mProjection\u001b[0m\u001b[0;34m(\u001b[0m\u001b[0mself\u001b[0m\u001b[0;34m.\u001b[0m\u001b[0mnum_terms\u001b[0m\u001b[0;34m,\u001b[0m \u001b[0mself\u001b[0m\u001b[0;34m.\u001b[0m\u001b[0mnum_topics\u001b[0m\u001b[0;34m,\u001b[0m \u001b[0mjob\u001b[0m\u001b[0;34m,\u001b[0m \u001b[0mextra_dims\u001b[0m\u001b[0;34m=\u001b[0m\u001b[0mself\u001b[0m\u001b[0;34m.\u001b[0m\u001b[0mextra_samples\u001b[0m\u001b[0;34m,\u001b[0m \u001b[0mpower_iters\u001b[0m\u001b[0;34m=\u001b[0m\u001b[0mself\u001b[0m\u001b[0;34m.\u001b[0m\u001b[0mpower_iters\u001b[0m\u001b[0;34m)\u001b[0m\u001b[0;34m\u001b[0m\u001b[0m\n\u001b[0m\u001b[1;32m    391\u001b[0m                         \u001b[0;32mdel\u001b[0m \u001b[0mjob\u001b[0m\u001b[0;34m\u001b[0m\u001b[0m\n\u001b[1;32m    392\u001b[0m                         \u001b[0mself\u001b[0m\u001b[0;34m.\u001b[0m\u001b[0mprojection\u001b[0m\u001b[0;34m.\u001b[0m\u001b[0mmerge\u001b[0m\u001b[0;34m(\u001b[0m\u001b[0mupdate\u001b[0m\u001b[0;34m,\u001b[0m \u001b[0mdecay\u001b[0m\u001b[0;34m=\u001b[0m\u001b[0mdecay\u001b[0m\u001b[0;34m)\u001b[0m\u001b[0;34m\u001b[0m\u001b[0m\n",
      "\u001b[0;32m/home/piezo/.local/lib/python3.5/site-packages/gensim/models/lsimodel.py\u001b[0m in \u001b[0;36m__init__\u001b[0;34m(self, m, k, docs, use_svdlibc, power_iters, extra_dims)\u001b[0m\n\u001b[1;32m    127\u001b[0m                     \u001b[0mdocs\u001b[0m\u001b[0;34m,\u001b[0m \u001b[0mk\u001b[0m\u001b[0;34m,\u001b[0m \u001b[0mchunksize\u001b[0m\u001b[0;34m=\u001b[0m\u001b[0msys\u001b[0m\u001b[0;34m.\u001b[0m\u001b[0mmaxsize\u001b[0m\u001b[0;34m,\u001b[0m\u001b[0;34m\u001b[0m\u001b[0m\n\u001b[1;32m    128\u001b[0m                     \u001b[0mnum_terms\u001b[0m\u001b[0;34m=\u001b[0m\u001b[0mm\u001b[0m\u001b[0;34m,\u001b[0m \u001b[0mpower_iters\u001b[0m\u001b[0;34m=\u001b[0m\u001b[0mself\u001b[0m\u001b[0;34m.\u001b[0m\u001b[0mpower_iters\u001b[0m\u001b[0;34m,\u001b[0m\u001b[0;34m\u001b[0m\u001b[0m\n\u001b[0;32m--> 129\u001b[0;31m                     extra_dims=self.extra_dims)\n\u001b[0m\u001b[1;32m    130\u001b[0m             \u001b[0;32melse\u001b[0m\u001b[0;34m:\u001b[0m\u001b[0;34m\u001b[0m\u001b[0m\n\u001b[1;32m    131\u001b[0m                 \u001b[0;32mtry\u001b[0m\u001b[0;34m:\u001b[0m\u001b[0;34m\u001b[0m\u001b[0m\n",
      "\u001b[0;32m/home/piezo/.local/lib/python3.5/site-packages/gensim/models/lsimodel.py\u001b[0m in \u001b[0;36mstochastic_svd\u001b[0;34m(corpus, rank, num_terms, chunksize, extra_dims, power_iters, dtype, eps)\u001b[0m\n\u001b[1;32m    659\u001b[0m         \u001b[0mlogger\u001b[0m\u001b[0;34m.\u001b[0m\u001b[0minfo\u001b[0m\u001b[0;34m(\u001b[0m\u001b[0;34m\"orthonormalizing %s action matrix\"\u001b[0m\u001b[0;34m,\u001b[0m \u001b[0mstr\u001b[0m\u001b[0;34m(\u001b[0m\u001b[0my\u001b[0m\u001b[0;34m.\u001b[0m\u001b[0mshape\u001b[0m\u001b[0;34m)\u001b[0m\u001b[0;34m)\u001b[0m\u001b[0;34m\u001b[0m\u001b[0m\n\u001b[1;32m    660\u001b[0m         \u001b[0my\u001b[0m \u001b[0;34m=\u001b[0m \u001b[0;34m[\u001b[0m\u001b[0my\u001b[0m\u001b[0;34m]\u001b[0m\u001b[0;34m\u001b[0m\u001b[0m\n\u001b[0;32m--> 661\u001b[0;31m         \u001b[0mq\u001b[0m\u001b[0;34m,\u001b[0m \u001b[0m_\u001b[0m \u001b[0;34m=\u001b[0m \u001b[0mmatutils\u001b[0m\u001b[0;34m.\u001b[0m\u001b[0mqr_destroy\u001b[0m\u001b[0;34m(\u001b[0m\u001b[0my\u001b[0m\u001b[0;34m)\u001b[0m  \u001b[0;31m# orthonormalize the range\u001b[0m\u001b[0;34m\u001b[0m\u001b[0m\n\u001b[0m\u001b[1;32m    662\u001b[0m \u001b[0;34m\u001b[0m\u001b[0m\n\u001b[1;32m    663\u001b[0m         \u001b[0mlogger\u001b[0m\u001b[0;34m.\u001b[0m\u001b[0mdebug\u001b[0m\u001b[0;34m(\u001b[0m\u001b[0;34m\"running %i power iterations\"\u001b[0m\u001b[0;34m,\u001b[0m \u001b[0mpower_iters\u001b[0m\u001b[0;34m)\u001b[0m\u001b[0;34m\u001b[0m\u001b[0m\n",
      "\u001b[0;32m/home/piezo/.local/lib/python3.5/site-packages/gensim/matutils.py\u001b[0m in \u001b[0;36mqr_destroy\u001b[0;34m(***failed resolving arguments***)\u001b[0m\n\u001b[1;32m    548\u001b[0m     \u001b[0mgorgqr\u001b[0m\u001b[0;34m,\u001b[0m \u001b[0;34m=\u001b[0m \u001b[0mget_lapack_funcs\u001b[0m\u001b[0;34m(\u001b[0m\u001b[0;34m(\u001b[0m\u001b[0;34m'orgqr'\u001b[0m\u001b[0;34m,\u001b[0m\u001b[0;34m)\u001b[0m\u001b[0;34m,\u001b[0m \u001b[0;34m(\u001b[0m\u001b[0mqr\u001b[0m\u001b[0;34m,\u001b[0m\u001b[0;34m)\u001b[0m\u001b[0;34m)\u001b[0m\u001b[0;34m\u001b[0m\u001b[0m\n\u001b[1;32m    549\u001b[0m     \u001b[0mq\u001b[0m\u001b[0;34m,\u001b[0m \u001b[0mwork\u001b[0m\u001b[0;34m,\u001b[0m \u001b[0minfo\u001b[0m \u001b[0;34m=\u001b[0m \u001b[0mgorgqr\u001b[0m\u001b[0;34m(\u001b[0m\u001b[0mqr\u001b[0m\u001b[0;34m,\u001b[0m \u001b[0mtau\u001b[0m\u001b[0;34m,\u001b[0m \u001b[0mlwork\u001b[0m\u001b[0;34m=\u001b[0m\u001b[0;34m-\u001b[0m\u001b[0;36m1\u001b[0m\u001b[0;34m,\u001b[0m \u001b[0moverwrite_a\u001b[0m\u001b[0;34m=\u001b[0m\u001b[0;32mTrue\u001b[0m\u001b[0;34m)\u001b[0m\u001b[0;34m\u001b[0m\u001b[0m\n\u001b[0;32m--> 550\u001b[0;31m     \u001b[0mq\u001b[0m\u001b[0;34m,\u001b[0m \u001b[0mwork\u001b[0m\u001b[0;34m,\u001b[0m \u001b[0minfo\u001b[0m \u001b[0;34m=\u001b[0m \u001b[0mgorgqr\u001b[0m\u001b[0;34m(\u001b[0m\u001b[0mqr\u001b[0m\u001b[0;34m,\u001b[0m \u001b[0mtau\u001b[0m\u001b[0;34m,\u001b[0m \u001b[0mlwork\u001b[0m\u001b[0;34m=\u001b[0m\u001b[0mwork\u001b[0m\u001b[0;34m[\u001b[0m\u001b[0;36m0\u001b[0m\u001b[0;34m]\u001b[0m\u001b[0;34m,\u001b[0m \u001b[0moverwrite_a\u001b[0m\u001b[0;34m=\u001b[0m\u001b[0;32mTrue\u001b[0m\u001b[0;34m)\u001b[0m\u001b[0;34m\u001b[0m\u001b[0m\n\u001b[0m\u001b[1;32m    551\u001b[0m     \u001b[0;32massert\u001b[0m \u001b[0minfo\u001b[0m \u001b[0;34m>=\u001b[0m \u001b[0;36m0\u001b[0m\u001b[0;34m,\u001b[0m \u001b[0;34m\"qr failed\"\u001b[0m\u001b[0;34m\u001b[0m\u001b[0m\n\u001b[1;32m    552\u001b[0m     \u001b[0;32massert\u001b[0m \u001b[0mq\u001b[0m\u001b[0;34m.\u001b[0m\u001b[0mflags\u001b[0m\u001b[0;34m.\u001b[0m\u001b[0mf_contiguous\u001b[0m\u001b[0;34m\u001b[0m\u001b[0m\n",
      "\u001b[0;31mKeyboardInterrupt\u001b[0m: "
     ]
    }
   ],
   "source": [
    "tfidfmodel = gensim.models.tfidfmodel.TfidfModel(bows, dictionary=dictionary)\n",
    "tfidfs = tfidfmodel[bows]\n",
    "lsimodel = gensim.models.lsimodel.LsiModel(tfidfs, id2word=dictionary)\n",
    "lsimodel.save('lsimodel_bypub')"
   ]
  },
  {
   "cell_type": "code",
   "execution_count": 18,
   "metadata": {
    "collapsed": false
   },
   "outputs": [
    {
     "name": "stdout",
     "output_type": "stream",
     "text": [
      "0 >>> 0.303*\"cancer/NN\" + 0.220*\"breast/NN\" + 0.189*\"mutation/NN\" + 0.163*\"patient/NN\" + 0.161*\"gene/NN\" + 0.148*\"risk/NN\" + 0.132*\"cell/NN\" + 0.114*\"tumor/NN\" + 0.096*\"expression/NN\" + 0.091*\"brca1/NN\" + 0.089*\"woman/NN\" + 0.086*\"family/NN\" + 0.082*\"p/NN\" + 0.081*\"genetic/JJ\" + 0.078*\"model/NN\" + 0.078*\"ovarian/JJ\" + 0.076*\"ci/NN\" + 0.076*\"variant/NN\" + 0.075*\"protein/NN\" + 0.074*\"associate/VB\"\n",
      "1 >>> -0.401*\"cancer/NN\" + -0.348*\"breast/NN\" + -0.211*\"mutation/NN\" + -0.186*\"risk/NN\" + -0.162*\"brca1/NN\" + -0.133*\"woman/NN\" + -0.122*\"brca2/NN\" + -0.115*\"ovarian/JJ\" + 0.106*\"model/NN\" + -0.105*\"carrier/NN\" + -0.098*\"ci/NN\" + 0.094*\"system/NN\" + 0.085*\"method/NN\" + 0.074*\"network/NN\" + 0.074*\"structure/NN\" + 0.070*\"approach/NN\" + 0.069*\"protein/NN\" + 0.069*\"sequence/NN\" + 0.069*\"cell/NN\" + -0.068*\"family/NN\"\n",
      "2 >>> -0.326*\"cell/NN\" + -0.290*\"gene/NN\" + -0.215*\"expression/NN\" + -0.160*\"mutation/NN\" + -0.154*\"protein/NN\" + 0.141*\"risk/NN\" + -0.126*\"tumor/NN\" + 0.120*\"patient/NN\" + 0.116*\"woman/NN\" + -0.115*\"mouse/NN\" + -0.094*\"human/JJ\" + 0.093*\"ci/NN\" + -0.093*\"genome/NN\" + 0.088*\"model/NN\" + -0.085*\"dna/NN\" + 0.076*\"breast/NN\" + 0.076*\"method/NN\" + 0.075*\"image/NN\" + 0.074*\"cancer/NN\" + 0.074*\"year/NN\"\n",
      "3 >>> 0.365*\"patient/NN\" + -0.274*\"mutation/NN\" + 0.225*\"cell/NN\" + -0.190*\"brca1/NN\" + 0.152*\"tumor/NN\" + 0.144*\"treatment/NN\" + -0.144*\"brca2/NN\" + 0.136*\"survival/NN\" + -0.122*\"family/NN\" + -0.107*\"sequence/NN\" + -0.106*\"genome/NN\" + -0.101*\"carrier/NN\" + 0.099*\"therapy/NN\" + -0.096*\"gene/NN\" + -0.096*\"variant/NN\" + 0.093*\"p/NN\" + 0.092*\"month/NN\" + -0.091*\"breast/NN\" + 0.086*\"expression/NN\" + 0.084*\"group/NN\"\n",
      "4 >>> 0.486*\"mutation/NN\" + 0.346*\"patient/NN\" + -0.342*\"breast/NN\" + -0.260*\"cancer/NN\" + -0.205*\"cell/NN\" + 0.117*\"syndrome/NN\" + -0.112*\"risk/NN\" + 0.111*\"family/NN\" + -0.100*\"expression/NN\" + 0.092*\"clinical/JJ\" + -0.087*\"woman/NN\" + 0.083*\"brca1/NN\" + 0.082*\"disease/NN\" + -0.069*\"association/NN\" + 0.068*\"brca2/NN\" + 0.067*\"disorder/NN\" + -0.065*\"snp/NN\" + 0.064*\"deletion/NN\" + -0.062*\"receptor/NN\" + 0.062*\"carrier/NN\"\n",
      "5 >>> -0.241*\"mutation/NN\" + -0.224*\"collision/NN\" + -0.165*\"decay/NN\" + -0.163*\"gev/NN\" + -0.152*\"tev/NN\" + -0.150*\"detector/NN\" + -0.148*\"measurement/NN\" + -0.143*\"boson/NN\" + -0.142*\"production/NN\" + -0.135*\"cross/NN\" + -0.131*\"section/NN\" + -0.131*\"brca1/NN\" + -0.131*\"mass/NN\" + -0.130*\"energy/NN\" + -0.128*\"jet/NN\" + 0.119*\"genome/NN\" + -0.116*\"quark/NN\" + -0.115*\"search/NN\" + -0.107*\"b/NN\" + -0.106*\"limit/NN\"\n",
      "6 >>> 0.224*\"cell/NN\" + 0.211*\"mutation/NN\" + -0.192*\"snp/NN\" + -0.186*\"genome/NN\" + 0.181*\"brca1/NN\" + -0.176*\"gene/NN\" + 0.166*\"tumor/NN\" + -0.164*\"association/NN\" + -0.150*\"risk/NN\" + -0.130*\"[number]/NN\" + -0.124*\"p/NN\" + -0.121*\"variant/NN\" + -0.119*\"sequence/NN\" + 0.115*\"brca2/NN\" + -0.114*\"polymorphism/NN\" + -0.113*\"locus/NN\" + -0.113*\"genetic/JJ\" + -0.108*\"specie/NN\" + 0.102*\"breast/NN\" + 0.092*\"system/NN\"\n",
      "7 >>> -0.262*\"tumor/NN\" + -0.150*\"gene/NN\" + 0.141*\"risk/NN\" + -0.130*\"genome/NN\" + -0.115*\"patient/NN\" + -0.115*\"algorithm/NN\" + 0.111*\"mutation/NN\" + -0.108*\"expression/NN\" + 0.103*\"carrier/NN\" + 0.102*\"water/NN\" + -0.100*\"sequence/NN\" + 0.100*\"temperature/NN\" + 0.098*\"woman/NN\" + -0.096*\"collision/NN\" + 0.095*\"soil/NN\" + 0.094*\"effect/NN\" + -0.094*\"cancer/NN\" + -0.092*\"search/NN\" + 0.083*\"brca1/NN\" + 0.081*\"plant/NN\"\n",
      "8 >>> -0.268*\"breast/NN\" + -0.244*\"genome/NN\" + -0.180*\"specie/NN\" + 0.179*\"snp/NN\" + -0.177*\"sequence/NN\" + 0.175*\"variant/NN\" + 0.172*\"association/NN\" + 0.172*\"risk/NN\" + -0.151*\"brca1/NN\" + -0.138*\"plant/NN\" + 0.122*\"cell/NN\" + -0.113*\"strain/NN\" + 0.112*\"prostate/NN\" + 0.109*\"network/NN\" + -0.107*\"soil/NN\" + 0.101*\"crc/NN\" + -0.097*\"patient/NN\" + 0.093*\"brain/NN\" + -0.093*\"genome/JJ\" + 0.092*\"control/NN\"\n",
      "9 >>> -0.266*\"tumor/NN\" + 0.148*\"woman/NN\" + -0.140*\"snp/NN\" + -0.140*\"laser/NN\" + 0.135*\"protein/NN\" + -0.135*\"optical/JJ\" + 0.112*\"network/NN\" + -0.106*\"temperature/NN\" + 0.092*\"health/NN\" + 0.090*\"brca1/NN\" + 0.090*\"research/NN\" + -0.084*\"surface/NN\" + -0.082*\"variant/NN\" + 0.082*\"ontology/NN\" + 0.081*\"care/NN\" + -0.081*\"frequency/NN\" + -0.079*\"p/NN\" + -0.079*\"association/NN\" + 0.079*\"information/NN\" + -0.078*\"dna/NN\"\n",
      "10 >>> 0.342*\"breast/NN\" + -0.277*\"cancer/NN\" + 0.242*\"brca1/NN\" + -0.174*\"colorectal/JJ\" + -0.156*\"cell/NN\" + 0.155*\"brain/NN\" + -0.143*\"crc/NN\" + 0.140*\"brca2/NN\" + -0.140*\"prostate/NN\" + 0.125*\"image/NN\" + 0.114*\"expression/NN\" + 0.107*\"gene/NN\" + -0.100*\"ovarian/JJ\" + -0.097*\"soil/NN\" + 0.087*\"p/NN\" + -0.086*\"family/NN\" + -0.083*\"tumor/NN\" + 0.082*\"variant/NN\" + -0.080*\"plant/NN\" + -0.080*\"endometrial/JJ\"\n",
      "11 >>> -0.230*\"protein/NN\" + 0.196*\"breast/NN\" + 0.187*\"gene/NN\" + -0.178*\"sequence/NN\" + 0.160*\"tumor/NN\" + -0.152*\"ovarian/JJ\" + -0.142*\"cell/NN\" + -0.141*\"ci/NN\" + 0.140*\"expression/NN\" + 0.131*\"soil/NN\" + -0.122*\"genome/NN\" + -0.119*\"algorithm/NN\" + 0.113*\"brain/NN\" + -0.111*\"risk/NN\" + -0.108*\"p/NN\" + 0.102*\"change/NN\" + -0.101*\"brca1/NN\" + -0.096*\"structure/NN\" + 0.095*\"climate/NN\" + -0.085*\"[number]/NN\"\n",
      "12 >>> 0.365*\"brca1/NN\" + 0.298*\"ovarian/JJ\" + -0.262*\"protein/NN\" + -0.261*\"breast/NN\" + 0.244*\"cell/NN\" + 0.225*\"brca2/NN\" + -0.160*\"cancer/NN\" + 0.134*\"carrier/NN\" + -0.111*\"syndrome/NN\" + -0.109*\"family/NN\" + -0.102*\"structure/NN\" + -0.097*\"patient/NN\" + -0.092*\"complex/NN\" + 0.090*\"snp/NN\" + 0.086*\"tumor/NN\" + 0.085*\"model/NN\" + -0.081*\"domain/NN\" + 0.080*\"p/NN\" + -0.078*\"interaction/NN\" + 0.076*\"[number]/NN\"\n",
      "13 >>> 0.296*\"cell/NN\" + -0.264*\"network/NN\" + -0.218*\"gene/NN\" + 0.190*\"image/NN\" + -0.183*\"expression/NN\" + 0.166*\"genome/NN\" + -0.158*\"protein/NN\" + -0.137*\"p/NN\" + -0.136*\"model/NN\" + -0.132*\"survival/NN\" + -0.103*\"plant/NN\" + 0.101*\"brain/NN\" + -0.100*\"soil/NN\" + 0.098*\"chromosome/NN\" + 0.097*\"sequence/NN\" + 0.092*\"breast/NN\" + 0.091*\"woman/NN\" + -0.090*\"ci/NN\" + -0.089*\"interaction/NN\" + -0.087*\"[number]/NN\"\n",
      "14 >>> 0.274*\"variant/NN\" + -0.244*\"woman/NN\" + 0.211*\"snp/NN\" + -0.189*\"image/NN\" + 0.175*\"brca1/NN\" + -0.164*\"ci/NN\" + 0.145*\"patient/NN\" + -0.136*\"risk/NN\" + 0.126*\"breast/NN\" + -0.120*\"expression/NN\" + -0.116*\"algorithm/NN\" + -0.114*\"methylation/NN\" + 0.113*\"genetic/JJ\" + -0.112*\"age/NN\" + 0.112*\"brca2/NN\" + -0.103*\"mutation/NN\" + 0.102*\"treatment/NN\" + -0.100*\"crc/NN\" + -0.099*\"colorectal/JJ\" + -0.094*\"endometrial/JJ\"\n",
      "15 >>> 0.379*\"ovarian/JJ\" + 0.250*\"gene/NN\" + -0.219*\"breast/NN\" + -0.181*\"mutation/NN\" + 0.180*\"laser/NN\" + 0.167*\"cancer/NN\" + -0.156*\"tumor/NN\" + -0.151*\"cell/NN\" + 0.148*\"optical/JJ\" + -0.135*\"soil/NN\" + 0.134*\"expression/NN\" + 0.124*\"network/NN\" + -0.113*\"algorithm/NN\" + -0.111*\"p/NN\" + 0.104*\"brca1/NN\" + -0.103*\"[number]/NN\" + -0.102*\"image/NN\" + -0.095*\"variant/NN\" + 0.095*\"methylation/NN\" + 0.087*\"pulse/NN\"\n",
      "16 >>> 0.259*\"image/NN\" + -0.210*\"cell/NN\" + 0.193*\"tumor/NN\" + 0.184*\"ovarian/JJ\" + 0.168*\"brain/NN\" + -0.163*\"gene/NN\" + 0.160*\"protein/NN\" + -0.151*\"breast/NN\" + 0.147*\"soil/NN\" + 0.128*\"cancer/NN\" + 0.122*\"dna/NN\" + -0.121*\"woman/NN\" + 0.115*\"prostate/NN\" + -0.112*\"laser/NN\" + 0.107*\"brca1/NN\" + 0.106*\"methylation/NN\" + -0.104*\"problem/NN\" + -0.101*\"model/NN\" + -0.099*\"network/NN\" + 0.083*\"imaging/NN\"\n",
      "17 >>> 0.379*\"network/NN\" + -0.238*\"gene/NN\" + -0.217*\"image/NN\" + -0.208*\"expression/NN\" + 0.128*\"brain/NN\" + 0.126*\"model/NN\" + -0.122*\"iron/NN\" + 0.115*\"genome/NN\" + 0.107*\"tumor/NN\" + -0.102*\"ontology/NN\" + 0.102*\"graph/NN\" + 0.094*\"interaction/NN\" + 0.094*\"cell/NN\" + 0.092*\"region/NN\" + 0.089*\"chromosome/NN\" + -0.086*\"laser/NN\" + -0.086*\"method/NN\" + -0.085*\"tissue/NN\" + -0.084*\"mouse/NN\" + 0.081*\"neural/JJ\"\n",
      "18 >>> 0.325*\"tumor/NN\" + 0.266*\"dna/NN\" + -0.259*\"image/NN\" + 0.257*\"methylation/NN\" + -0.226*\"cancer/NN\" + -0.170*\"patient/NN\" + -0.167*\"ovarian/JJ\" + -0.167*\"plant/NN\" + -0.129*\"prostate/NN\" + 0.110*\"woman/NN\" + 0.110*\"brca1/NN\" + -0.109*\"gene/NN\" + -0.107*\"family/NN\" + -0.105*\"algorithm/NN\" + -0.092*\"cell/NN\" + 0.089*\"child/NN\" + 0.086*\"ontology/NN\" + 0.082*\"health/NN\" + -0.077*\"specie/NN\" + -0.077*\"segmentation/NN\"\n",
      "19 >>> 0.261*\"[number]/NN\" + 0.257*\"b/NN\" + 0.253*\"+/-/JJ\" + 0.206*\"decay/NN\" + 0.190*\"network/NN\" + -0.159*\"model/NN\" + -0.149*\"collision/NN\" + -0.145*\"dna/NN\" + 0.134*\"p/NN\" + 0.131*\"\\to/NN\" + 0.117*\"--/:\" + -0.114*\"methylation/NN\" + 0.100*\"fraction/NN\" + -0.099*\"jet/NN\" + 0.099*\"plant/NN\" + 0.094*\"syst/NN\" + 0.093*\"+-/JJ\" + -0.093*\"virus/NN\" + -0.091*\"protein/NN\" + -0.090*\"variant/NN\"\n",
      "20 >>> 0.388*\"methylation/NN\" + 0.386*\"dna/NN\" + -0.339*\"tumor/NN\" + 0.129*\"cancer/NN\" + 0.118*\"cell/NN\" + 0.118*\"b/NN\" + -0.117*\"woman/NN\" + 0.114*\"+/-/JJ\" + -0.114*\"ovarian/JJ\" + 0.105*\"patient/NN\" + 0.101*\"repair/NN\" + 0.099*\"promoter/NN\" + -0.098*\"protein/NN\" + -0.098*\"receptor/NN\" + 0.093*\"soil/NN\" + 0.091*\"decay/NN\" + 0.085*\"epigenetic/JJ\" + 0.080*\"variant/NN\" + -0.080*\"genome/NN\" + -0.074*\"ontology/NN\"\n",
      "21 >>> 0.410*\"de/IN\" + 0.383*\"de/FW\" + 0.305*\"de/NN\" + 0.258*\"le/NN\" + 0.240*\"la/FW\" + 0.176*\"à/NN\" + 0.150*\"la/NN\" + 0.147*\"les/VB\" + 0.145*\"et/FW\" + 0.144*\"une/JJ\" + 0.135*\"dans/NN\" + 0.125*\"un/JJ\" + 0.119*\"en/FW\" + -0.100*\"network/NN\" + 0.093*\"du/NN\" + 0.084*\"ovarian/JJ\" + -0.083*\"virus/NN\" + 0.082*\"ce/NN\" + 0.082*\"est/JJ\" + 0.080*\"par/NN\"\n",
      "22 >>> -0.235*\"strain/NN\" + 0.224*\"protein/NN\" + 0.194*\"cell/NN\" + -0.190*\"mouse/NN\" + -0.148*\"network/NN\" + -0.138*\"iron/NN\" + -0.122*\"infection/NN\" + -0.122*\"virus/NN\" + -0.118*\"genome/NN\" + -0.117*\"response/NN\" + -0.116*\"drug/NN\" + 0.113*\"family/NN\" + -0.112*\"cancer/NN\" + 0.105*\"chromosome/NN\" + -0.104*\"resistance/NN\" + 0.098*\"domain/NN\" + -0.091*\"mutation/NN\" + 0.091*\"woman/NN\" + 0.090*\"structure/NN\" + 0.089*\"ontology/NN\"\n",
      "23 >>> -0.321*\"ovarian/JJ\" + 0.243*\"plant/NN\" + 0.178*\"cell/NN\" + -0.175*\"virus/NN\" + -0.141*\"b/NN\" + -0.131*\"mouse/NN\" + -0.131*\"infection/NN\" + 0.131*\"methylation/NN\" + 0.126*\"ci/NN\" + 0.124*\"mutation/NN\" + -0.123*\"tumor/NN\" + -0.117*\"+/-/JJ\" + 0.112*\"dna/NN\" + -0.107*\"decay/NN\" + -0.105*\"iron/NN\" + 0.105*\"carrier/NN\" + -0.103*\"woman/NN\" + 0.094*\"laser/NN\" + -0.092*\"model/NN\" + 0.089*\"crc/NN\"\n",
      "24 >>> -0.322*\"network/NN\" + 0.226*\"mouse/NN\" + -0.181*\"virus/NN\" + 0.180*\"genome/NN\" + 0.179*\"iron/NN\" + -0.170*\"infection/NN\" + -0.159*\"image/NN\" + 0.140*\"model/NN\" + -0.139*\"soil/NN\" + 0.136*\"sequence/NN\" + -0.128*\"plant/NN\" + -0.100*\"host/NN\" + -0.095*\"de/IN\" + 0.095*\"prostate/NN\" + -0.095*\"strain/NN\" + 0.087*\"receptor/NN\" + -0.087*\"woman/NN\" + -0.084*\"hpv/NN\" + 0.083*\"cancer/NN\" + -0.083*\"viral/JJ\"\n",
      "25 >>> -0.260*\"network/NN\" + 0.223*\"plant/NN\" + 0.208*\"problem/NN\" + 0.184*\"algorithm/NN\" + 0.147*\"ovarian/JJ\" + -0.137*\"image/NN\" + 0.136*\"adhd/NN\" + -0.135*\"genome/NN\" + -0.132*\"model/NN\" + -0.132*\"virus/NN\" + 0.119*\"family/NN\" + 0.119*\"child/NN\" + -0.117*\"ontology/NN\" + -0.114*\"mutation/NN\" + -0.110*\"annotation/NN\" + 0.108*\"methylation/NN\" + 0.104*\"tumor/NN\" + -0.099*\"ci/NN\" + -0.097*\"human/JJ\" + -0.096*\"risk/NN\"\n",
      "26 >>> 0.354*\"ovarian/JJ\" + -0.292*\"brca1/NN\" + 0.284*\"mutation/NN\" + -0.195*\"crc/NN\" + -0.190*\"brca2/NN\" + -0.185*\"prostate/NN\" + 0.182*\"woman/NN\" + 0.171*\"soil/NN\" + -0.169*\"variant/NN\" + -0.163*\"tumor/NN\" + 0.161*\"snp/NN\" + -0.156*\"family/NN\" + -0.141*\"colorectal/JJ\" + 0.117*\"dna/NN\" + -0.101*\"carrier/NN\" + -0.091*\"protein/NN\" + -0.089*\"network/NN\" + -0.082*\"risk/NN\" + -0.078*\"specie/NN\" + -0.074*\"men/NN\"\n",
      "27 >>> -0.392*\"iron/NN\" + -0.264*\"network/NN\" + -0.197*\"mouse/NN\" + 0.174*\"virus/NN\" + 0.142*\"expression/NN\" + 0.137*\"protein/NN\" + -0.127*\"dna/NN\" + -0.126*\"soil/NN\" + -0.122*\"chromosome/NN\" + -0.116*\"hepcidin/NN\" + -0.113*\"methylation/NN\" + 0.107*\"response/NN\" + 0.103*\"prostate/NN\" + 0.100*\"rna/NN\" + -0.086*\"syndrome/NN\" + 0.086*\"receptor/NN\" + -0.083*\"liver/NN\" + -0.083*\"patient/NN\" + 0.081*\"adhd/NN\" + -0.073*\"graph/NN\"\n",
      "28 >>> 0.400*\"soil/NN\" + -0.290*\"plant/NN\" + 0.212*\"variant/NN\" + -0.180*\"methylation/NN\" + -0.142*\"model/NN\" + 0.137*\"cell/NN\" + -0.127*\"image/NN\" + 0.123*\"sequence/NN\" + -0.111*\"system/NN\" + 0.110*\"community/NN\" + -0.109*\"dna/NN\" + 0.101*\"network/NN\" + -0.099*\"specie/NN\" + 0.095*\"microbial/JJ\" + 0.095*\"crc/NN\" + 0.093*\"expression/NN\" + -0.090*\"virus/NN\" + 0.089*\"algorithm/NN\" + -0.087*\"iron/NN\" + 0.085*\"gene/NN\"\n",
      "29 >>> -0.310*\"variant/NN\" + -0.288*\"plant/NN\" + 0.251*\"prostate/NN\" + -0.178*\"model/NN\" + -0.166*\"risk/NN\" + 0.164*\"p/NN\" + -0.162*\"soil/NN\" + -0.140*\"woman/NN\" + 0.129*\"ontology/NN\" + -0.124*\"tumor/NN\" + 0.109*\"group/NN\" + -0.107*\"genome/NN\" + 0.105*\"strain/NN\" + 0.102*\"cancer/NN\" + -0.096*\"crc/NN\" + 0.094*\"mutation/NN\" + 0.093*\"specie/NN\" + -0.089*\"ovarian/JJ\" + 0.088*\"chromosome/NN\" + -0.088*\"decay/NN\"\n",
      "30 >>> -0.268*\"soil/NN\" + 0.236*\"network/NN\" + 0.161*\"genetic/JJ\" + -0.141*\"virus/NN\" + -0.138*\"system/NN\" + -0.133*\"prostate/NN\" + 0.128*\"woman/NN\" + -0.121*\"problem/NN\" + 0.118*\"method/NN\" + -0.110*\"infection/NN\" + -0.108*\"case/NN\" + -0.107*\"tumor/NN\" + 0.102*\"population/NN\" + 0.100*\"trait/NN\" + -0.100*\"plant/NN\" + -0.091*\"child/NN\" + -0.090*\"epilepsy/NN\" + -0.088*\"language/NN\" + -0.087*\"algorithm/NN\" + 0.086*\"model/NN\"\n",
      "31 >>> 0.396*\"prostate/NN\" + -0.273*\"crc/NN\" + 0.179*\"soil/NN\" + 0.174*\"protein/NN\" + -0.169*\"colorectal/JJ\" + -0.156*\"strain/NN\" + -0.149*\"gene/NN\" + 0.128*\"laser/NN\" + 0.126*\"men/NN\" + -0.115*\"ovarian/JJ\" + 0.115*\"channel/NN\" + 0.113*\"network/NN\" + 0.101*\"mutation/NN\" + -0.100*\"system/NN\" + -0.094*\"ontology/NN\" + -0.094*\"mmr/NN\" + 0.085*\"mouse/NN\" + 0.084*\"plant/NN\" + -0.083*\"repair/NN\" + -0.082*\"mlh1/NN\"\n",
      "32 >>> 0.235*\"iron/NN\" + -0.229*\"gene/NN\" + -0.222*\"prostate/NN\" + -0.209*\"risk/NN\" + 0.193*\"ovarian/JJ\" + -0.164*\"drug/NN\" + 0.162*\"protein/NN\" + 0.156*\"laser/NN\" + -0.137*\"chromosome/NN\" + -0.133*\"soil/NN\" + 0.127*\"p/NN\" + -0.108*\"image/NN\" + 0.106*\"specie/NN\" + 0.102*\"variant/NN\" + 0.102*\"crc/NN\" + 0.091*\"mouse/NN\" + -0.088*\"model/NN\" + 0.087*\"population/NN\" + -0.084*\"therapy/NN\" + 0.084*\"colorectal/JJ\"\n",
      "33 >>> 0.372*\"iron/NN\" + -0.265*\"strain/NN\" + 0.206*\"image/NN\" + -0.188*\"model/NN\" + -0.130*\"muscle/NN\" + -0.128*\"ovarian/JJ\" + 0.125*\"algorithm/NN\" + -0.124*\"system/NN\" + -0.123*\"p/NN\" + 0.106*\"hepcidin/NN\" + -0.105*\"protein/NN\" + 0.097*\"rna/NN\" + 0.094*\"structure/NN\" + 0.093*\"drug/NN\" + 0.089*\"graph/NN\" + 0.088*\"population/NN\" + 0.083*\"genetic/JJ\" + 0.082*\"problem/NN\" + 0.079*\"treatment/NN\" + 0.078*\"chemotherapy/NN\"\n",
      "34 >>> 0.337*\"soil/NN\" + -0.296*\"variant/NN\" + 0.217*\"chromosome/NN\" + 0.209*\"mouse/NN\" + 0.167*\"crc/NN\" + 0.124*\"model/NN\" + -0.124*\"prostate/NN\" + 0.123*\"colorectal/JJ\" + -0.115*\"plant/NN\" + -0.108*\"temperature/NN\" + 0.103*\"locus/NN\" + 0.102*\"[number]/NN\" + -0.098*\"melanoma/NN\" + -0.095*\"ontology/NN\" + 0.093*\"family/NN\" + -0.088*\"graph/NN\" + 0.087*\"protein/NN\" + 0.083*\"snp/NN\" + 0.082*\"region/NN\" + 0.082*\"receptor/NN\"\n",
      "35 >>> -0.308*\"image/NN\" + -0.220*\"network/NN\" + 0.212*\"iron/NN\" + -0.183*\"p/NN\" + -0.170*\"[number]/NN\" + 0.122*\"brain/NN\" + -0.115*\"tumor/NN\" + 0.107*\"specie/NN\" + 0.103*\"structure/NN\" + -0.102*\"algorithm/NN\" + 0.101*\"patient/NN\" + -0.101*\"virus/NN\" + 0.099*\"strain/NN\" + -0.098*\"chromosome/NN\" + 0.094*\"population/NN\" + 0.093*\"survival/NN\" + 0.091*\"model/NN\" + 0.091*\"ontology/NN\" + 0.090*\"risk/NN\" + -0.089*\"child/NN\"\n",
      "36 >>> 0.302*\"iron/NN\" + 0.285*\"adhd/NN\" + 0.247*\"child/NN\" + -0.197*\"receptor/NN\" + 0.185*\"[number]/NN\" + -0.164*\"specie/NN\" + 0.161*\"strain/NN\" + 0.159*\"p/NN\" + 0.156*\"model/NN\" + 0.125*\"disorder/NN\" + 0.124*\"plant/NN\" + -0.116*\"ontology/NN\" + 0.116*\"virus/NN\" + 0.113*\"genome/NN\" + -0.105*\"variant/NN\" + 0.100*\"cell/NN\" + -0.096*\"population/NN\" + -0.093*\"risk/NN\" + 0.079*\"hepcidin/NN\" + 0.078*\"snp/NN\"\n",
      "37 >>> -0.351*\"variant/NN\" + 0.230*\"snp/NN\" + -0.192*\"strain/NN\" + -0.171*\"image/NN\" + -0.169*\"mouse/NN\" + -0.159*\"p/NN\" + -0.152*\"survival/NN\" + -0.133*\"methylation/NN\" + -0.128*\"epilepsy/NN\" + -0.127*\"[number]/NN\" + 0.126*\"protein/NN\" + 0.124*\"patient/NN\" + -0.121*\"channel/NN\" + -0.112*\"genetic/JJ\" + 0.110*\"plant/NN\" + 0.107*\"crc/NN\" + 0.101*\"chromosome/NN\" + 0.094*\"polymorphism/NN\" + 0.092*\"colorectal/JJ\" + 0.088*\"risk/NN\"\n",
      "38 >>> 0.244*\"p/NN\" + -0.193*\"protein/NN\" + -0.192*\"strain/NN\" + 0.171*\"[number]/NN\" + -0.167*\"child/NN\" + -0.158*\"epilepsy/NN\" + 0.149*\"virus/NN\" + -0.134*\"seizure/NN\" + -0.126*\"adhd/NN\" + 0.118*\"rna/NN\" + -0.114*\"search/NN\" + -0.112*\"boson/NN\" + -0.111*\"laser/NN\" + 0.110*\"collision/NN\" + 0.110*\"genome/NN\" + -0.107*\"image/NN\" + -0.105*\"higgs/NN\" + -0.094*\"mass/NN\" + 0.091*\"expression/NN\" + 0.090*\"receptor/NN\"\n",
      "39 >>> -0.233*\"chromosome/NN\" + -0.209*\"virus/NN\" + 0.197*\"strain/NN\" + 0.193*\"snp/NN\" + -0.159*\"ontology/NN\" + -0.143*\"plant/NN\" + -0.142*\"variant/NN\" + -0.137*\"deletion/NN\" + -0.135*\"epilepsy/NN\" + 0.122*\"methylation/NN\" + 0.113*\"risk/NN\" + -0.112*\"prostate/NN\" + -0.111*\"seizure/NN\" + -0.109*\"hpv/NN\" + 0.109*\"image/NN\" + 0.105*\"melanoma/NN\" + -0.103*\"channel/NN\" + 0.096*\"sequence/NN\" + -0.094*\"infection/NN\" + -0.093*\"ci/NN\"\n",
      "40 >>> -0.300*\"family/NN\" + -0.209*\"melanoma/NN\" + -0.185*\"model/NN\" + -0.163*\"boson/NN\" + -0.152*\"higgs/NN\" + -0.152*\"woman/NN\" + -0.140*\"search/NN\" + -0.138*\"[number]/NN\" + 0.122*\"mouse/NN\" + -0.113*\"prostate/NN\" + -0.110*\"receptor/NN\" + -0.108*\"p/NN\" + -0.108*\"iron/NN\" + 0.108*\"crc/NN\" + 0.102*\"colorectal/JJ\" + 0.101*\"collision/NN\" + -0.100*\"sequence/NN\" + 0.096*\"epilepsy/NN\" + 0.093*\"protein/NN\" + -0.093*\"limit/NN\"\n",
      "41 >>> -0.258*\"epilepsy/NN\" + -0.231*\"channel/NN\" + -0.217*\"receptor/NN\" + 0.200*\"chromosome/NN\" + -0.195*\"seizure/NN\" + -0.179*\"crc/NN\" + 0.168*\"protein/NN\" + -0.167*\"methylation/NN\" + 0.161*\"variant/NN\" + 0.158*\"melanoma/NN\" + 0.126*\"system/NN\" + -0.119*\"expression/NN\" + -0.107*\"child/NN\" + 0.102*\"strain/NN\" + -0.101*\"genome/NN\" + -0.101*\"drug/NN\" + 0.095*\"iron/NN\" + 0.094*\"woman/NN\" + 0.092*\"lung/NN\" + 0.091*\"deletion/NN\"\n",
      "42 >>> -0.324*\"ontology/NN\" + 0.227*\"system/NN\" + 0.184*\"channel/NN\" + -0.182*\"adhd/NN\" + -0.179*\"model/NN\" + -0.167*\"mouse/NN\" + 0.166*\"receptor/NN\" + -0.143*\"structure/NN\" + 0.132*\"iron/NN\" + -0.127*\"soil/NN\" + 0.121*\"strain/NN\" + -0.120*\"virus/NN\" + -0.098*\"group/NN\" + 0.098*\"detection/NN\" + -0.098*\"annotation/NN\" + -0.096*\"laser/NN\" + 0.091*\"membrane/NN\" + 0.091*\"epilepsy/NN\" + -0.091*\"child/NN\" + 0.090*\"expression/NN\"\n",
      "43 >>> 0.246*\"boson/NN\" + 0.234*\"higgs/NN\" + 0.202*\"search/NN\" + -0.202*\"family/NN\" + -0.179*\"collision/NN\" + -0.163*\"ontology/NN\" + 0.154*\"mass/NN\" + -0.147*\"measurement/NN\" + 0.145*\"limit/NN\" + -0.134*\"receptor/NN\" + -0.121*\"momentum/NN\" + -0.105*\"child/NN\" + -0.097*\"+/-/JJ\" + -0.095*\"adhd/NN\" + -0.094*\"epilepsy/NN\" + -0.092*\"methylation/NN\" + -0.090*\"network/NN\" + 0.090*\"p/NN\" + -0.089*\"jet/NN\" + -0.087*\"strain/NN\"\n",
      "44 >>> 0.246*\"woman/NN\" + 0.215*\"snp/NN\" + -0.207*\"adhd/NN\" + -0.174*\"receptor/NN\" + 0.172*\"mouse/NN\" + 0.158*\"tumor/NN\" + -0.132*\"disorder/NN\" + -0.126*\"ci/NN\" + -0.125*\"lung/NN\" + 0.117*\"strain/NN\" + 0.114*\"prostate/NN\" + -0.113*\"tumour/NN\" + 0.102*\"channel/NN\" + 0.101*\"group/NN\" + -0.100*\"p/NN\" + -0.100*\"specie/NN\" + 0.100*\"epilepsy/NN\" + -0.098*\"disease/NN\" + 0.096*\"surgery/NN\" + -0.095*\"ovarian/JJ\"\n",
      "45 >>> -0.451*\"melanoma/NN\" + -0.240*\"family/NN\" + -0.187*\"child/NN\" + 0.187*\"woman/NN\" + 0.173*\"strain/NN\" + 0.156*\"receptor/NN\" + 0.149*\"prostate/NN\" + 0.145*\"ontology/NN\" + -0.129*\"system/NN\" + -0.121*\"rna/NN\" + -0.120*\"seizure/NN\" + -0.120*\"epilepsy/NN\" + -0.083*\"metastasis/NN\" + 0.082*\"problem/NN\" + 0.081*\"genetic/JJ\" + 0.075*\"algorithm/NN\" + -0.074*\"mouse/NN\" + -0.074*\"survival/NN\" + -0.073*\"pancreatic/JJ\" + 0.072*\"/sub/NN\"\n",
      "46 >>> 0.340*\"melanoma/NN\" + 0.215*\"methylation/NN\" + -0.174*\"adhd/NN\" + -0.166*\"child/NN\" + -0.153*\"group/NN\" + 0.150*\"strain/NN\" + -0.150*\"specie/NN\" + -0.147*\"receptor/NN\" + 0.137*\"algorithm/NN\" + -0.136*\"snp/NN\" + 0.130*\"protein/NN\" + 0.130*\"brain/NN\" + -0.128*\"prostate/NN\" + 0.114*\"graph/NN\" + -0.111*\"system/NN\" + 0.108*\"resistance/NN\" + 0.107*\"risk/NN\" + -0.101*\"image/NN\" + 0.099*\"chromosome/NN\" + 0.099*\"genetic/JJ\"\n",
      "47 >>> -0.197*\"[number]/NN\" + -0.191*\"drug/NN\" + 0.179*\"receptor/NN\" + 0.162*\"image/NN\" + 0.161*\"patient/NN\" + -0.157*\"specie/NN\" + 0.148*\"genome/NN\" + 0.122*\"boson/NN\" + 0.122*\"higgs/NN\" + -0.112*\"p/NN\" + 0.108*\"care/NN\" + -0.107*\"eye/NN\" + 0.102*\"soil/NN\" + 0.101*\"genetic/JJ\" + -0.097*\"therapy/NN\" + -0.092*\"protein/NN\" + -0.091*\"ci/NN\" + 0.091*\"health/NN\" + 0.088*\"b/NN\" + 0.088*\"temperature/NN\"\n",
      "48 >>> 0.227*\"tumor/NN\" + -0.215*\"mouse/NN\" + -0.187*\"hpv/NN\" + 0.178*\"risk/NN\" + -0.174*\"receptor/NN\" + -0.172*\"tumour/NN\" + -0.150*\"adhd/NN\" + 0.149*\"iron/NN\" + -0.140*\"melanoma/NN\" + 0.137*\"group/NN\" + -0.137*\"survival/NN\" + 0.132*\"virus/NN\" + 0.131*\"cell/NN\" + 0.119*\"gene/NN\" + -0.118*\"woman/NN\" + -0.114*\"plant/NN\" + 0.111*\"patient/NN\" + -0.110*\"lung/NN\" + -0.109*\"cervical/JJ\" + -0.102*\"lesion/NN\"\n",
      "49 >>> -0.216*\"melanoma/NN\" + -0.185*\"channel/NN\" + -0.183*\"protein/NN\" + 0.175*\"plant/NN\" + -0.172*\"membrane/NN\" + 0.170*\"sequence/NN\" + 0.155*\"rna/NN\" + 0.154*\"strain/NN\" + 0.153*\"lung/NN\" + -0.149*\"genome/NN\" + -0.121*\"woman/NN\" + -0.118*\"ontology/NN\" + -0.111*\"gene/NN\" + 0.107*\"compound/NN\" + -0.099*\"hpv/NN\" + -0.098*\"muscle/NN\" + -0.097*\"response/NN\" + -0.097*\"dna/NN\" + 0.092*\"mouse/NN\" + 0.089*\"/sub/NN\"\n",
      "50 >>> 0.211*\"lung/NN\" + -0.177*\"methylation/NN\" + -0.175*\"prostate/NN\" + -0.173*\"mouse/NN\" + 0.162*\"ontology/NN\" + -0.150*\"adhd/NN\" + -0.125*\"patient/NN\" + 0.124*\"brca1/NN\" + 0.123*\"''/''\" + -0.123*\"system/NN\" + 0.123*\"``/``\" + 0.118*\"epilepsy/NN\" + 0.117*\"snp/NN\" + 0.104*\"hpv/NN\" + -0.103*\"ovarian/JJ\" + -0.102*\"tumor/NN\" + 0.100*\"tumour/NN\" + 0.099*\"carcinoma/NN\" + -0.099*\"surface/NN\" + 0.098*\"pathway/NN\"\n",
      "51 >>> 0.192*\"lung/NN\" + 0.159*\"plant/NN\" + -0.152*\"/sub/NN\" + -0.136*\"genetic/JJ\" + -0.129*\"carrier/NN\" + -0.126*\"sub/VB\" + 0.123*\"iron/NN\" + 0.122*\"surface/NN\" + -0.117*\"laser/NN\" + -0.117*\"acid/NN\" + -0.110*\"system/NN\" + 0.110*\"ci/NN\" + -0.109*\"survival/NN\" + 0.107*\"receptor/NN\" + 0.101*\"network/NN\" + -0.097*\"rna/NN\" + -0.096*\"syndrome/NN\" + 0.095*\"care/NN\" + -0.091*\"c/NN\" + 0.087*\"variant/NN\"\n",
      "52 >>> 0.290*\"melanoma/NN\" + -0.272*\"methylation/NN\" + -0.207*\"family/NN\" + 0.182*\"dna/NN\" + -0.132*\"genome/NN\" + -0.126*\"system/NN\" + -0.120*\"protein/NN\" + 0.112*\"rna/NN\" + -0.112*\"``/``\" + -0.111*\"''/''\" + -0.110*\"soil/NN\" + 0.105*\"patient/NN\" + -0.105*\"survival/NN\" + 0.104*\"risk/NN\" + 0.102*\"channel/NN\" + -0.100*\"lung/NN\" + -0.099*\"tumour/NN\" + 0.097*\"simulation/NN\" + 0.097*\"specie/NN\" + -0.096*\"brain/NN\"\n",
      "53 >>> -0.248*\"family/NN\" + -0.195*\"lung/NN\" + -0.192*\"mouse/NN\" + 0.173*\"melanoma/NN\" + -0.162*\"dna/NN\" + -0.156*\"gene/NN\" + 0.153*\"crc/NN\" + 0.126*\"iron/NN\" + -0.119*\"specie/NN\" + 0.118*\"tumour/NN\" + 0.117*\"line/NN\" + -0.116*\"tumor/NN\" + 0.115*\"resistance/NN\" + 0.111*\"rna/NN\" + 0.111*\"muscle/NN\" + 0.105*\"expression/NN\" + 0.100*\"methylation/NN\" + 0.100*\"prostate/NN\" + 0.095*\"eye/NN\" + 0.094*\"variant/NN\"\n",
      "54 >>> 0.196*\"group/NN\" + -0.188*\"rna/NN\" + 0.188*\"mouse/NN\" + 0.163*\"lung/NN\" + 0.154*\"channel/NN\" + -0.151*\"syndrome/NN\" + 0.138*\"model/NN\" + 0.133*\"/sub/NN\" + 0.128*\"eye/NN\" + -0.117*\"family/NN\" + -0.116*\"response/NN\" + 0.113*\"visual/JJ\" + 0.113*\"gene/NN\" + 0.109*\"sub/VB\" + -0.107*\"sequence/NN\" + -0.105*\"stress/NN\" + 0.104*\"laser/NN\" + 0.103*\"membrane/NN\" + -0.103*\"ontology/NN\" + 0.101*\"adhd/NN\"\n",
      "55 >>> -0.298*\"adhd/NN\" + -0.172*\"+/-/JJ\" + -0.166*\"rna/NN\" + -0.163*\"channel/NN\" + 0.141*\"b/NN\" + 0.139*\"receptor/NN\" + 0.135*\"``/``\" + 0.134*\"''/''\" + -0.128*\"lung/NN\" + 0.126*\"snp/NN\" + -0.126*\"resistance/NN\" + -0.124*\"crc/NN\" + 0.124*\"model/NN\" + 0.115*\"epilepsy/NN\" + -0.110*\"metastasis/NN\" + 0.109*\"melanoma/NN\" + 0.109*\"dna/NN\" + 0.108*\"child/NN\" + -0.102*\"locus/NN\" + 0.098*\"ci/NN\"\n",
      "56 >>> -0.168*\"receptor/NN\" + -0.160*\"adhd/NN\" + -0.149*\"group/NN\" + -0.141*\"+/-/JJ\" + -0.137*\"system/NN\" + -0.131*\"melanoma/NN\" + 0.130*\"eye/NN\" + -0.129*\"tumour/NN\" + 0.129*\"visual/JJ\" + 0.128*\"response/NN\" + 0.123*\"disease/NN\" + -0.121*\"ontology/NN\" + 0.116*\"mouse/NN\" + 0.115*\"stress/NN\" + -0.109*\"brain/NN\" + -0.108*\"chromosome/NN\" + -0.099*\"laser/NN\" + 0.098*\"''/''\" + 0.097*\"``/``\" + 0.095*\"rna/NN\"\n",
      "57 >>> -0.238*\"lung/NN\" + -0.206*\"risk/NN\" + -0.147*\"sequence/NN\" + 0.145*\"mortality/NN\" + 0.140*\"melanoma/NN\" + -0.132*\"epilepsy/NN\" + -0.131*\"expression/NN\" + -0.131*\"channel/NN\" + 0.116*\"year/NN\" + -0.115*\"c/NN\" + -0.114*\"carcinoma/NN\" + 0.111*\"method/NN\" + 0.110*\"ontology/NN\" + 0.109*\"receptor/NN\" + -0.106*\"''/''\" + -0.105*\"``/``\" + -0.101*\"rna/NN\" + 0.099*\"age/NN\" + 0.099*\"rate/NN\" + 0.098*\"gene/NN\"\n",
      "58 >>> -0.212*\"muscle/NN\" + -0.202*\"+/-/JJ\" + 0.167*\"ontology/NN\" + -0.138*\"structure/NN\" + -0.138*\"fiber/NN\" + 0.137*\"c/NN\" + 0.123*\"temperature/NN\" + 0.114*\"te/NN\" + -0.114*\"lung/NN\" + -0.113*\"gene/NN\" + -0.111*\"receptor/NN\" + 0.106*\"network/NN\" + 0.103*\"[number]/NN\" + -0.102*\"memory/NN\" + 0.101*\"system/NN\" + -0.097*\"optical/JJ\" + 0.096*\"germ/NN\" + 0.096*\"mouse/NN\" + 0.093*\"testis/NN\" + -0.092*\"graph/NN\"\n",
      "59 >>> 0.206*\"channel/NN\" + -0.179*\"/sub/NN\" + -0.171*\"child/NN\" + -0.147*\"sub/VB\" + 0.141*\"acid/NN\" + 0.140*\"adhd/NN\" + -0.140*\"protein/NN\" + 0.138*\"muscle/NN\" + -0.137*\"+/-/JJ\" + -0.121*\"epilepsy/NN\" + 0.115*\"ci/NN\" + 0.112*\"``/``\" + 0.111*\"''/''\" + 0.105*\"alcohol/NN\" + -0.105*\"seizure/NN\" + -0.103*\"surgery/NN\" + -0.100*\"film/NN\" + 0.098*\"disorder/NN\" + 0.098*\"water/NN\" + -0.097*\"lung/NN\"\n",
      "60 >>> -0.272*\"lung/NN\" + 0.196*\"''/''\" + 0.196*\"``/``\" + 0.156*\"dna/NN\" + -0.148*\"epilepsy/NN\" + 0.127*\"muscle/NN\" + 0.124*\"survival/NN\" + -0.118*\"patient/NN\" + -0.112*\"system/NN\" + 0.112*\"repair/NN\" + 0.112*\"ci/NN\" + 0.108*\"hr/NN\" + 0.105*\"resistance/NN\" + 0.105*\"adhd/NN\" + -0.101*\"seizure/NN\" + 0.099*\"sequence/NN\" + -0.098*\"woman/NN\" + -0.097*\"structure/NN\" + -0.097*\"methylation/NN\" + 0.097*\"/sub/NN\"\n",
      "61 >>> 0.187*\"tumour/NN\" + 0.181*\"alcohol/NN\" + -0.170*\"adhd/NN\" + -0.161*\"system/NN\" + -0.156*\"/sub/NN\" + -0.155*\"''/''\" + -0.153*\"``/``\" + 0.151*\"chromosome/NN\" + -0.138*\"melanoma/NN\" + 0.133*\"sequence/NN\" + -0.129*\"sub/VB\" + -0.124*\"lung/NN\" + 0.123*\"p53/NN\" + -0.119*\"population/NN\" + -0.116*\"rna/NN\" + 0.116*\"eye/NN\" + 0.114*\"water/NN\" + -0.108*\"endometrial/JJ\" + 0.106*\"virus/NN\" + 0.105*\"carcinoma/NN\"\n",
      "62 >>> 0.239*\"/sub/NN\" + 0.196*\"sub/VB\" + 0.176*\"ontology/NN\" + 0.166*\"fiber/NN\" + 0.152*\"group/NN\" + 0.147*\"crc/NN\" + -0.147*\"temperature/NN\" + 0.144*\"rna/NN\" + -0.140*\"sequence/NN\" + 0.133*\"risk/NN\" + -0.125*\"gene/NN\" + -0.120*\"resistance/NN\" + -0.108*\"endometrial/JJ\" + -0.107*\"drug/NN\" + 0.106*\"muscle/NN\" + 0.104*\"optical/JJ\" + -0.103*\"laser/NN\" + -0.095*\"c/NN\" + -0.094*\"database/NN\" + 0.092*\"surface/NN\"\n",
      "63 >>> -0.259*\"ontology/NN\" + 0.190*\"hpv/NN\" + -0.160*\"rna/NN\" + -0.159*\"lung/NN\" + 0.151*\"mouse/NN\" + -0.142*\"eye/NN\" + 0.124*\"patient/NN\" + 0.120*\"language/NN\" + 0.112*\"drug/NN\" + -0.107*\"visual/JJ\" + 0.106*\"sequence/NN\" + 0.101*\"cervical/JJ\" + 0.100*\"melanoma/NN\" + -0.099*\"ci/NN\" + 0.090*\"fiber/NN\" + -0.089*\"noise/NN\" + -0.089*\"child/NN\" + -0.088*\"disease/NN\" + 0.086*\"optical/JJ\" + 0.086*\"specie/NN\"\n",
      "64 >>> -0.328*\"''/''\" + -0.324*\"``/``\" + 0.215*\"/sub/NN\" + 0.178*\"sub/VB\" + -0.153*\"+/-/JJ\" + 0.151*\"muscle/NN\" + 0.138*\"specie/NN\" + 0.132*\"ci/NN\" + -0.127*\"graph/NN\" + 0.126*\"care/NN\" + -0.123*\"risk/NN\" + 0.114*\"eye/NN\" + 0.108*\"system/NN\" + -0.105*\"laser/NN\" + 0.105*\"sequence/NN\" + 0.098*\"channel/NN\" + 0.094*\"health/NN\" + 0.086*\"endometrial/JJ\" + 0.085*\"problem/NN\" + -0.081*\"p/NN\"\n",
      "65 >>> -0.253*\"p53/NN\" + 0.175*\"endometrial/JJ\" + -0.175*\"system/NN\" + -0.162*\"+/-/JJ\" + 0.142*\"methylation/NN\" + 0.137*\"snp/NN\" + 0.135*\"syndrome/NN\" + 0.134*\"specie/NN\" + -0.133*\"/sub/NN\" + -0.133*\"genetic/JJ\" + -0.133*\"drug/NN\" + -0.125*\"hpv/NN\" + -0.120*\"population/NN\" + 0.114*\"receptor/NN\" + -0.110*\"sub/VB\" + 0.108*\"lung/NN\" + -0.108*\"expression/NN\" + 0.107*\"melanoma/NN\" + 0.105*\"virus/NN\" + 0.105*\"temperature/NN\"\n",
      "66 >>> -0.223*\"water/NN\" + -0.218*\"carrier/NN\" + 0.214*\"temperature/NN\" + 0.161*\"crc/NN\" + 0.129*\"group/NN\" + -0.127*\"risk/NN\" + 0.118*\"tumour/NN\" + -0.113*\"adhd/NN\" + -0.112*\"lung/NN\" + 0.111*\"c/NN\" + 0.110*\"p53/NN\" + -0.108*\"genetic/JJ\" + -0.102*\"system/NN\" + 0.102*\"brca1/NN\" + 0.100*\"hpv/NN\" + 0.096*\"iron/NN\" + 0.094*\"alcohol/NN\" + 0.092*\"+/-/JJ\" + 0.090*\"thermal/JJ\" + 0.089*\"soil/NN\"\n",
      "67 >>> 0.220*\"alcohol/NN\" + -0.202*\"child/NN\" + 0.199*\"+/-/JJ\" + 0.188*\"rna/NN\" + 0.184*\"endometrial/JJ\" + -0.179*\"crc/NN\" + -0.145*\"c/NN\" + -0.133*\"disease/NN\" + 0.124*\"syndrome/NN\" + -0.124*\"b/NN\" + 0.118*\"channel/NN\" + 0.101*\"laser/NN\" + 0.101*\"/sub/NN\" + -0.092*\"muscle/NN\" + 0.090*\"snp/NN\" + -0.088*\"hpv/NN\" + -0.088*\"risk/NN\" + -0.088*\"liver/NN\" + 0.086*\"deletion/NN\" + 0.086*\"brca1/NN\"\n",
      "68 >>> 0.222*\"p53/NN\" + -0.197*\"sequence/NN\" + -0.180*\"/sub/NN\" + -0.156*\"crc/NN\" + -0.148*\"sub/VB\" + 0.144*\"graph/NN\" + 0.133*\"model/NN\" + 0.132*\"activity/NN\" + -0.130*\"energy/NN\" + -0.121*\"system/NN\" + 0.118*\"snp/NN\" + 0.118*\"deletion/NN\" + 0.117*\"hpv/NN\" + 0.108*\"ontology/NN\" + -0.103*\"response/NN\" + -0.097*\"receptor/NN\" + 0.094*\"human/JJ\" + -0.092*\"chromosome/NN\" + 0.092*\"ci/NN\" + 0.092*\"expression/NN\"\n",
      "69 >>> -0.246*\"graph/NN\" + 0.156*\"``/``\" + 0.156*\"''/''\" + 0.147*\"patient/NN\" + 0.144*\"adhd/NN\" + -0.142*\"snp/NN\" + 0.134*\"hpv/NN\" + -0.134*\"language/NN\" + -0.131*\"crc/NN\" + -0.123*\"disease/NN\" + 0.121*\"endometrial/JJ\" + 0.119*\"ontology/NN\" + -0.115*\"group/NN\" + -0.111*\"rna/NN\" + -0.109*\"system/NN\" + 0.109*\"epilepsy/NN\" + 0.104*\"problem/NN\" + 0.100*\"resistance/NN\" + 0.087*\"[number]/NN\" + -0.086*\"word/NN\"\n",
      "70 >>> -0.270*\"endometrial/JJ\" + 0.233*\"muscle/NN\" + -0.218*\"group/NN\" + 0.167*\"hpv/NN\" + 0.154*\"system/NN\" + -0.135*\"b/NN\" + 0.130*\"crc/NN\" + -0.124*\"p53/NN\" + 0.121*\"growth/NN\" + -0.111*\"woman/NN\" + 0.106*\"temperature/NN\" + 0.105*\"cervical/JJ\" + 0.102*\"alcohol/NN\" + 0.100*\"laser/NN\" + -0.096*\"tumour/NN\" + -0.094*\"channel/NN\" + -0.094*\"melanoma/NN\" + -0.092*\"simulation/NN\" + 0.092*\"ovarian/JJ\" + -0.090*\"fiber/NN\"\n",
      "71 >>> 0.226*\"+/-/JJ\" + -0.215*\"muscle/NN\" + -0.210*\"graph/NN\" + -0.167*\"pain/NN\" + 0.140*\"sequence/NN\" + 0.137*\"model/NN\" + 0.135*\"particle/NN\" + -0.121*\"structure/NN\" + 0.120*\"nanoparticles/NN\" + 0.112*\"group/NN\" + -0.112*\"genome/NN\" + 0.112*\"``/``\" + 0.111*\"''/''\" + -0.107*\"[number]/NN\" + 0.103*\"disease/NN\" + 0.099*\"rna/NN\" + 0.096*\"collision/NN\" + 0.096*\"epilepsy/NN\" + 0.094*\"woman/NN\" + 0.092*\"specie/NN\"\n",
      "72 >>> 0.241*\"alcohol/NN\" + -0.197*\"ci/NN\" + 0.137*\"system/NN\" + -0.132*\"dna/NN\" + 0.123*\"+/-/JJ\" + 0.120*\"ontology/NN\" + 0.112*\"child/NN\" + 0.106*\"leukemia/NN\" + -0.105*\"adhd/NN\" + 0.104*\"/sub/NN\" + -0.104*\"epilepsy/NN\" + 0.099*\"''/''\" + 0.099*\"``/``\" + 0.095*\"response/NN\" + 0.093*\"channel/NN\" + -0.092*\"particle/NN\" + -0.091*\"germ/NN\" + 0.091*\"methylation/NN\" + 0.091*\"mouse/NN\" + 0.085*\"sub/VB\"\n",
      "73 >>> 0.190*\"+/-/JJ\" + 0.168*\"fiber/NN\" + 0.154*\"alcohol/NN\" + 0.142*\"virus/NN\" + -0.133*\"deletion/NN\" + -0.129*\"family/NN\" + 0.123*\"c/NN\" + 0.120*\"melanoma/NN\" + 0.118*\"germ/NN\" + 0.118*\"receptor/NN\" + -0.116*\"laser/NN\" + -0.112*\"tumour/NN\" + 0.110*\"optical/JJ\" + 0.109*\"temperature/NN\" + 0.103*\"sequence/NN\" + 0.096*\"water/NN\" + -0.092*\"expression/NN\" + -0.092*\"mouse/NN\" + 0.089*\"testis/NN\" + -0.089*\"carcinoma/NN\"\n",
      "74 >>> 0.176*\"graph/NN\" + 0.161*\"resistance/NN\" + 0.151*\"drug/NN\" + -0.135*\"risk/NN\" + -0.132*\"deletion/NN\" + -0.131*\"p53/NN\" + 0.109*\"laser/NN\" + -0.108*\"genetic/JJ\" + -0.106*\"growth/NN\" + 0.106*\"dna/NN\" + 0.104*\"pain/NN\" + 0.104*\"system/NN\" + 0.102*\"alcohol/NN\" + -0.100*\"group/NN\" + 0.099*\"specie/NN\" + -0.098*\"tumour/NN\" + 0.095*\"rna/NN\" + -0.093*\"trial/NN\" + 0.092*\"variant/NN\" + -0.092*\"/sub/NN\"\n",
      "75 >>> -0.262*\"group/NN\" + -0.195*\"p53/NN\" + 0.150*\"carrier/NN\" + -0.141*\"system/NN\" + 0.136*\"drug/NN\" + -0.135*\"b/NN\" + -0.132*\"water/NN\" + -0.122*\"trait/NN\" + -0.121*\"qtl/NN\" + -0.109*\"complex/NN\" + 0.107*\"membrane/NN\" + 0.105*\"+/-/JJ\" + -0.105*\"endometrial/JJ\" + 0.103*\"memory/NN\" + 0.101*\"metastasis/NN\" + 0.099*\"snp/NN\" + -0.098*\"response/NN\" + -0.095*\"locus/NN\" + 0.093*\"/sub/NN\" + 0.093*\"acid/NN\"\n",
      "76 >>> 0.326*\"+/-/JJ\" + -0.211*\"alcohol/NN\" + 0.191*\"problem/NN\" + -0.152*\"[number]/NN\" + -0.130*\"system/NN\" + 0.123*\"chromosome/NN\" + -0.122*\"b/NN\" + -0.120*\"drug/NN\" + -0.115*\"nanoparticles/NN\" + -0.109*\"population/NN\" + -0.103*\"genetic/JJ\" + 0.101*\"section/NN\" + 0.099*\"te/NN\" + -0.098*\"sequence/NN\" + -0.095*\"particle/NN\" + 0.094*\"activity/NN\" + -0.094*\"fiber/NN\" + 0.093*\"cross/NN\" + 0.093*\"water/NN\" + 0.092*\"laser/NN\"\n",
      "77 >>> 0.159*\"hpv/NN\" + -0.149*\"group/NN\" + -0.149*\"laser/NN\" + 0.144*\"rna/NN\" + 0.140*\"model/NN\" + -0.139*\"alcohol/NN\" + 0.138*\"pain/NN\" + 0.138*\"nanoparticles/NN\" + 0.131*\"algorithm/NN\" + -0.128*\"virus/NN\" + -0.124*\"crc/NN\" + 0.123*\"chromosome/NN\" + -0.114*\"deletion/NN\" + 0.108*\"channel/NN\" + -0.105*\"method/NN\" + 0.104*\"fiber/NN\" + 0.103*\"particle/NN\" + -0.102*\"prostate/NN\" + 0.102*\"germ/NN\" + -0.097*\"c/NN\"\n",
      "78 >>> -0.175*\"laser/NN\" + 0.149*\"ontology/NN\" + 0.142*\"muscle/NN\" + 0.136*\"ozone/NN\" + -0.131*\"brain/NN\" + -0.127*\"/sub/NN\" + -0.125*\"chromosome/NN\" + -0.124*\"rna/NN\" + 0.115*\"tumour/NN\" + -0.114*\"``/``\" + -0.113*\"''/''\" + -0.112*\"hpv/NN\" + 0.107*\"te/NN\" + -0.105*\"c/NN\" + -0.104*\"model/NN\" + -0.103*\"sub/VB\" + 0.100*\"system/NN\" + -0.094*\"method/NN\" + -0.089*\"water/NN\" + -0.086*\"language/NN\"\n",
      "79 >>> 0.209*\"p53/NN\" + 0.166*\"system/NN\" + 0.166*\"structure/NN\" + -0.161*\"problem/NN\" + -0.158*\"c/NN\" + -0.157*\"alcohol/NN\" + -0.154*\"muscle/NN\" + 0.138*\"virus/NN\" + -0.137*\"rna/NN\" + -0.129*\"child/NN\" + -0.125*\"group/NN\" + 0.122*\"sequence/NN\" + 0.119*\"community/NN\" + 0.116*\"graph/NN\" + 0.109*\"algorithm/NN\" + 0.100*\"adhd/NN\" + 0.094*\"stress/NN\" + 0.090*\"noise/NN\" + 0.090*\"tumour/NN\" + 0.087*\"acid/NN\"\n",
      "80 >>> -0.214*\"laser/NN\" + 0.211*\"graph/NN\" + -0.161*\"water/NN\" + -0.160*\"algorithm/NN\" + 0.155*\"adhd/NN\" + -0.151*\"disease/NN\" + 0.149*\"ozone/NN\" + 0.133*\"risk/NN\" + -0.132*\"muscle/NN\" + -0.125*\"group/NN\" + 0.114*\"fiber/NN\" + 0.112*\"optical/JJ\" + 0.110*\"mouse/NN\" + 0.104*\"specie/NN\" + 0.102*\"eye/NN\" + 0.101*\"c/NN\" + -0.096*\"te/NN\" + -0.090*\"control/NN\" + -0.089*\"pain/NN\" + -0.088*\"surface/NN\"\n",
      "81 >>> 0.222*\"ci/NN\" + -0.200*\"p53/NN\" + 0.172*\"tumour/NN\" + 0.144*\"+/-/JJ\" + -0.137*\"patient/NN\" + 0.133*\"water/NN\" + -0.128*\"alcohol/NN\" + 0.125*\"rna/NN\" + -0.122*\"specie/NN\" + -0.120*\"muscle/NN\" + 0.118*\"acid/NN\" + 0.109*\"pain/NN\" + 0.108*\"care/NN\" + -0.101*\"[number]/NN\" + 0.101*\"hr/NN\" + 0.099*\"group/NN\" + -0.095*\"age/NN\" + 0.091*\"response/NN\" + -0.089*\"ozone/NN\" + -0.088*\"activity/NN\"\n",
      "82 >>> -0.190*\"muscle/NN\" + -0.182*\"resistance/NN\" + 0.164*\"disease/NN\" + -0.124*\"sequence/NN\" + -0.123*\"endometrial/JJ\" + -0.117*\"membrane/NN\" + 0.114*\"alcohol/NN\" + -0.113*\"response/NN\" + 0.109*\"human/JJ\" + 0.108*\"memory/NN\" + 0.107*\"receptor/NN\" + 0.101*\"effect/NN\" + 0.101*\"chromosome/NN\" + -0.097*\"laser/NN\" + 0.096*\"gene/NN\" + -0.094*\"ontology/NN\" + 0.091*\"hpv/NN\" + 0.089*\"syndrome/NN\" + -0.088*\"state/NN\" + 0.088*\"graph/NN\"\n",
      "83 >>> 0.222*\"water/NN\" + 0.195*\"graph/NN\" + -0.186*\"ozone/NN\" + -0.166*\"alcohol/NN\" + 0.156*\"memory/NN\" + 0.139*\"/sub/NN\" + 0.129*\"c/NN\" + -0.129*\"problem/NN\" + 0.127*\"specie/NN\" + 0.114*\"sub/VB\" + -0.112*\"algorithm/NN\" + -0.100*\"rna/NN\" + 0.099*\"test/NN\" + -0.099*\"membrane/NN\" + -0.095*\"temperature/NN\" + -0.092*\"p/NN\" + -0.084*\"section/NN\" + -0.082*\"plant/NN\" + 0.082*\"deletion/NN\" + 0.081*\"equation/NN\"\n",
      "84 >>> 0.242*\"graph/NN\" + 0.153*\"noise/NN\" + 0.148*\"endometrial/JJ\" + -0.146*\"fiber/NN\" + 0.140*\"phase/NN\" + -0.130*\"ozone/NN\" + 0.125*\"muscle/NN\" + -0.115*\"optical/JJ\" + -0.110*\"expression/NN\" + 0.108*\"activity/NN\" + 0.106*\"genetic/JJ\" + 0.101*\"flow/NN\" + 0.099*\"chromosome/NN\" + -0.099*\"change/NN\" + -0.097*\"rat/NN\" + 0.097*\"alcohol/NN\" + 0.093*\"c/NN\" + 0.090*\"laser/NN\" + 0.088*\"gene/NN\" + 0.087*\"community/NN\"\n",
      "85 >>> 0.208*\"p53/NN\" + 0.179*\"water/NN\" + 0.171*\"tumour/NN\" + 0.143*\"resistance/NN\" + -0.142*\"chromosome/NN\" + -0.138*\"endometrial/JJ\" + 0.122*\"language/NN\" + -0.121*\"stress/NN\" + 0.115*\"''/''\" + 0.112*\"``/``\" + 0.110*\"fiber/NN\" + -0.109*\"epilepsy/NN\" + -0.107*\"research/NN\" + 0.103*\"brain/NN\" + 0.102*\"lung/NN\" + -0.097*\"hpv/NN\" + -0.092*\"human/JJ\" + -0.092*\"rat/NN\" + 0.090*\"syndrome/NN\" + -0.089*\"seizure/NN\"\n",
      "86 >>> -0.267*\"pain/NN\" + 0.156*\"water/NN\" + -0.146*\"group/NN\" + -0.142*\"activity/NN\" + -0.129*\"syndrome/NN\" + -0.125*\"ozone/NN\" + -0.116*\"lung/NN\" + -0.113*\"metastasis/NN\" + 0.111*\"energy/NN\" + 0.108*\"rna/NN\" + -0.106*\"carrier/NN\" + 0.105*\"p53/NN\" + -0.099*\"temperature/NN\" + -0.099*\"compound/NN\" + 0.093*\"receptor/NN\" + 0.092*\"memory/NN\" + -0.090*\"community/NN\" + 0.087*\"tumour/NN\" + 0.087*\"milk/NN\" + 0.086*\"strain/NN\"\n",
      "87 >>> -0.271*\"p53/NN\" + -0.201*\"carrier/NN\" + 0.155*\"graph/NN\" + 0.147*\"te/NN\" + -0.131*\"rna/NN\" + -0.119*\"muscle/NN\" + 0.109*\"factor/NN\" + -0.109*\"pain/NN\" + -0.108*\"soil/NN\" + -0.108*\"specie/NN\" + -0.107*\"receptor/NN\" + 0.099*\"adhd/NN\" + 0.099*\"element/NN\" + -0.098*\"mitochondrial/JJ\" + -0.094*\"genetic/JJ\" + -0.094*\"test/NN\" + -0.088*\"methylation/NN\" + -0.087*\"noise/NN\" + 0.086*\"metastasis/NN\" + 0.084*\"optical/JJ\"\n",
      "88 >>> 0.191*\"group/NN\" + -0.154*\"te/NN\" + -0.149*\"ci/NN\" + 0.132*\"graph/NN\" + -0.131*\"algorithm/NN\" + -0.127*\"c/NN\" + -0.119*\"alcohol/NN\" + -0.114*\"rat/NN\" + 0.113*\"channel/NN\" + -0.109*\"adhd/NN\" + 0.105*\"risk/NN\" + -0.102*\"prostate/NN\" + 0.101*\"resistance/NN\" + 0.101*\"hpv/NN\" + -0.097*\"stress/NN\" + -0.096*\"laser/NN\" + 0.094*\"disease/NN\" + 0.093*\"sequence/NN\" + -0.092*\"response/NN\" + 0.092*\"system/NN\"\n",
      "89 >>> 0.297*\"pain/NN\" + 0.169*\"+/-/JJ\" + -0.143*\"carrier/NN\" + -0.142*\"muscle/NN\" + 0.131*\"ci/NN\" + -0.127*\"b/NN\" + -0.127*\"chromosome/NN\" + -0.123*\"lung/NN\" + 0.120*\"endometrial/JJ\" + 0.116*\"liver/NN\" + 0.116*\"child/NN\" + 0.114*\"brain/NN\" + 0.110*\"metastasis/NN\" + 0.108*\"bone/NN\" + 0.106*\"fa/NN\" + -0.102*\"p/NN\" + -0.102*\"drug/NN\" + -0.092*\"renal/JJ\" + -0.092*\"methylation/NN\" + 0.090*\"genetic/JJ\"\n",
      "90 >>> -0.192*\"ozone/NN\" + -0.189*\"sequence/NN\" + -0.156*\"graph/NN\" + 0.131*\"community/NN\" + -0.128*\"p53/NN\" + 0.122*\"genome/NN\" + 0.120*\"phase/NN\" + -0.109*\"laser/NN\" + -0.105*\"polymorphism/NN\" + -0.105*\"channel/NN\" + 0.105*\"water/NN\" + -0.101*\"deletion/NN\" + 0.099*\"chromosome/NN\" + -0.097*\"surface/NN\" + -0.095*\"acid/NN\" + -0.094*\"te/NN\" + -0.093*\"field/NN\" + -0.092*\"repeat/NN\" + 0.091*\"drug/NN\" + 0.090*\"complex/NN\"\n",
      "91 >>> 0.286*\"noise/NN\" + -0.208*\"p53/NN\" + -0.183*\"algorithm/NN\" + -0.160*\"carrier/NN\" + -0.124*\"system/NN\" + -0.113*\"method/NN\" + 0.110*\"frequency/NN\" + 0.109*\"problem/NN\" + -0.108*\"fiber/NN\" + 0.108*\"crc/NN\" + 0.104*\"tumour/NN\" + 0.102*\"fa/NN\" + -0.099*\"muscle/NN\" + 0.092*\"woman/NN\" + -0.091*\"endometrial/JJ\" + -0.090*\"mass/NN\" + 0.088*\"pain/NN\" + -0.087*\"element/NN\" + -0.084*\"care/NN\" + 0.082*\"model/NN\"\n",
      "92 >>> 0.173*\"temperature/NN\" + 0.173*\"muscle/NN\" + -0.166*\"syndrome/NN\" + 0.148*\"tumour/NN\" + 0.138*\"problem/NN\" + 0.132*\"endometrial/JJ\" + 0.121*\"collision/NN\" + -0.117*\"algorithm/NN\" + 0.113*\"disease/NN\" + -0.110*\"section/NN\" + 0.103*\"[number]/NN\" + -0.103*\"infection/NN\" + 0.099*\"laser/NN\" + -0.098*\"cross/NN\" + 0.094*\"community/NN\" + 0.092*\"stress/NN\" + -0.092*\"+/-/JJ\" + -0.090*\"energy/NN\" + 0.087*\"receptor/NN\" + -0.085*\"snp/NN\"\n",
      "93 >>> 0.217*\"pain/NN\" + -0.148*\"genetic/JJ\" + 0.148*\"method/NN\" + 0.142*\"carcinoma/NN\" + -0.134*\"tumour/NN\" + -0.131*\"hpv/NN\" + -0.129*\"laser/NN\" + -0.128*\"child/NN\" + -0.112*\"te/NN\" + 0.111*\"c/NN\" + 0.111*\"+/-/JJ\" + 0.107*\"p/NN\" + 0.096*\"renal/JJ\" + -0.096*\"test/NN\" + 0.089*\"p53/NN\" + -0.089*\"ozone/NN\" + 0.088*\"family/NN\" + 0.088*\"control/NN\" + -0.087*\"water/NN\" + 0.086*\"crc/NN\"\n",
      "94 >>> 0.171*\"alcohol/NN\" + 0.166*\"+/-/JJ\" + -0.154*\"pain/NN\" + -0.132*\"strain/NN\" + 0.126*\"expression/NN\" + -0.122*\"b/NN\" + 0.111*\"acid/NN\" + -0.107*\"drug/NN\" + -0.107*\"interaction/NN\" + -0.106*\"system/NN\" + -0.099*\"liver/NN\" + -0.093*\"rat/NN\" + -0.093*\"water/NN\" + -0.090*\"nanoparticles/NN\" + -0.088*\"renal/JJ\" + 0.085*\"collision/NN\" + -0.085*\"eye/NN\" + -0.083*\"problem/NN\" + 0.082*\"bone/NN\" + 0.081*\"lesion/NN\"\n",
      "95 >>> -0.176*\"memory/NN\" + -0.144*\"tumour/NN\" + -0.128*\"information/NN\" + 0.125*\"resistance/NN\" + 0.124*\"carrier/NN\" + -0.122*\"endometrial/JJ\" + 0.121*\"membrane/NN\" + 0.120*\"hpv/NN\" + 0.111*\"stress/NN\" + -0.104*\"image/NN\" + 0.102*\"lesion/NN\" + 0.101*\"channel/NN\" + -0.098*\"problem/NN\" + -0.097*\"task/NN\" + 0.097*\"group/NN\" + -0.096*\"model/NN\" + 0.089*\"change/NN\" + -0.089*\"genetic/JJ\" + 0.087*\"te/NN\" + -0.086*\"event/NN\"\n",
      "96 >>> 0.214*\"pain/NN\" + -0.150*\"noise/NN\" + 0.149*\"energy/NN\" + -0.148*\"ozone/NN\" + -0.146*\"water/NN\" + -0.136*\"c/NN\" + -0.133*\"muscle/NN\" + -0.128*\"group/NN\" + -0.128*\"rna/NN\" + -0.119*\"resistance/NN\" + -0.115*\"algorithm/NN\" + -0.111*\"health/NN\" + -0.109*\"structure/NN\" + -0.106*\"brain/NN\" + 0.105*\"ci/NN\" + 0.105*\"activity/NN\" + 0.104*\"problem/NN\" + 0.104*\"p53/NN\" + 0.099*\"change/NN\" + -0.094*\"te/NN\"\n",
      "97 >>> 0.143*\"activity/NN\" + 0.137*\"te/NN\" + -0.136*\"ozone/NN\" + -0.126*\"liver/NN\" + 0.120*\"element/NN\" + -0.117*\"collision/NN\" + -0.112*\"family/NN\" + -0.109*\"snp/NN\" + -0.108*\"child/NN\" + 0.107*\"stress/NN\" + 0.107*\"section/NN\" + 0.107*\"energy/NN\" + -0.105*\"structure/NN\" + 0.096*\"annotation/NN\" + 0.095*\"drug/NN\" + 0.092*\"database/NN\" + 0.091*\"cross/NN\" + 0.091*\"population/NN\" + 0.088*\"tumour/NN\" + -0.086*\"film/NN\"\n",
      "98 >>> 0.163*\"rna/NN\" + 0.162*\"pain/NN\" + -0.145*\"expression/NN\" + -0.136*\"simulation/NN\" + -0.125*\"syndrome/NN\" + 0.122*\"genotype/NN\" + 0.110*\"pathway/NN\" + 0.102*\"mlh1/NN\" + 0.100*\"p/NN\" + 0.097*\"metastasis/NN\" + 0.096*\"gondii/NN\" + -0.095*\"sequence/NN\" + 0.092*\"polymorphism/NN\" + 0.092*\"event/NN\" + 0.091*\"algorithm/NN\" + -0.090*\"tissue/NN\" + 0.088*\"t/NN\" + -0.087*\"pancreatic/JJ\" + -0.087*\"temperature/NN\" + 0.085*\"msh2/NN\"\n",
      "99 >>> -0.144*\"algorithm/NN\" + -0.132*\"strain/NN\" + 0.131*\"tumour/NN\" + -0.122*\"classification/NN\" + 0.117*\"complex/NN\" + 0.115*\"resistance/NN\" + 0.110*\"sequence/NN\" + 0.110*\"stress/NN\" + 0.107*\"host/NN\" + 0.099*\"chemotherapy/NN\" + -0.097*\"pain/NN\" + -0.097*\"te/NN\" + 0.095*\"syndrome/NN\" + -0.093*\"information/NN\" + -0.093*\"leukemia/NN\" + -0.093*\"virus/NN\" + 0.092*\"site/NN\" + 0.092*\"individual/NN\" + -0.091*\"water/NN\" + 0.090*\"infection/NN\"\n",
      "100 >>> 0.242*\"p/NN\" + -0.188*\"[number]/NN\" + -0.137*\"m/NN\" + -0.132*\"model/NN\" + -0.125*\"field/NN\" + 0.120*\"ozone/NN\" + -0.117*\"nanoparticles/NN\" + -0.109*\"group/NN\" + 0.107*\"brain/NN\" + 0.107*\"genetic/JJ\" + -0.106*\"resistance/NN\" + 0.105*\"system/NN\" + -0.104*\"alcohol/NN\" + -0.103*\"stress/NN\" + -0.097*\"language/NN\" + 0.096*\"syndrome/NN\" + -0.094*\"magnetic/JJ\" + -0.088*\"population/NN\" + -0.087*\"research/NN\" + 0.086*\"drug/NN\"\n",
      "101 >>> -0.154*\"tumour/NN\" + 0.139*\"control/NN\" + -0.138*\"noise/NN\" + 0.124*\"ozone/NN\" + -0.123*\"brain/NN\" + -0.122*\"trait/NN\" + 0.113*\"bone/NN\" + 0.111*\"test/NN\" + -0.111*\"risk/NN\" + -0.109*\"temperature/NN\" + -0.107*\"qtl/NN\" + 0.106*\"virus/NN\" + -0.103*\"c/NN\" + 0.100*\"genetic/JJ\" + -0.100*\"snp/NN\" + -0.093*\"lung/NN\" + 0.093*\"community/NN\" + -0.090*\"infection/NN\" + 0.087*\"ci/NN\" + 0.085*\"case/NN\"\n",
      "102 >>> -0.183*\"simulation/NN\" + -0.163*\"tumour/NN\" + 0.142*\"c/NN\" + 0.135*\"p53/NN\" + -0.134*\"specie/NN\" + -0.117*\"method/NN\" + 0.116*\"tissue/NN\" + 0.115*\"response/NN\" + 0.106*\"fa/NN\" + -0.103*\"renal/JJ\" + 0.101*\"resistance/NN\" + 0.099*\"system/NN\" + 0.096*\"parameter/NN\" + 0.095*\"bone/NN\" + 0.094*\"database/NN\" + -0.091*\"language/NN\" + -0.090*\"b/NN\" + -0.089*\"effect/NN\" + -0.089*\"p/NN\" + -0.086*\"interaction/NN\"\n",
      "103 >>> -0.141*\"surgery/NN\" + -0.141*\"water/NN\" + 0.130*\"syndrome/NN\" + -0.129*\"language/NN\" + -0.117*\"algorithm/NN\" + 0.114*\"database/NN\" + 0.113*\"membrane/NN\" + 0.109*\"[number]/NN\" + 0.109*\"graph/NN\" + -0.102*\"surgical/JJ\" + 0.101*\"metastasis/NN\" + 0.099*\"film/NN\" + -0.099*\"word/NN\" + 0.097*\"method/NN\" + 0.097*\"jet/NN\" + 0.097*\"flow/NN\" + -0.094*\"n/NN\" + -0.094*\"c/NN\" + -0.090*\"human/JJ\" + 0.090*\"resistance/NN\"\n",
      "104 >>> -0.158*\"carrier/NN\" + 0.152*\"membrane/NN\" + -0.138*\"annotation/NN\" + -0.130*\"graph/NN\" + -0.129*\"noise/NN\" + -0.125*\"locus/NN\" + 0.124*\"renal/JJ\" + -0.122*\"database/NN\" + 0.119*\"population/NN\" + 0.118*\"[number]/NN\" + -0.114*\"control/NN\" + 0.113*\"chromosome/NN\" + -0.105*\"alcohol/NN\" + 0.103*\"domain/NN\" + 0.103*\"structure/NN\" + -0.100*\"specie/NN\" + 0.099*\"laser/NN\" + -0.094*\"tumour/NN\" + 0.093*\"energy/NN\" + -0.091*\"cnvs/NN\"\n",
      "105 >>> 0.158*\"renal/JJ\" + 0.152*\"carcinoma/NN\" + 0.150*\"carrier/NN\" + -0.133*\"noise/NN\" + -0.132*\"energy/NN\" + 0.129*\"water/NN\" + 0.119*\"mass/NN\" + 0.110*\"response/NN\" + 0.108*\"ozone/NN\" + -0.107*\"problem/NN\" + 0.099*\"pain/NN\" + -0.097*\"segmentation/NN\" + 0.094*\"measurement/NN\" + -0.088*\"resistance/NN\" + -0.085*\"te/NN\" + 0.083*\"year/NN\" + 0.082*\"population/NN\" + -0.082*\"chromosome/NN\" + -0.080*\"group/NN\" + 0.079*\"age/NN\"\n",
      "106 >>> -0.164*\"muscle/NN\" + -0.153*\"chromosome/NN\" + -0.153*\"water/NN\" + -0.140*\"interaction/NN\" + -0.140*\"tumour/NN\" + 0.134*\"n/NN\" + -0.126*\"ci/NN\" + -0.120*\"genetic/JJ\" + -0.118*\"surface/NN\" + -0.115*\"drug/NN\" + 0.114*\"locus/NN\" + 0.106*\"resistance/NN\" + 0.106*\"plasma/NN\" + -0.102*\"method/NN\" + -0.102*\"plant/NN\" + 0.101*\"endometrial/JJ\" + -0.097*\"alignment/NN\" + 0.094*\"domain/NN\" + 0.093*\"risk/NN\" + -0.091*\"energy/NN\"\n",
      "107 >>> 0.283*\"endometrial/JJ\" + 0.160*\"nanoparticles/NN\" + -0.158*\"tumour/NN\" + -0.124*\"algorithm/NN\" + -0.123*\"mass/NN\" + -0.112*\"plasma/NN\" + -0.110*\"carrier/NN\" + 0.110*\"carcinoma/NN\" + -0.104*\"treatment/NN\" + 0.103*\"drug/NN\" + 0.100*\"test/NN\" + -0.099*\"classification/NN\" + -0.099*\"insulin/NN\" + 0.092*\"image/NN\" + -0.090*\"woman/NN\" + -0.089*\"diabetes/NN\" + -0.089*\"polymorphism/NN\" + 0.085*\"change/NN\" + -0.085*\"complex/NN\" + -0.082*\"research/NN\"\n",
      "108 >>> -0.167*\"algorithm/NN\" + -0.149*\"community/NN\" + -0.142*\"membrane/NN\" + -0.139*\"child/NN\" + 0.138*\"structure/NN\" + -0.135*\"surface/NN\" + -0.130*\"carcinoma/NN\" + -0.121*\"trial/NN\" + 0.114*\"gondii/NN\" + 0.106*\"metastasis/NN\" + 0.106*\"water/NN\" + 0.104*\"pancreatic/JJ\" + 0.100*\"t/NN\" + -0.094*\"research/NN\" + -0.093*\"acid/NN\" + -0.092*\"expression/NN\" + -0.091*\"c/NN\" + 0.089*\"carrier/NN\" + -0.085*\"interaction/NN\" + 0.083*\"nanoparticles/NN\"\n",
      "109 >>> 0.165*\"channel/NN\" + 0.143*\"structure/NN\" + -0.134*\"phase/NN\" + -0.133*\"noise/NN\" + -0.133*\"membrane/NN\" + 0.129*\"activity/NN\" + 0.119*\"energy/NN\" + -0.116*\"m/NN\" + -0.115*\"host/NN\" + 0.108*\"domain/NN\" + -0.107*\"drug/NN\" + -0.095*\"p53/NN\" + -0.091*\"sequence/NN\" + -0.089*\"receptor/NN\" + 0.088*\"polymerization/NN\" + 0.085*\"leukemia/NN\" + 0.085*\"inhibitor/NN\" + -0.085*\"bc/NN\" + -0.085*\"cluster/NN\" + 0.083*\"[number]/NN\"\n",
      "110 >>> -0.209*\"membrane/NN\" + -0.186*\"water/NN\" + -0.129*\"pain/NN\" + 0.129*\"surface/NN\" + -0.128*\"activity/NN\" + 0.123*\"metastasis/NN\" + 0.121*\"response/NN\" + 0.120*\"stress/NN\" + 0.108*\"ca/NN\" + 0.108*\"endometrial/JJ\" + 0.107*\"family/NN\" + -0.104*\"control/NN\" + -0.104*\"annotation/NN\" + 0.104*\"interaction/NN\" + 0.103*\"2+/CD\" + 0.101*\"care/NN\" + -0.095*\"structure/NN\" + -0.095*\"genetic/JJ\" + -0.092*\"syndrome/NN\" + -0.089*\"survival/NN\"\n",
      "111 >>> -0.197*\"te/NN\" + -0.143*\"graph/NN\" + -0.138*\"chromosome/NN\" + 0.137*\"cluster/NN\" + 0.137*\"genome/NN\" + 0.125*\"b/NN\" + 0.118*\"activity/NN\" + 0.116*\"exposure/NN\" + 0.113*\"algorithm/NN\" + 0.109*\"qtl/NN\" + -0.107*\"method/NN\" + -0.105*\"pain/NN\" + -0.097*\"phase/NN\" + -0.095*\"change/NN\" + 0.095*\"human/JJ\" + -0.095*\"element/NN\" + 0.095*\"bone/NN\" + -0.095*\"cycle/NN\" + -0.092*\"control/NN\" + 0.088*\"lymphoma/NN\"\n",
      "112 >>> -0.188*\"te/NN\" + 0.173*\"c/NN\" + 0.153*\"population/NN\" + 0.151*\"nanoparticles/NN\" + 0.128*\"tumour/NN\" + 0.125*\"response/NN\" + -0.122*\"noise/NN\" + -0.121*\"community/NN\" + -0.115*\"liver/NN\" + -0.112*\"trait/NN\" + 0.108*\"system/NN\" + 0.108*\"energy/NN\" + 0.105*\"simulation/NN\" + -0.105*\"complex/NN\" + -0.092*\"gondii/NN\" + 0.087*\"b/NN\" + 0.087*\"m/NN\" + -0.086*\"memory/NN\" + -0.085*\"genotype/NN\" + -0.084*\"water/NN\"\n",
      "113 >>> -0.176*\"metastasis/NN\" + 0.151*\"growth/NN\" + 0.135*\"drug/NN\" + 0.130*\"membrane/NN\" + -0.117*\"p53/NN\" + 0.114*\"system/NN\" + -0.102*\"language/NN\" + -0.101*\"resistance/NN\" + 0.100*\"domain/NN\" + -0.099*\"service/NN\" + 0.091*\"detection/NN\" + -0.091*\"complex/NN\" + 0.091*\"lesion/NN\" + -0.089*\"pain/NN\" + -0.088*\"crc/NN\" + -0.088*\"gondii/NN\" + -0.086*\"t/NN\" + -0.083*\"protein/NN\" + -0.083*\"rna/NN\" + 0.083*\"problem/NN\"\n",
      "114 >>> -0.171*\"exposure/NN\" + 0.143*\"drug/NN\" + -0.139*\"child/NN\" + 0.136*\"pain/NN\" + -0.135*\"repeat/NN\" + 0.119*\"algorithm/NN\" + 0.117*\"laser/NN\" + 0.113*\"site/NN\" + 0.109*\"stress/NN\" + 0.108*\"lymphoma/NN\" + 0.104*\"tissue/NN\" + 0.102*\"snp/NN\" + 0.101*\"seed/NN\" + -0.101*\"structure/NN\" + -0.097*\"cluster/NN\" + 0.096*\"adhd/NN\" + -0.093*\"rna/NN\" + 0.093*\"energy/NN\" + 0.092*\"bc/NN\" + -0.091*\"surgery/NN\"\n",
      "115 >>> -0.189*\"p/NN\" + 0.152*\"[number]/NN\" + -0.139*\"mass/NN\" + -0.116*\"graph/NN\" + -0.110*\"m/NN\" + -0.105*\"memory/NN\" + 0.104*\"n/NN\" + 0.102*\"growth/NN\" + -0.100*\"heart/NN\" + -0.098*\"mirnas/NN\" + -0.098*\"stress/NN\" + -0.095*\"water/NN\" + -0.094*\"energy/NN\" + 0.092*\"ra/NN\" + -0.091*\"lesion/NN\" + -0.090*\"care/NN\" + 0.090*\"production/NN\" + -0.088*\"cardiac/JJ\" + -0.083*\"expression/NN\" + 0.083*\"insulin/NN\"\n",
      "116 >>> 0.256*\"memory/NN\" + 0.152*\"pain/NN\" + -0.147*\"endometrial/JJ\" + -0.138*\"membrane/NN\" + -0.134*\"algorithm/NN\" + 0.110*\"b/NN\" + -0.102*\"metastasis/NN\" + 0.101*\"quark/NN\" + -0.099*\"ci/NN\" + 0.097*\"c/NN\" + -0.093*\"cluster/NN\" + 0.091*\"factor/NN\" + -0.091*\"n/NN\" + -0.091*\"plasma/NN\" + -0.090*\"mirnas/NN\" + 0.089*\"density/NN\" + -0.082*\"water/NN\" + 0.081*\"adhd/NN\" + 0.079*\"method/NN\" + 0.077*\"deletion/NN\"\n",
      "117 >>> 0.179*\"acid/NN\" + -0.139*\"energy/NN\" + 0.137*\"gondii/NN\" + 0.135*\"field/NN\" + -0.128*\"b/NN\" + 0.128*\"algorithm/NN\" + 0.118*\"annotation/NN\" + 0.114*\"human/JJ\" + 0.113*\"tissue/NN\" + -0.109*\"noise/NN\" + 0.106*\"memory/NN\" + 0.104*\"channel/NN\" + -0.103*\"p/NN\" + 0.103*\"t/NN\" + -0.101*\"repeat/NN\" + 0.100*\"[number]/NN\" + 0.098*\"quantum/NN\" + -0.093*\"rat/NN\" + 0.090*\"magnetic/JJ\" + 0.087*\"drug/NN\"\n",
      "118 >>> 0.232*\"resistance/NN\" + 0.196*\"c/NN\" + 0.176*\"tumour/NN\" + -0.135*\"deletion/NN\" + -0.124*\"control/NN\" + 0.117*\"human/JJ\" + -0.109*\"drug/NN\" + 0.107*\"b/NN\" + 0.104*\"snp/NN\" + -0.103*\"temperature/NN\" + -0.100*\"soil/NN\" + 0.099*\"chromosome/NN\" + -0.099*\"renal/JJ\" + -0.093*\"locus/NN\" + 0.092*\"method/NN\" + -0.091*\"specie/NN\" + -0.090*\"carcinoma/NN\" + -0.084*\"care/NN\" + 0.083*\"n/NN\" + 0.081*\"particle/NN\"\n",
      "119 >>> 0.194*\"renal/JJ\" + -0.163*\"membrane/NN\" + 0.151*\"carcinoma/NN\" + 0.124*\"test/NN\" + 0.120*\"surface/NN\" + -0.116*\"tumour/NN\" + 0.110*\"brain/NN\" + 0.109*\"m/NN\" + 0.108*\"mass/NN\" + 0.107*\"channel/NN\" + -0.106*\"treatment/NN\" + -0.103*\"alcohol/NN\" + 0.102*\"seed/NN\" + 0.099*\"phase/NN\" + -0.093*\"germ/NN\" + -0.092*\"epilepsy/NN\" + -0.090*\"woman/NN\" + -0.089*\"community/NN\" + -0.087*\"field/NN\" + -0.084*\"fa/NN\"\n",
      "120 >>> -0.230*\"drug/NN\" + -0.158*\"metastasis/NN\" + -0.157*\"ozone/NN\" + 0.153*\"annotation/NN\" + -0.132*\"pain/NN\" + -0.127*\"p53/NN\" + 0.122*\"carcinoma/NN\" + 0.110*\"line/NN\" + 0.108*\"fa/NN\" + 0.101*\"film/NN\" + 0.101*\"host/NN\" + 0.101*\"treatment/NN\" + 0.096*\"pancreatic/JJ\" + -0.091*\"patient/NN\" + -0.091*\"concentration/NN\" + -0.090*\"endometrial/JJ\" + 0.088*\"trial/NN\" + -0.084*\"te/NN\" + 0.082*\"interaction/NN\" + 0.082*\"lesion/NN\"\n",
      "121 >>> -0.163*\"fa/NN\" + -0.132*\"exposure/NN\" + 0.132*\"[number]/NN\" + -0.126*\"snp/NN\" + -0.123*\"interaction/NN\" + -0.117*\"p/NN\" + 0.116*\"activity/NN\" + 0.114*\"quality/NN\" + -0.111*\"n/NN\" + -0.101*\"temperature/NN\" + 0.099*\"memory/NN\" + 0.094*\"tree/NN\" + -0.090*\"carcinoma/NN\" + 0.090*\"property/NN\" + 0.088*\"allele/NN\" + -0.087*\"map/NN\" + -0.085*\"human/JJ\" + 0.081*\"polymorphism/NN\" + 0.078*\"population/NN\" + -0.078*\"line/NN\"\n",
      "122 >>> -0.188*\"noise/NN\" + -0.171*\"memory/NN\" + 0.160*\"acid/NN\" + -0.145*\"algorithm/NN\" + 0.142*\"expression/NN\" + 0.115*\"disease/NN\" + 0.114*\"host/NN\" + -0.111*\"annotation/NN\" + -0.108*\"growth/NN\" + 0.107*\"water/NN\" + 0.106*\"interaction/NN\" + -0.098*\"cluster/NN\" + -0.093*\"climate/NN\" + -0.088*\"carcinoma/NN\" + -0.087*\"change/NN\" + -0.086*\"mass/NN\" + -0.085*\"treatment/NN\" + 0.084*\"3d/CD\" + -0.083*\"bc/NN\" + -0.083*\"syndrome/NN\"\n",
      "123 >>> -0.169*\"[number]/NN\" + -0.158*\"renal/JJ\" + 0.155*\"p/NN\" + -0.141*\"noise/NN\" + 0.134*\"polymerization/NN\" + 0.123*\"tumour/NN\" + 0.113*\"population/NN\" + -0.109*\"disease/NN\" + -0.108*\"annotation/NN\" + -0.105*\"resistance/NN\" + -0.102*\"interaction/NN\" + -0.100*\"gondii/NN\" + -0.099*\"ozone/NN\" + -0.096*\"m/NN\" + 0.096*\"s/NN\" + -0.094*\"surface/NN\" + -0.087*\"t/NN\" + 0.084*\"brain/NN\" + -0.083*\"problem/NN\" + 0.082*\"search/NN\"\n",
      "124 >>> 0.145*\"carrier/NN\" + 0.136*\"drug/NN\" + -0.124*\"resistance/NN\" + -0.122*\"disease/NN\" + -0.115*\"detection/NN\" + -0.113*\"child/NN\" + -0.112*\"structure/NN\" + 0.107*\"sequence/NN\" + 0.106*\"b/NN\" + -0.100*\"p/NN\" + 0.099*\"flow/NN\" + 0.096*\"membrane/NN\" + 0.096*\"phase/NN\" + -0.092*\"alcohol/NN\" + 0.090*\"research/NN\" + 0.089*\"lesion/NN\" + -0.089*\"n/NN\" + 0.086*\"graph/NN\" + -0.086*\"syndrome/NN\" + 0.085*\"seed/NN\"\n",
      "125 >>> 0.134*\"simulation/NN\" + 0.130*\"ozone/NN\" + -0.128*\"care/NN\" + 0.123*\"stress/NN\" + -0.116*\"activity/NN\" + 0.115*\"water/NN\" + 0.105*\"graph/NN\" + -0.102*\"3d/CD\" + 0.102*\"event/NN\" + 0.100*\"pregnancy/NN\" + -0.098*\"interaction/NN\" + -0.096*\"host/NN\" + 0.092*\"polymerization/NN\" + -0.091*\"bc/NN\" + 0.088*\"population/NN\" + 0.088*\"image/NN\" + 0.087*\"acid/NN\" + 0.086*\"membrane/NN\" + -0.077*\"flow/NN\" + 0.077*\"brain/NN\"\n",
      "126 >>> 0.167*\"2+/CD\" + 0.160*\"ca/NN\" + -0.138*\"colorectal/JJ\" + 0.132*\"endometrial/JJ\" + 0.130*\"interaction/NN\" + 0.128*\"test/NN\" + -0.127*\"channel/NN\" + 0.119*\"crc/NN\" + -0.110*\"classification/NN\" + -0.109*\"segmentation/NN\" + 0.104*\"acid/NN\" + -0.104*\"snp/NN\" + 0.100*\"ra/NN\" + -0.099*\"phase/NN\" + 0.098*\"case/NN\" + 0.095*\"quality/NN\" + 0.092*\"survival/NN\" + 0.091*\"alignment/NN\" + -0.090*\"activity/NN\" + -0.086*\"state/NN\"\n",
      "127 >>> -0.152*\"control/NN\" + 0.129*\"mitochondrial/JJ\" + -0.124*\"nanoparticles/NN\" + 0.112*\"b/NN\" + 0.111*\"disease/NN\" + 0.110*\"model/NN\" + 0.109*\"stress/NN\" + -0.105*\"c/NN\" + 0.104*\"seed/NN\" + 0.093*\"system/NN\" + 0.092*\"fracture/NN\" + -0.092*\"m/NN\" + 0.090*\"population/NN\" + -0.089*\"duplication/NN\" + 0.088*\"response/NN\" + 0.085*\"membrane/NN\" + 0.085*\"te/NN\" + 0.085*\"density/NN\" + -0.084*\"fa/NN\" + 0.083*\"film/NN\"\n",
      "128 >>> 0.172*\"interaction/NN\" + 0.140*\"resistance/NN\" + -0.135*\"seed/NN\" + -0.127*\"pancreatic/JJ\" + -0.125*\"nanoparticles/NN\" + 0.122*\"n/NN\" + -0.118*\"carcinoma/NN\" + -0.107*\"+/-/JJ\" + -0.105*\"particle/NN\" + -0.101*\"copper/NN\" + 0.101*\"group/NN\" + -0.098*\"neck/NN\" + -0.096*\"mirnas/NN\" + 0.095*\"bone/NN\" + -0.094*\"cluster/NN\" + 0.093*\"acid/NN\" + 0.093*\"factor/NN\" + -0.092*\"cu/NN\" + -0.088*\"child/NN\" + 0.087*\"test/NN\"\n",
      "129 >>> 0.189*\"metastasis/NN\" + -0.161*\"growth/NN\" + -0.152*\"pain/NN\" + 0.123*\"bone/NN\" + 0.119*\"membrane/NN\" + 0.114*\"renal/JJ\" + 0.107*\"activity/NN\" + 0.103*\"ci/NN\" + 0.103*\"particle/NN\" + -0.102*\"flow/NN\" + 0.101*\"n/NN\" + -0.095*\"rate/NN\" + 0.093*\"method/NN\" + -0.090*\"annotation/NN\" + 0.088*\"event/NN\" + 0.086*\"information/NN\" + -0.085*\"region/NN\" + 0.084*\"deletion/NN\" + -0.084*\"classification/NN\" + -0.083*\"rna/NN\"\n",
      "130 >>> -0.153*\"bc/NN\" + -0.139*\"population/NN\" + 0.120*\"tree/NN\" + -0.114*\"motion/NN\" + -0.113*\"exposure/NN\" + 0.107*\"factor/NN\" + -0.106*\"marker/NN\" + -0.104*\"change/NN\" + 0.102*\"method/NN\" + 0.098*\"classification/NN\" + -0.097*\"strain/NN\" + 0.096*\"brain/NN\" + -0.096*\"bone/NN\" + 0.093*\"transcription/NN\" + 0.089*\"tp53/NN\" + -0.089*\"fa/NN\" + -0.088*\"visual/JJ\" + 0.087*\"mitochondrial/JJ\" + 0.086*\"cluster/NN\" + -0.085*\"ad/NN\"\n",
      "131 >>> -0.137*\"activity/NN\" + -0.128*\"bc/NN\" + -0.124*\"neck/NN\" + 0.122*\"mirnas/NN\" + -0.114*\"alignment/NN\" + 0.109*\"renal/JJ\" + -0.105*\"field/NN\" + -0.101*\"p/NN\" + 0.101*\"p53/NN\" + -0.100*\"problem/NN\" + 0.098*\"surgery/NN\" + -0.094*\"stress/NN\" + 0.089*\"pathway/NN\" + -0.087*\"program/NN\" + 0.086*\"temperature/NN\" + 0.085*\"segmentation/NN\" + -0.084*\"age/NN\" + -0.081*\"head/NN\" + 0.081*\"domain/NN\" + 0.080*\"repeat/NN\"\n",
      "132 >>> -0.127*\"b/NN\" + -0.126*\"acid/NN\" + 0.126*\"survival/NN\" + 0.123*\"information/NN\" + 0.108*\"3d/CD\" + 0.105*\"g/NN\" + -0.098*\"particle/NN\" + -0.098*\"program/NN\" + -0.097*\"interaction/NN\" + 0.094*\"quality/NN\" + 0.093*\"copper/NN\" + 0.093*\"colorectal/JJ\" + 0.090*\"complex/NN\" + 0.089*\"change/NN\" + -0.088*\"annotation/NN\" + 0.085*\"m/NN\" + -0.085*\"disease/NN\" + 0.083*\"polymorphism/NN\" + -0.083*\"phase/NN\" + -0.083*\"p53/NN\"\n",
      "133 >>> 0.158*\"liver/NN\" + -0.150*\"carcinoma/NN\" + 0.116*\"plant/NN\" + -0.111*\"density/NN\" + 0.110*\"renal/JJ\" + -0.109*\"carbon/NN\" + 0.105*\"phase/NN\" + -0.104*\"therapy/NN\" + -0.103*\"water/NN\" + 0.101*\"disorder/NN\" + -0.094*\"growth/NN\" + -0.093*\"pain/NN\" + 0.093*\"flow/NN\" + 0.089*\"memory/NN\" + -0.088*\"research/NN\" + -0.088*\"neck/NN\" + -0.086*\"detection/NN\" + -0.085*\"tissue/NN\" + 0.083*\"boson/NN\" + 0.083*\"temperature/NN\"\n",
      "134 >>> -0.199*\"annotation/NN\" + -0.134*\"tree/NN\" + 0.134*\"film/NN\" + 0.128*\"s/NN\" + 0.127*\"quality/NN\" + 0.112*\"exposure/NN\" + 0.099*\"equation/NN\" + 0.097*\"domain/NN\" + 0.093*\"host/NN\" + 0.089*\"crc/NN\" + -0.088*\"disorder/NN\" + 0.088*\"method/NN\" + -0.088*\"n/NN\" + 0.086*\"2+/CD\" + -0.085*\"detection/NN\" + 0.085*\"language/NN\" + -0.083*\"metastasis/NN\" + 0.082*\"energy/NN\" + 0.081*\"[number]/NN\" + -0.080*\"complex/NN\"\n",
      "135 >>> -0.158*\"b/NN\" + 0.152*\"activity/NN\" + 0.150*\"temperature/NN\" + 0.135*\"lesion/NN\" + -0.134*\"acid/NN\" + -0.133*\"plasma/NN\" + -0.122*\"mirnas/NN\" + -0.114*\"fa/NN\" + 0.112*\"crc/NN\" + -0.102*\"bc/NN\" + 0.099*\"group/NN\" + 0.096*\"nanoparticles/NN\" + -0.095*\"colorectal/JJ\" + -0.092*\"renal/JJ\" + -0.092*\"target/NN\" + 0.088*\"m/NN\" + 0.088*\"child/NN\" + 0.086*\"particle/NN\" + 0.086*\"liver/NN\" + 0.084*\"drug/NN\"\n",
      "136 >>> 0.164*\"m/NN\" + 0.149*\"bc/NN\" + -0.141*\"simulation/NN\" + 0.120*\"mirnas/NN\" + 0.119*\"segmentation/NN\" + 0.110*\"domain/NN\" + 0.107*\"membrane/NN\" + 0.104*\"response/NN\" + 0.101*\"quantum/NN\" + 0.100*\"error/NN\" + -0.099*\"seed/NN\" + 0.098*\"structure/NN\" + -0.096*\"change/NN\" + -0.094*\"rna/NN\" + 0.092*\"milk/NN\" + 0.090*\"specie/NN\" + -0.087*\"density/NN\" + -0.083*\"mitochondrial/JJ\" + -0.082*\"bone/NN\" + 0.082*\"dot/NN\"\n",
      "137 >>> -0.178*\"metastasis/NN\" + 0.160*\"mirnas/NN\" + 0.117*\"information/NN\" + 0.107*\"endometrial/JJ\" + 0.102*\"simulation/NN\" + -0.100*\"bone/NN\" + -0.096*\"method/NN\" + 0.095*\"crc/NN\" + -0.094*\"detection/NN\" + -0.093*\"water/NN\" + 0.091*\"brain/NN\" + -0.091*\"annotation/NN\" + 0.089*\"stress/NN\" + 0.087*\"ra/NN\" + -0.084*\"drug/NN\" + -0.083*\"segmentation/NN\" + 0.083*\"line/NN\" + 0.083*\"database/NN\" + 0.082*\"test/NN\" + -0.080*\"2+/CD\"\n",
      "138 >>> 0.123*\"disease/NN\" + -0.118*\"bone/NN\" + -0.116*\"research/NN\" + 0.116*\"quark/NN\" + 0.110*\"membrane/NN\" + -0.110*\"tumour/NN\" + 0.109*\"treatment/NN\" + -0.105*\"repeat/NN\" + -0.102*\"method/NN\" + -0.097*\"pain/NN\" + 0.091*\"mass/NN\" + 0.089*\"transcription/NN\" + -0.089*\"trial/NN\" + -0.087*\"interaction/NN\" + 0.086*\"top/JJ\" + 0.085*\"rearrangement/NN\" + 0.084*\"response/NN\" + 0.082*\"'s/PO\" + 0.080*\"child/NN\" + -0.080*\"algorithm/NN\"\n",
      "139 >>> 0.200*\"bc/NN\" + 0.167*\"syndrome/NN\" + 0.154*\"s/NN\" + -0.141*\"information/NN\" + -0.125*\"cluster/NN\" + 0.119*\"density/NN\" + -0.119*\"method/NN\" + -0.117*\"mirnas/NN\" + 0.111*\"map/NN\" + 0.107*\"segmentation/NN\" + -0.104*\"resistance/NN\" + -0.104*\"mlh1/NN\" + 0.103*\"ca/NN\" + 0.100*\"2+/CD\" + 0.096*\"annotation/NN\" + -0.096*\"disorder/NN\" + 0.091*\"tp53/NN\" + 0.089*\"drug/NN\" + 0.086*\"carrier/NN\" + 0.084*\"adhd/NN\"\n",
      "140 >>> -0.140*\"fa/NN\" + -0.132*\"human/JJ\" + -0.128*\"duplication/NN\" + 0.124*\"rat/NN\" + 0.117*\"wheat/NN\" + 0.117*\"2+/CD\" + 0.115*\"ca/NN\" + -0.111*\"detection/NN\" + 0.103*\"volume/NN\" + -0.101*\"alignment/NN\" + 0.099*\"h/NN\" + 0.098*\"site/NN\" + -0.096*\"s/NN\" + 0.094*\"mass/NN\" + 0.093*\"field/NN\" + -0.093*\"activity/NN\" + -0.090*\"qtl/NN\" + 0.086*\"genetic/JJ\" + -0.084*\"plasma/NN\" + -0.082*\"renal/JJ\"\n",
      "141 >>> 0.217*\"film/NN\" + 0.217*\"n/NN\" + 0.162*\"ozone/NN\" + -0.132*\"bc/NN\" + -0.128*\"repeat/NN\" + 0.112*\"mirnas/NN\" + 0.109*\"rat/NN\" + 0.108*\"te/NN\" + 0.105*\"c/NN\" + -0.095*\"s/NN\" + 0.094*\"state/NN\" + -0.092*\"b/NN\" + 0.092*\"surface/NN\" + -0.090*\"compound/NN\" + -0.088*\"region/NN\" + -0.087*\"growth/NN\" + -0.080*\"genome/NN\" + 0.078*\"ca/NN\" + -0.077*\"particle/NN\" + 0.077*\"2+/CD\"\n",
      "142 >>> -0.181*\"m/NN\" + -0.166*\"treatment/NN\" + 0.138*\"mitochondrial/JJ\" + -0.135*\"mutant/NN\" + -0.128*\"plasma/NN\" + 0.122*\"fa/NN\" + -0.105*\"error/NN\" + 0.103*\"phase/NN\" + 0.100*\"ad/NN\" + -0.095*\"pancreatic/JJ\" + 0.093*\"plant/NN\" + -0.093*\"arabidopsis/NN\" + 0.093*\"membrane/NN\" + -0.090*\"te/NN\" + 0.088*\"activity/NN\" + 0.087*\"memory/NN\" + -0.086*\"s/NN\" + 0.084*\"adhd/NN\" + -0.083*\"root/NN\" + 0.080*\"flow/NN\"\n",
      "143 >>> -0.194*\"b/NN\" + -0.158*\"m/NN\" + 0.132*\"ra/NN\" + -0.129*\"ozone/NN\" + 0.114*\"cluster/NN\" + 0.112*\"mirnas/NN\" + 0.107*\"c/NN\" + -0.103*\"population/NN\" + 0.103*\"syndrome/NN\" + -0.096*\"child/NN\" + -0.095*\"snp/NN\" + 0.092*\"simulation/NN\" + -0.092*\"structure/NN\" + -0.088*\"complex/NN\" + 0.086*\"cost/NN\" + 0.084*\"drug/NN\" + -0.083*\"gondii/NN\" + -0.081*\"membrane/NN\" + 0.078*\"language/NN\" + -0.077*\"lesion/NN\"\n",
      "144 >>> -0.192*\"endometrial/JJ\" + -0.143*\"site/NN\" + -0.143*\"carrier/NN\" + 0.121*\"growth/NN\" + 0.103*\"woman/NN\" + -0.098*\"bc/NN\" + 0.098*\"cluster/NN\" + -0.089*\"energy/NN\" + 0.089*\"drug/NN\" + -0.086*\"ozone/NN\" + -0.085*\"trial/NN\" + -0.084*\"c/NN\" + -0.081*\"depression/NN\" + 0.081*\"hcc/NN\" + 0.080*\"syndrome/NN\" + 0.080*\"resistance/NN\" + 0.080*\"n/NN\" + -0.080*\"3d/CD\" + 0.079*\"seed/NN\" + -0.079*\"crc/NN\"\n",
      "145 >>> 0.241*\"interaction/NN\" + -0.161*\"fa/NN\" + 0.121*\"membrane/NN\" + 0.112*\"memory/NN\" + 0.109*\"seed/NN\" + 0.109*\"annotation/NN\" + -0.108*\"community/NN\" + 0.107*\"s/NN\" + -0.104*\"change/NN\" + 0.104*\"magnetic/JJ\" + 0.103*\"n/NN\" + -0.099*\"site/NN\" + 0.097*\"care/NN\" + 0.090*\"stress/NN\" + -0.088*\"2+/CD\" + -0.086*\"ca/NN\" + -0.083*\"particle/NN\" + -0.083*\"service/NN\" + -0.082*\"method/NN\" + 0.082*\"population/NN\"\n",
      "146 >>> -0.183*\"2+/CD\" + -0.178*\"ca/NN\" + -0.150*\"seed/NN\" + 0.127*\"population/NN\" + -0.125*\"pattern/NN\" + -0.119*\"child/NN\" + 0.105*\"syndrome/NN\" + 0.103*\"brain/NN\" + 0.093*\"rat/NN\" + -0.092*\"polymerization/NN\" + -0.090*\"infection/NN\" + -0.088*\"fracture/NN\" + 0.087*\"memory/NN\" + 0.087*\"size/NN\" + 0.086*\"change/NN\" + -0.085*\"fiber/NN\" + 0.085*\"research/NN\" + 0.084*\"p/NN\" + 0.075*\"complex/NN\" + 0.075*\"copper/NN\"\n",
      "147 >>> -0.172*\"bc/NN\" + -0.125*\"boson/NN\" + -0.123*\"higgs/NN\" + -0.123*\"pattern/NN\" + -0.122*\"clinical/JJ\" + 0.117*\"classification/NN\" + -0.117*\"mortality/NN\" + 0.117*\"fa/NN\" + 0.112*\"plasma/NN\" + -0.106*\"sensor/NN\" + 0.100*\"alignment/NN\" + -0.096*\"[number]/NN\" + -0.095*\"cluster/NN\" + -0.095*\"robot/NN\" + 0.086*\"structure/NN\" + 0.084*\"noise/NN\" + -0.084*\"rate/NN\" + 0.084*\"event/NN\" + 0.082*\"n/JJ\" + 0.082*\"drug/NN\"\n",
      "148 >>> 0.166*\"s/NN\" + -0.148*\"c/NN\" + 0.133*\"segmentation/NN\" + 0.131*\"film/NN\" + -0.110*\"memory/NN\" + -0.107*\"pancreatic/JJ\" + 0.100*\"surgery/NN\" + 0.097*\"fa/NN\" + 0.096*\"exposure/NN\" + -0.094*\"brca2/NN\" + -0.093*\"growth/NN\" + 0.091*\"liver/NN\" + 0.089*\"surgical/JJ\" + -0.088*\"lesion/NN\" + -0.087*\"metastasis/NN\" + 0.083*\"brca1/NN\" + 0.083*\"disorder/NN\" + -0.083*\"line/NN\" + -0.081*\"alignment/NN\" + -0.081*\"human/JJ\"\n",
      "149 >>> 0.154*\"annotation/NN\" + -0.134*\"syndrome/NN\" + -0.124*\"community/NN\" + 0.120*\"renal/JJ\" + 0.117*\"brca2/NN\" + 0.112*\"fa/NN\" + -0.110*\"film/NN\" + -0.108*\"repeat/NN\" + -0.108*\"domain/NN\" + -0.108*\"drug/NN\" + -0.104*\"gondii/NN\" + -0.102*\"t/NN\" + 0.096*\"memory/NN\" + -0.094*\"brca1/NN\" + 0.094*\"resistance/NN\" + 0.089*\"surface/NN\" + 0.085*\"ra/NN\" + 0.084*\"chemotherapy/NN\" + -0.082*\"genome/NN\" + -0.082*\"mortality/NN\"\n",
      "150 >>> -0.260*\"seed/NN\" + 0.155*\"variation/NN\" + -0.119*\"fa/NN\" + 0.109*\"human/JJ\" + -0.104*\"detection/NN\" + -0.104*\"mortality/NN\" + 0.103*\"wave/NN\" + -0.095*\"size/NN\" + 0.092*\"membrane/NN\" + -0.092*\"structure/NN\" + 0.090*\"b/NN\" + -0.088*\"interaction/NN\" + -0.087*\"cluster/NN\" + 0.087*\"lymphoma/NN\" + 0.086*\"segmentation/NN\" + -0.086*\"disorder/NN\" + -0.085*\"technique/NN\" + 0.084*\"cnvs/NN\" + 0.083*\"age/NN\" + 0.081*\"surface/NN\"\n",
      "151 >>> 0.169*\"ra/NN\" + 0.144*\"tree/NN\" + -0.135*\"n/NN\" + 0.108*\"complex/NN\" + -0.107*\"test/NN\" + 0.106*\"egfr/NN\" + -0.106*\"map/NN\" + -0.103*\"pathway/NN\" + 0.102*\"energy/NN\" + -0.096*\"carbon/NN\" + 0.095*\"change/NN\" + 0.094*\"acid/NN\" + -0.088*\"transplantation/NN\" + -0.087*\"fa/NN\" + 0.085*\"mm/NN\" + -0.082*\"seizure/NN\" + 0.081*\"mirnas/NN\" + 0.080*\"language/NN\" + 0.079*\"temperature/NN\" + -0.079*\"deletion/NN\"\n",
      "152 >>> 0.172*\"flow/NN\" + 0.143*\"carbon/NN\" + -0.127*\"crc/NN\" + 0.125*\"group/NN\" + -0.120*\"membrane/NN\" + 0.118*\"colorectal/JJ\" + -0.112*\"control/NN\" + 0.111*\"ra/NN\" + 0.111*\"bc/NN\" + -0.108*\"bone/NN\" + -0.107*\"b/NN\" + 0.106*\"field/NN\" + 0.100*\"ozone/NN\" + -0.100*\"pancreatic/JJ\" + 0.100*\"mitochondrial/JJ\" + 0.096*\"electron/NN\" + 0.095*\"n/NN\" + -0.094*\"trial/NN\" + -0.092*\"brca2/NN\" + 0.092*\"resistance/NN\"\n",
      "153 >>> -0.171*\"rate/NN\" + 0.151*\"seed/NN\" + 0.124*\"c/NN\" + 0.103*\"bc/NN\" + 0.102*\"particle/NN\" + -0.099*\"evolution/NN\" + 0.099*\"human/JJ\" + -0.099*\"deletion/NN\" + -0.098*\"line/NN\" + 0.097*\"cluster/NN\" + 0.096*\"lesion/NN\" + -0.095*\"mortality/NN\" + 0.094*\"artery/NN\" + -0.093*\"film/NN\" + -0.086*\"hcc/NN\" + 0.081*\"exposure/NN\" + -0.081*\"selection/NN\" + 0.080*\"emission/NN\" + -0.079*\"classification/NN\" + 0.077*\"repeat/NN\"\n",
      "154 >>> 0.220*\"s/NN\" + 0.165*\"cluster/NN\" + -0.147*\"film/NN\" + -0.124*\"simulation/NN\" + 0.112*\"noise/NN\" + 0.112*\"treatment/NN\" + 0.106*\"infection/NN\" + 0.106*\"mirnas/NN\" + 0.096*\"property/NN\" + -0.094*\"lesion/NN\" + -0.093*\"exposure/NN\" + -0.092*\"syndrome/NN\" + -0.090*\"power/NN\" + -0.089*\"tissue/NN\" + 0.085*\"repeat/NN\" + -0.080*\"host/NN\" + -0.078*\"colorectal/JJ\" + 0.077*\"bone/NN\" + -0.077*\"selection/NN\" + -0.076*\"concentration/NN\"\n",
      "155 >>> -0.188*\"m/NN\" + -0.181*\"cluster/NN\" + -0.124*\"pancreatic/JJ\" + 0.123*\"colorectal/JJ\" + -0.119*\"chemotherapy/NN\" + 0.114*\"carcinoma/NN\" + 0.106*\"particle/NN\" + 0.106*\"nanoparticles/NN\" + 0.105*\"ra/NN\" + -0.103*\"wave/NN\" + -0.100*\"service/NN\" + 0.093*\"s/NN\" + 0.091*\"domain/NN\" + -0.088*\"age/NN\" + 0.085*\"bone/NN\" + -0.080*\"crc/NN\" + -0.079*\"c/NN\" + -0.079*\"endometrial/JJ\" + -0.079*\"year/NN\" + -0.077*\"rearrangement/NN\"\n",
      "156 >>> -0.128*\"seed/NN\" + -0.117*\"design/NN\" + -0.114*\"surface/NN\" + -0.114*\"b/NN\" + 0.113*\"ra/NN\" + -0.111*\"interaction/NN\" + 0.100*\"neural/JJ\" + 0.099*\"cd/NN\" + -0.099*\"trial/NN\" + 0.097*\"program/NN\" + 0.096*\"crc/NN\" + -0.092*\"change/NN\" + -0.090*\"colorectal/JJ\" + -0.090*\"wave/NN\" + 0.087*\"service/NN\" + -0.086*\"fa/NN\" + 0.084*\"rat/NN\" + -0.084*\"locus/NN\" + -0.082*\"+/-/JJ\" + -0.081*\"domain/NN\"\n",
      "157 >>> -0.183*\"bc/NN\" + 0.177*\"tree/NN\" + -0.143*\"annotation/NN\" + -0.135*\"film/NN\" + 0.132*\"syndrome/NN\" + 0.115*\"test/NN\" + 0.108*\"seed/NN\" + -0.104*\"mitochondrial/JJ\" + 0.101*\"pathway/NN\" + 0.100*\"population/NN\" + 0.099*\"phase/NN\" + 0.096*\"tissue/NN\" + 0.095*\"fa/NN\" + 0.095*\"map/NN\" + -0.093*\"error/NN\" + 0.090*\"sample/NN\" + -0.088*\"sensor/NN\" + -0.088*\"repeat/NN\" + 0.088*\"wheat/NN\" + -0.084*\"control/NN\"\n",
      "158 >>> -0.153*\"bc/NN\" + -0.152*\"segmentation/NN\" + 0.148*\"deletion/NN\" + 0.138*\"density/NN\" + -0.133*\"seed/NN\" + -0.129*\"interaction/NN\" + 0.127*\"resistance/NN\" + 0.118*\"quality/NN\" + 0.116*\"pattern/NN\" + -0.115*\"service/NN\" + 0.103*\"3d/CD\" + 0.102*\"bone/NN\" + -0.101*\"rna/NN\" + -0.096*\"pain/NN\" + 0.094*\"flow/NN\" + 0.091*\"wheat/NN\" + -0.088*\"memory/NN\" + -0.087*\"film/NN\" + 0.085*\"design/NN\" + 0.080*\"tree/NN\"\n",
      "159 >>> -0.181*\"fa/NN\" + -0.130*\"m/NN\" + 0.128*\"fiber/NN\" + -0.127*\"ra/NN\" + 0.122*\"field/NN\" + -0.117*\"seed/NN\" + -0.116*\"tissue/NN\" + 0.108*\"rate/NN\" + -0.106*\"region/NN\" + -0.105*\"rat/NN\" + -0.104*\"segmentation/NN\" + -0.097*\"tp53/NN\" + -0.093*\"interaction/NN\" + -0.091*\"endometrial/JJ\" + 0.090*\"case/NN\" + -0.087*\"cluster/NN\" + 0.083*\"repeat/NN\" + 0.082*\"research/NN\" + 0.080*\"pathway/NN\" + 0.078*\"detection/NN\"\n",
      "160 >>> -0.147*\"m/NN\" + -0.123*\"chemotherapy/NN\" + 0.123*\"tree/NN\" + -0.109*\"growth/NN\" + -0.108*\"information/NN\" + 0.107*\"service/NN\" + 0.105*\"noise/NN\" + 0.102*\"event/NN\" + -0.101*\"metastasis/NN\" + -0.100*\"test/NN\" + -0.098*\"g/NN\" + 0.098*\"interaction/NN\" + 0.092*\"population/NN\" + 0.092*\"optical/JJ\" + -0.090*\"metabolic/JJ\" + 0.088*\"h/NN\" + 0.088*\"acid/NN\" + 0.087*\"dot/NN\" + 0.086*\"quantum/NN\" + -0.084*\"detection/NN\"\n",
      "161 >>> -0.184*\"bc/NN\" + -0.152*\"fracture/NN\" + -0.140*\"bone/NN\" + -0.131*\"m/NN\" + 0.115*\"carrier/NN\" + -0.114*\"domain/NN\" + 0.112*\"service/NN\" + 0.107*\"deletion/NN\" + -0.105*\"rat/NN\" + -0.098*\"classification/NN\" + -0.096*\"syndrome/NN\" + -0.094*\"flow/NN\" + 0.091*\"cardiac/JJ\" + 0.089*\"memory/NN\" + -0.088*\"tp53/NN\" + 0.088*\"film/NN\" + 0.083*\"pain/NN\" + -0.083*\"database/NN\" + 0.080*\"heart/NN\" + 0.079*\"colorectal/JJ\"\n",
      "162 >>> -0.161*\"lymphoma/NN\" + 0.158*\"tree/NN\" + -0.131*\"domain/NN\" + -0.129*\"ra/NN\" + -0.114*\"b/NN\" + -0.110*\"test/NN\" + 0.102*\"3d/CD\" + 0.098*\"service/NN\" + -0.098*\"child/NN\" + 0.097*\"s/NN\" + 0.097*\"exposure/NN\" + -0.096*\"complex/NN\" + 0.093*\"survival/NN\" + 0.090*\"phase/NN\" + 0.088*\"2+/CD\" + -0.087*\"h/NN\" + -0.087*\"host/NN\" + 0.086*\"cost/NN\" + -0.084*\"neck/NN\" + 0.082*\"case/NN\"\n",
      "163 >>> -0.129*\"seed/NN\" + -0.129*\"approach/NN\" + 0.123*\"quality/NN\" + 0.109*\"mitochondrial/JJ\" + 0.099*\"3d/CD\" + -0.097*\"specie/NN\" + 0.096*\"neural/JJ\" + 0.093*\"tissue/NN\" + 0.091*\"repeat/NN\" + 0.090*\"brca2/NN\" + -0.090*\"growth/NN\" + -0.088*\"case/NN\" + 0.085*\"number/NN\" + 0.085*\"parameter/NN\" + 0.084*\"domain/NN\" + 0.083*\"cycle/NN\" + -0.083*\"film/NN\" + 0.081*\"exposure/NN\" + 0.080*\"density/NN\" + 0.079*\"estimator/NN\"\n",
      "164 >>> -0.141*\"activity/NN\" + -0.130*\"flow/NN\" + -0.122*\"tree/NN\" + -0.117*\"population/NN\" + -0.112*\"n/NN\" + -0.109*\"research/NN\" + -0.102*\"hcc/NN\" + -0.102*\"pancreatic/JJ\" + 0.096*\"growth/NN\" + -0.095*\"carcinoma/NN\" + 0.090*\"rat/NN\" + 0.086*\"phase/NN\" + -0.085*\"memory/NN\" + -0.082*\"pattern/NN\" + -0.082*\"motion/NN\" + -0.082*\"n/JJ\" + -0.079*\"particle/NN\" + -0.079*\"health/NN\" + 0.079*\"diagnosis/NN\" + 0.078*\"human/JJ\"\n",
      "165 >>> 0.136*\"ra/NN\" + -0.129*\"syndrome/NN\" + -0.106*\"search/NN\" + 0.105*\"copper/NN\" + -0.098*\"state/NN\" + 0.097*\"stress/NN\" + 0.097*\"mass/NN\" + -0.094*\"problem/NN\" + 0.091*\"factor/NN\" + -0.090*\"human/JJ\" + -0.089*\"milk/NN\" + -0.086*\"pathway/NN\" + 0.085*\"case/NN\" + -0.085*\"water/NN\" + 0.081*\"er/NN\" + 0.081*\"structure/NN\" + -0.081*\"tissue/NN\" + 0.076*\"service/NN\" + 0.076*\"n/NN\" + -0.076*\"site/NN\"\n",
      "166 >>> 0.237*\"seed/NN\" + 0.181*\"repeat/NN\" + -0.137*\"lesion/NN\" + -0.123*\"mitochondrial/JJ\" + 0.110*\"film/NN\" + -0.100*\"polymerization/NN\" + 0.097*\"energy/NN\" + -0.094*\"ca/NN\" + 0.092*\"rat/NN\" + -0.092*\"cluster/NN\" + 0.087*\"memory/NN\" + -0.087*\"2+/CD\" + 0.084*\"pattern/NN\" + -0.084*\"section/NN\" + 0.084*\"channel/NN\" + 0.083*\"state/NN\" + 0.083*\"segmentation/NN\" + -0.081*\"temperature/NN\" + -0.079*\"intervention/NN\" + -0.077*\"sequence/NN\"\n",
      "167 >>> 0.207*\"bc/NN\" + -0.175*\"segmentation/NN\" + -0.108*\"control/NN\" + -0.092*\"density/NN\" + -0.088*\"field/NN\" + -0.087*\"seed/NN\" + -0.086*\"+-/JJ\" + 0.084*\"locus/NN\" + 0.081*\"b/NN\" + -0.081*\"annotation/NN\" + 0.080*\"e/NN\" + 0.079*\"particle/NN\" + -0.079*\"pollen/NN\" + 0.078*\"bone/NN\" + 0.078*\"h/NN\" + -0.078*\"cd/NN\" + -0.076*\"application/NN\" + -0.075*\"qtl/NN\" + -0.075*\"mitochondrial/JJ\" + 0.075*\"amplification/NN\"\n",
      "168 >>> -0.138*\"lymphoma/NN\" + 0.133*\"parameter/NN\" + 0.130*\"pancreatic/JJ\" + 0.130*\"seed/NN\" + 0.129*\"peptide/NN\" + 0.129*\"film/NN\" + -0.113*\"n/NN\" + -0.111*\"host/NN\" + -0.104*\"control/NN\" + -0.093*\"therapy/NN\" + 0.093*\"carbon/NN\" + 0.091*\"domain/NN\" + 0.090*\"memory/NN\" + 0.089*\"pregnancy/NN\" + -0.086*\"s/NN\" + 0.084*\"variation/NN\" + -0.082*\"stress/NN\" + -0.081*\"sample/NN\" + -0.079*\"pattern/NN\" + 0.078*\"specie/NN\"\n",
      "169 >>> -0.172*\"mass/NN\" + 0.159*\"m/NN\" + 0.155*\"service/NN\" + -0.146*\"brca2/NN\" + -0.118*\"bc/NN\" + 0.118*\"boson/NN\" + -0.107*\"acid/NN\" + 0.104*\"jet/NN\" + 0.104*\"compound/NN\" + 0.097*\"milk/NN\" + 0.090*\"higgs/NN\" + 0.089*\"brca1/NN\" + -0.088*\"nuclear/JJ\" + -0.087*\"gev/NN\" + 0.084*\"insulin/NN\" + -0.081*\"cd/NN\" + -0.077*\"section/NN\" + 0.077*\"cloud/NN\" + 0.073*\"equation/NN\" + -0.073*\"qtl/NN\"\n",
      "170 >>> 0.164*\"brca2/NN\" + -0.144*\"milk/NN\" + 0.139*\"tree/NN\" + -0.123*\"domain/NN\" + 0.118*\"service/NN\" + -0.113*\"size/NN\" + 0.111*\"region/NN\" + -0.109*\"c/NN\" + 0.106*\"repeat/NN\" + 0.106*\"lymphoma/NN\" + 0.099*\"site/NN\" + 0.098*\"n/NN\" + -0.097*\"resistance/NN\" + -0.097*\"classification/NN\" + 0.092*\"neck/NN\" + -0.086*\"control/NN\" + 0.085*\"--/:\" + -0.084*\"brca1/NN\" + 0.080*\"metabolic/JJ\" + -0.079*\"detection/NN\"\n",
      "171 >>> -0.198*\"cluster/NN\" + 0.149*\"complex/NN\" + 0.140*\"tissue/NN\" + 0.128*\"c/NN\" + -0.114*\"ozone/NN\" + -0.107*\"energy/NN\" + -0.105*\"state/NN\" + 0.102*\"film/NN\" + -0.101*\"method/NN\" + -0.099*\"n/JJ\" + -0.098*\"error/NN\" + -0.098*\"[number]/NN\" + -0.092*\"fault/NN\" + 0.088*\"function/NN\" + 0.088*\"metastasis/NN\" + -0.087*\"temperature/NN\" + 0.085*\"field/NN\" + 0.084*\"simulation/NN\" + -0.084*\"pulse/NN\" + 0.081*\"cloud/NN\"\n",
      "172 >>> -0.138*\"service/NN\" + -0.135*\"tissue/NN\" + 0.130*\"information/NN\" + -0.122*\"tree/NN\" + 0.117*\"egfr/NN\" + -0.104*\"design/NN\" + -0.099*\"bc/NN\" + -0.098*\"power/NN\" + 0.098*\"density/NN\" + 0.094*\"fa/NN\" + -0.092*\"structure/NN\" + 0.092*\"simulation/NN\" + -0.091*\"cost/NN\" + -0.087*\"state/NN\" + 0.086*\"rat/NN\" + -0.085*\"chemotherapy/NN\" + 0.084*\"film/NN\" + -0.083*\"particle/NN\" + 0.082*\"s/NN\" + -0.081*\"drosophila/NN\"\n",
      "173 >>> 0.157*\"n/NN\" + 0.153*\"h/NN\" + 0.123*\"bc/NN\" + -0.123*\"compound/NN\" + -0.121*\"response/NN\" + 0.113*\"human/JJ\" + -0.098*\"brain/NN\" + -0.097*\"interaction/NN\" + 0.096*\"mirnas/NN\" + -0.093*\"c/NN\" + 0.093*\"3d/CD\" + 0.093*\"pathway/NN\" + 0.093*\"test/NN\" + 0.091*\"b/NN\" + 0.090*\"motif/NN\" + -0.088*\"bone/NN\" + 0.088*\"method/NN\" + 0.086*\"cd/NN\" + -0.086*\"map/NN\" + -0.086*\"segmentation/NN\"\n",
      "174 >>> -0.134*\"structure/NN\" + 0.123*\"tree/NN\" + 0.122*\"fa/NN\" + 0.114*\"variation/NN\" + -0.103*\"n/NN\" + 0.103*\"error/NN\" + 0.101*\"read/NN\" + -0.097*\"wheat/NN\" + 0.095*\"carbon/NN\" + 0.095*\"rat/NN\" + -0.092*\"alignment/NN\" + -0.091*\"cloud/NN\" + -0.091*\"wave/NN\" + 0.091*\"te/NN\" + -0.090*\"mm/NN\" + -0.088*\"use/NN\" + -0.087*\"genomic/JJ\" + 0.086*\"cluster/NN\" + 0.082*\"infection/NN\" + -0.081*\"graph/NN\"\n",
      "175 >>> -0.141*\"cluster/NN\" + 0.130*\"tree/NN\" + -0.114*\"density/NN\" + 0.114*\"research/NN\" + -0.113*\"wave/NN\" + 0.107*\"term/NN\" + -0.104*\"leukemia/NN\" + 0.096*\"deletion/NN\" + 0.095*\"property/NN\" + -0.091*\"particle/NN\" + 0.088*\"n/NN\" + 0.088*\"classification/NN\" + 0.087*\"pathway/NN\" + 0.086*\"rat/NN\" + -0.085*\"care/NN\" + 0.084*\"promoter/NN\" + 0.084*\"proof/NN\" + 0.083*\"seed/NN\" + -0.083*\"document/NN\" + -0.082*\"ozone/NN\"\n",
      "176 >>> 0.141*\"seed/NN\" + 0.131*\"tree/NN\" + -0.122*\"milk/NN\" + 0.111*\"classification/NN\" + -0.109*\"algorithm/NN\" + 0.102*\"wave/NN\" + -0.101*\"repeat/NN\" + -0.093*\"lesion/NN\" + -0.093*\"optical/JJ\" + 0.092*\"concentration/NN\" + 0.089*\"wheat/NN\" + -0.088*\"age/NN\" + 0.087*\"cardiac/JJ\" + 0.087*\"heart/NN\" + -0.087*\"phase/NN\" + -0.086*\"plant/NN\" + -0.085*\"information/NN\" + 0.084*\"tissue/NN\" + 0.082*\"condition/NN\" + 0.080*\"day/NN\"\n",
      "177 >>> 0.131*\"lymphoma/NN\" + -0.130*\"ra/NN\" + -0.126*\"pancreatic/JJ\" + -0.124*\"b/NN\" + -0.106*\"rat/NN\" + 0.104*\"nanoparticles/NN\" + -0.100*\"volume/NN\" + 0.099*\"fa/NN\" + -0.095*\"vector/NN\" + 0.094*\"peptide/NN\" + 0.094*\"service/NN\" + -0.091*\"drug/NN\" + -0.088*\"criterion/NN\" + -0.087*\"fiber/NN\" + -0.087*\"host/NN\" + 0.087*\"pattern/NN\" + 0.083*\"robot/NN\" + -0.080*\"cardiac/JJ\" + -0.080*\"human/JJ\" + 0.080*\"c/NN\"\n",
      "178 >>> -0.150*\"bc/NN\" + -0.121*\"lesion/NN\" + 0.117*\"m/NN\" + -0.114*\"wheat/NN\" + 0.106*\"interaction/NN\" + 0.106*\"annotation/NN\" + -0.100*\"s/NN\" + -0.100*\"cluster/NN\" + -0.098*\"plasma/NN\" + -0.096*\"tissue/NN\" + -0.094*\"surface/NN\" + -0.094*\"complex/NN\" + -0.092*\"h/NN\" + -0.091*\"service/NN\" + 0.090*\"tree/NN\" + 0.086*\"neck/NN\" + -0.083*\"seed/NN\" + -0.082*\"control/NN\" + -0.080*\"parameter/NN\" + -0.078*\"human/JJ\"\n",
      "179 >>> -0.150*\"error/NN\" + -0.148*\"cluster/NN\" + -0.134*\"seed/NN\" + 0.116*\"line/NN\" + 0.110*\"test/NN\" + -0.109*\"egfr/NN\" + -0.106*\"g/NN\" + -0.095*\"chemotherapy/NN\" + 0.094*\"specie/NN\" + -0.093*\"use/NN\" + -0.091*\"mitochondrial/JJ\" + 0.091*\"bc/NN\" + -0.089*\"sensor/NN\" + 0.089*\"neck/NN\" + -0.088*\"locus/NN\" + -0.087*\"field/NN\" + 0.086*\"research/NN\" + -0.085*\"alignment/NN\" + 0.084*\"distribution/NN\" + 0.084*\"surface/NN\"\n",
      "180 >>> -0.154*\"lymphoma/NN\" + -0.119*\"milk/NN\" + 0.111*\"fiber/NN\" + 0.103*\"s/NN\" + -0.103*\"allele/NN\" + 0.087*\"nuclear/JJ\" + -0.087*\"pain/NN\" + -0.086*\"clock/NN\" + -0.085*\"test/NN\" + -0.085*\"language/NN\" + 0.080*\"--/:\" + -0.080*\"familial/JJ\" + 0.078*\"method/NN\" + -0.078*\"mass/NN\" + -0.078*\"copper/NN\" + -0.077*\"3d/CD\" + 0.076*\"leukemia/NN\" + -0.076*\"optical/JJ\" + 0.076*\"cd/NN\" + 0.075*\"selection/NN\"\n",
      "181 >>> -0.140*\"g/NN\" + -0.137*\"repeat/NN\" + -0.123*\"cd/NN\" + -0.119*\"egfr/NN\" + -0.114*\"annotation/NN\" + -0.110*\"map/NN\" + 0.104*\"service/NN\" + -0.101*\"method/NN\" + 0.094*\"milk/NN\" + -0.093*\"growth/NN\" + 0.091*\"brca2/NN\" + 0.089*\"te/NN\" + -0.089*\"membrane/NN\" + 0.085*\"acid/NN\" + -0.084*\"wheat/NN\" + 0.083*\"child/NN\" + 0.083*\"domain/NN\" + 0.082*\"approach/NN\" + -0.079*\"bc/NN\" + 0.078*\"semantic/JJ\"\n",
      "182 >>> 0.171*\"service/NN\" + 0.146*\"n/JJ\" + 0.141*\"density/NN\" + 0.140*\"control/NN\" + -0.137*\"program/NN\" + 0.121*\"event/NN\" + 0.120*\"cd/NN\" + -0.100*\"lymphoma/NN\" + -0.099*\"stress/NN\" + -0.096*\"error/NN\" + 0.094*\"acid/NN\" + 0.087*\"clinical/JJ\" + -0.087*\"chemotherapy/NN\" + -0.086*\"milk/NN\" + 0.084*\"s/NN\" + -0.083*\"state/NN\" + 0.082*\"neck/NN\" + -0.080*\"pathway/NN\" + 0.080*\"bc/NN\" + 0.080*\"surface/NN\"\n",
      "183 >>> -0.130*\"bone/NN\" + 0.128*\"ra/NN\" + 0.120*\"lesion/NN\" + 0.114*\"neural/JJ\" + -0.101*\"state/NN\" + 0.100*\"response/NN\" + -0.097*\"tree/NN\" + -0.092*\"domain/NN\" + -0.089*\"cluster/NN\" + 0.087*\"rat/NN\" + 0.085*\"pattern/NN\" + -0.085*\"classification/NN\" + -0.084*\"film/NN\" + 0.083*\"program/NN\" + -0.082*\"expression/NN\" + 0.082*\"3d/CD\" + 0.081*\"change/NN\" + 0.079*\"field/NN\" + -0.078*\"detection/NN\" + 0.078*\"community/NN\"\n",
      "184 >>> -0.190*\"domain/NN\" + 0.140*\"n/JJ\" + 0.119*\"complex/NN\" + 0.116*\"energy/NN\" + -0.111*\"annotation/NN\" + 0.110*\"water/NN\" + -0.109*\"s/NN\" + -0.106*\"stress/NN\" + 0.097*\"pattern/NN\" + 0.095*\"3d/CD\" + -0.091*\"x/NN\" + 0.091*\"growth/NN\" + 0.090*\"brca2/NN\" + 0.088*\"jet/NN\" + -0.084*\"solution/NN\" + 0.083*\"distribution/NN\" + -0.082*\"carbon/NN\" + 0.079*\"ra/NN\" + -0.078*\"pancreatic/JJ\" + -0.077*\"state/NN\"\n",
      "185 >>> 0.111*\"+-/JJ\" + -0.109*\"n/JJ\" + -0.108*\"treatment/NN\" + 0.105*\"duplication/NN\" + 0.103*\"bc/NN\" + -0.100*\"milk/NN\" + 0.099*\"surface/NN\" + -0.095*\"genomic/JJ\" + -0.091*\"type/NN\" + 0.090*\"pulse/NN\" + -0.088*\"method/NN\" + 0.086*\"domain/NN\" + -0.084*\"control/NN\" + -0.083*\"fault/NN\" + -0.083*\"interaction/NN\" + -0.081*\"fracture/NN\" + -0.078*\"line/NN\" + 0.078*\"rat/NN\" + 0.077*\"flow/NN\" + 0.076*\"lymphoma/NN\"\n",
      "186 >>> 0.139*\"x/NN\" + -0.118*\"neural/JJ\" + 0.118*\"word/NN\" + 0.117*\"annotation/NN\" + -0.109*\"stress/NN\" + -0.109*\"volume/NN\" + -0.108*\"n/NN\" + -0.104*\"map/NN\" + 0.096*\"mr/NN\" + 0.094*\"--/:\" + -0.094*\"database/NN\" + 0.093*\"response/NN\" + -0.088*\"marker/NN\" + 0.088*\"venous/JJ\" + 0.086*\"matrix/NN\" + -0.086*\"emission/NN\" + -0.085*\"n/JJ\" + 0.084*\"knowledge/NN\" + 0.080*\"score/NN\" + -0.075*\"crest/NN\"\n",
      "187 >>> 0.121*\"alignment/NN\" + -0.119*\"quality/NN\" + -0.115*\"set/NN\" + 0.114*\"term/NN\" + 0.106*\"tree/NN\" + -0.103*\"volume/NN\" + 0.097*\"2+/CD\" + -0.095*\"higgs/NN\" + -0.094*\"wave/NN\" + -0.094*\"classification/NN\" + -0.092*\"technique/NN\" + 0.090*\"pd/NN\" + 0.087*\"ca/NN\" + 0.086*\"lymphoma/NN\" + -0.085*\"copper/NN\" + 0.084*\"wall/NN\" + -0.084*\"human/JJ\" + 0.083*\"bc/NN\" + -0.083*\"boson/NN\" + -0.081*\"test/NN\"\n",
      "188 >>> 0.141*\"error/NN\" + -0.130*\"field/NN\" + 0.116*\"state/NN\" + -0.105*\"mortality/NN\" + 0.103*\"repeat/NN\" + -0.102*\"case/NN\" + 0.100*\"ra/NN\" + -0.098*\"cluster/NN\" + -0.097*\"alignment/NN\" + -0.094*\"marker/NN\" + 0.089*\"simulation/NN\" + 0.088*\"function/NN\" + -0.087*\"map/NN\" + 0.086*\"tree/NN\" + -0.081*\"expression/NN\" + 0.080*\"estimation/NN\" + 0.077*\"pregnancy/NN\" + -0.077*\"rna/NN\" + 0.076*\"language/NN\" + 0.076*\"seed/NN\"\n",
      "189 >>> 0.126*\"mitochondrial/JJ\" + -0.125*\"surface/NN\" + -0.107*\"seed/NN\" + -0.103*\"node/NN\" + 0.096*\"ra/NN\" + -0.093*\"optical/JJ\" + 0.091*\"pancreatic/JJ\" + 0.090*\"ozone/NN\" + -0.090*\"al/NN\" + -0.086*\"number/NN\" + -0.085*\"effect/NN\" + -0.085*\"health/NN\" + -0.084*\"h/NN\" + 0.083*\"--/:\" + -0.083*\"n/JJ\" + -0.082*\"metastasis/NN\" + 0.082*\"source/NN\" + 0.080*\"brca2/NN\" + -0.080*\"colorectal/JJ\" + 0.078*\"+-/JJ\"\n",
      "190 >>> -0.120*\"s/NN\" + -0.120*\"compound/NN\" + -0.120*\"film/NN\" + -0.105*\"test/NN\" + 0.102*\"segmentation/NN\" + 0.099*\"aphid/NN\" + -0.099*\"quality/NN\" + -0.097*\"flow/NN\" + -0.095*\"brain/NN\" + -0.092*\"repeat/NN\" + 0.090*\"carbon/NN\" + 0.089*\"phase/NN\" + 0.084*\"genomic/JJ\" + 0.080*\"sp/NN\" + -0.079*\"ozone/NN\" + -0.077*\"rat/NN\" + -0.077*\"stress/NN\" + 0.076*\"use/NN\" + -0.075*\"3d/CD\" + 0.075*\"diagnosis/NN\"\n",
      "191 >>> -0.150*\"host/NN\" + 0.111*\"estimator/NN\" + -0.108*\"map/NN\" + 0.107*\"infection/NN\" + 0.105*\"bc/NN\" + 0.100*\"alignment/NN\" + 0.098*\"pancreatic/JJ\" + -0.097*\"complex/NN\" + -0.096*\"pesticide/NN\" + -0.094*\"--/:\" + -0.093*\"cluster/NN\" + 0.091*\"carcinoma/NN\" + 0.089*\"tissue/NN\" + -0.087*\"3d/CD\" + 0.087*\"interaction/NN\" + -0.084*\"annotation/NN\" + 0.081*\"site/NN\" + 0.080*\"chemotherapy/NN\" + 0.079*\"x/NN\" + 0.078*\"brca2/NN\"\n",
      "192 >>> 0.147*\"wave/NN\" + 0.125*\"tree/NN\" + 0.118*\"3d/CD\" + 0.114*\"carbon/NN\" + -0.103*\"field/NN\" + 0.102*\"word/NN\" + -0.101*\"noise/NN\" + -0.098*\"stress/NN\" + -0.097*\"fa/NN\" + 0.096*\"pollen/NN\" + 0.089*\"exposure/NN\" + 0.086*\"marker/NN\" + 0.083*\"schizophrenia/NN\" + -0.082*\"pressure/NN\" + -0.080*\"speech/NN\" + 0.079*\"radiation/NN\" + -0.074*\"texture/NN\" + -0.073*\"segmentation/NN\" + -0.073*\"size/NN\" + 0.073*\"rat/NN\"\n",
      "193 >>> -0.132*\"annotation/NN\" + 0.118*\"s/NN\" + 0.116*\"peptide/NN\" + -0.109*\"estimator/NN\" + 0.102*\"site/NN\" + -0.096*\"domain/NN\" + -0.096*\"distribution/NN\" + -0.095*\"deletion/NN\" + -0.092*\"fa/NN\" + -0.091*\"rat/NN\" + 0.091*\"visual/JJ\" + -0.090*\"drug/NN\" + 0.089*\"pancreatic/JJ\" + 0.082*\"venous/JJ\" + 0.081*\"therapy/NN\" + -0.079*\"uveitis/NN\" + 0.079*\"test/NN\" + 0.079*\"vte/NN\" + -0.077*\"cd/NN\" + 0.077*\"nanoparticles/NN\"\n",
      "194 >>> -0.132*\"3d/CD\" + 0.127*\"design/NN\" + 0.125*\"tree/NN\" + 0.125*\"pattern/NN\" + -0.124*\"service/NN\" + -0.118*\"segmentation/NN\" + -0.118*\"tissue/NN\" + 0.116*\"motif/NN\" + 0.111*\"host/NN\" + -0.110*\"cluster/NN\" + 0.108*\"method/NN\" + 0.105*\"particle/NN\" + -0.099*\"criterion/NN\" + 0.096*\"project/NN\" + 0.092*\"database/NN\" + 0.086*\"te/NN\" + 0.085*\"plasma/NN\" + 0.084*\"duplication/NN\" + 0.080*\"muscle/NN\" + 0.079*\"n/JJ\"\n",
      "195 >>> -0.135*\"case/NN\" + -0.128*\"particle/NN\" + 0.109*\"cluster/NN\" + 0.098*\"surface/NN\" + -0.095*\"g/NN\" + -0.094*\"x/NN\" + -0.091*\"uveitis/NN\" + -0.088*\"raman/NN\" + -0.087*\"care/NN\" + 0.087*\"vte/NN\" + -0.086*\"complex/NN\" + 0.082*\"cost/NN\" + 0.080*\"venous/JJ\" + -0.080*\"type/NN\" + 0.079*\"syndrome/NN\" + -0.077*\"phase/NN\" + -0.076*\"problem/NN\" + 0.076*\"cnvs/NN\" + 0.075*\"ad/NN\" + 0.075*\"rate/NN\"\n",
      "196 >>> -0.121*\"x/NN\" + 0.116*\"classification/NN\" + 0.114*\"cost/NN\" + -0.109*\"detection/NN\" + 0.108*\"interaction/NN\" + 0.103*\"wheat/NN\" + 0.096*\"robot/NN\" + -0.093*\"power/NN\" + 0.093*\"service/NN\" + -0.092*\"mass/NN\" + -0.088*\"fracture/NN\" + -0.086*\"task/NN\" + 0.085*\"motor/NN\" + 0.084*\"cd/NN\" + 0.084*\"time/NN\" + 0.080*\"platform/NN\" + -0.080*\"simulation/NN\" + 0.079*\"vector/NN\" + 0.077*\"year/NN\" + 0.075*\"bacteria/NN\"\n",
      "197 >>> -0.142*\"case/NN\" + -0.141*\"jet/NN\" + -0.116*\"--/:\" + -0.110*\"milk/NN\" + -0.102*\"density/NN\" + -0.101*\"duplication/NN\" + 0.099*\"carcinoma/NN\" + -0.095*\"brca2/NN\" + -0.094*\"neural/JJ\" + 0.094*\"m/NN\" + -0.093*\"flow/NN\" + -0.090*\"word/NN\" + -0.088*\"tool/NN\" + -0.087*\"stress/NN\" + 0.082*\"leukemia/NN\" + -0.081*\"classification/NN\" + 0.081*\"mitochondrial/JJ\" + 0.080*\"insulin/NN\" + 0.079*\"acid/NN\" + 0.079*\"s/NN\"\n",
      "198 >>> 0.129*\"brca2/NN\" + -0.125*\"word/NN\" + 0.120*\"ra/NN\" + -0.109*\"cluster/NN\" + -0.108*\"neural/JJ\" + 0.104*\"event/NN\" + -0.104*\"duplication/NN\" + 0.101*\"region/NN\" + 0.099*\"exposure/NN\" + 0.098*\"p/JJ\" + 0.095*\"seed/NN\" + 0.094*\"asd/NN\" + 0.093*\"pd/NN\" + -0.091*\"diagnosis/NN\" + -0.086*\"energy/NN\" + -0.085*\"peptide/NN\" + -0.084*\"design/NN\" + 0.083*\"autism/NN\" + 0.082*\"motif/NN\" + -0.082*\"aphid/NN\"\n",
      "199 >>> -0.135*\"brca2/NN\" + -0.127*\"duplication/NN\" + 0.116*\"lymphoma/NN\" + 0.114*\"therapy/NN\" + 0.111*\"glass/NN\" + 0.103*\"bc/NN\" + -0.101*\"locus/NN\" + 0.096*\"use/NN\" + -0.095*\"neck/NN\" + -0.092*\"technique/NN\" + 0.086*\"sensor/NN\" + -0.081*\"parameter/NN\" + -0.079*\"t/NN\" + 0.078*\"brca1/NN\" + -0.077*\"pulse/NN\" + -0.076*\"prediction/NN\" + -0.076*\"number/NN\" + 0.075*\"chek2/NN\" + 0.075*\"pancreatic/JJ\" + 0.075*\"rat/NN\"\n"
     ]
    }
   ],
   "source": [
    "for tid, words in lsimodel.show_topics(num_words=20):\n",
    "    print(tid, '>>>', words)"
   ]
  },
  {
   "cell_type": "code",
   "execution_count": null,
   "metadata": {
    "collapsed": true
   },
   "outputs": [],
   "source": [
    "gensim.matutils."
   ]
  },
  {
   "cell_type": "code",
   "execution_count": 14,
   "metadata": {
    "collapsed": false
   },
   "outputs": [],
   "source": [
    "lsimodel.save('lsimodel_bypub')"
   ]
  },
  {
   "cell_type": "code",
   "execution_count": null,
   "metadata": {
    "collapsed": false
   },
   "outputs": [],
   "source": [
    "\n",
    "plt.plot(lsimodel.projection.s);"
   ]
  },
  {
   "cell_type": "code",
   "execution_count": 13,
   "metadata": {
    "collapsed": false
   },
   "outputs": [],
   "source": [
    "hdpmodel = gensim.models.hdpmodel.HdpModel(bows, dictionary)\n",
    "hdpmodel.save('hdpmodel_bypub.pk')"
   ]
  },
  {
   "cell_type": "code",
   "execution_count": 23,
   "metadata": {
    "collapsed": false
   },
   "outputs": [],
   "source": [
    "tc = lsimodel[bows]"
   ]
  },
  {
   "cell_type": "code",
   "execution_count": 27,
   "metadata": {
    "collapsed": false
   },
   "outputs": [
    {
     "data": {
      "text/plain": [
       "(200, 36687)"
      ]
     },
     "execution_count": 27,
     "metadata": {},
     "output_type": "execute_result"
    }
   ],
   "source": [
    "gensim.matutils.corpus2dense(lsimodel[bows], lsimodel.num_topics).shape"
   ]
  },
  {
   "cell_type": "code",
   "execution_count": 29,
   "metadata": {
    "collapsed": false
   },
   "outputs": [
    {
     "data": {
      "text/plain": [
       "(150, 36687)"
      ]
     },
     "execution_count": 29,
     "metadata": {},
     "output_type": "execute_result"
    }
   ],
   "source": [
    "gensim.matutils.corpus2csc(hdpmodel[bows]).shape"
   ]
  },
  {
   "cell_type": "markdown",
   "metadata": {},
   "source": [
    "## Moyenne des modèles BoW par auteurs"
   ]
  },
  {
   "cell_type": "markdown",
   "metadata": {},
   "source": [
    "## Modèles BoW par auteurs, abstract concaténées"
   ]
  },
  {
   "cell_type": "code",
   "execution_count": 11,
   "metadata": {
    "collapsed": false
   },
   "outputs": [
    {
     "data": {
      "text/plain": [
       "(64418, 60253)"
      ]
     },
     "execution_count": 11,
     "metadata": {},
     "output_type": "execute_result"
    }
   ],
   "source": [
    "len(authors), len(publications)"
   ]
  }
 ],
 "metadata": {
  "kernelspec": {
   "display_name": "Python 3",
   "language": "python",
   "name": "python3"
  },
  "language_info": {
   "codemirror_mode": {
    "name": "ipython",
    "version": 3
   },
   "file_extension": ".py",
   "mimetype": "text/x-python",
   "name": "python",
   "nbconvert_exporter": "python",
   "pygments_lexer": "ipython3",
   "version": "3.5.2"
  }
 },
 "nbformat": 4,
 "nbformat_minor": 2
}
