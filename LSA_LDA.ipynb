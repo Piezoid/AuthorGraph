{
 "cells": [
  {
   "cell_type": "code",
   "execution_count": 1,
   "metadata": {
    "collapsed": false,
    "scrolled": true
   },
   "outputs": [],
   "source": [
    "import bibdb\n",
    "import pickle, bz2\n",
    "\n",
    "data = pickle.load(bz2.open('publications.pk.bz2', 'rb'))\n",
    "publications = data['publications']\n",
    "profs = data['profs']\n",
    "authors = data['authors']\n",
    "author_pubs = data['author_pubs']\n",
    "del data"
   ]
  },
  {
   "cell_type": "markdown",
   "metadata": {},
   "source": [
    "## Tokenization et lematization\n",
    "\n",
    "La fonction `text_cleaning` implémente une tokenization et lematization du corpus a l'aide de la bibliothèque `nltk`. Une liste de stop-words anglais est utilisée, les nombres sont transformé en `[number]` et la ponctuation est retirée.\n",
    "\n",
    "La lematization est réalisée avec wordnet et un POS tagger (Perceptron Tagger de nltk). Les deux premières lettres du tag sont rajoutées au lemme : \"word/NN\"."
   ]
  },
  {
   "cell_type": "code",
   "execution_count": null,
   "metadata": {
    "collapsed": false
   },
   "outputs": [
    {
     "name": "stdout",
     "output_type": "stream",
     "text": [
      "0.00%\n",
      "1.70%\n",
      "3.40%\n",
      "5.10%\n",
      "6.80%\n",
      "8.50%\n",
      "10.20%\n",
      "11.90%\n",
      "13.60%\n"
     ]
    }
   ],
   "source": [
    "from text_cleaning import text_cleaning\n",
    "\n",
    "lem_abstracts = []\n",
    "lem_titles = []\n",
    "for i, pub in enumerate(publications):\n",
    "    if i & 1023 == 0:\n",
    "        print('%.2f%%' % (100*i/len(publications)))\n",
    "    \n",
    "    lem_abstracts.append(text_cleaning(pub.en_abstract))\n",
    "    \n",
    "    en_titles = [ref.ref for ref in pub.refs if ref.reftype=='en_title']\n",
    "    if en_titles:\n",
    "        title = max(en_titles, key=len) # Longest english title\n",
    "        lem_titles.append(text_cleaning(title))\n",
    "    else:\n",
    "        lem_titles.append([]) # keeps lists aligned"
   ]
  },
  {
   "cell_type": "markdown",
   "metadata": {},
   "source": [
    "Cette opération prend du temps (20min) et donc les résultats sont sauvegardées :"
   ]
  },
  {
   "cell_type": "code",
   "execution_count": null,
   "metadata": {
    "collapsed": true
   },
   "outputs": [],
   "source": [
    "pickle.dump(dict(lem_abstracts=lem_abstracts,\n",
    "                 lem_titles=lem_titles),\n",
    "            bz2.open('lems.pk.bz2', 'wb'))"
   ]
  },
  {
   "cell_type": "code",
   "execution_count": 4,
   "metadata": {
    "collapsed": false
   },
   "outputs": [],
   "source": [
    "import pickle, bz2\n",
    "data = pickle.load(bz2.open('lems.pk.bz2', 'rb'))\n",
    "lem_abstracts = data['lem_abstracts']\n",
    "lem_titles = data['lem_titles']\n",
    "del data"
   ]
  },
  {
   "cell_type": "code",
   "execution_count": 5,
   "metadata": {
    "collapsed": true
   },
   "outputs": [],
   "source": [
    "lem_abstract_withtitles = [lem_title + lem_abstract \n",
    "                           for lem_title, lem_abstract in zip(lem_titles, lem_abstracts)]"
   ]
  },
  {
   "cell_type": "markdown",
   "metadata": {},
   "source": [
    "## Fréquence des mots, filtrage\n",
    "\n",
    "Les lemmes taggés sont ensuite indexés avec `gensim.corpora.Dictionary`. Cet objet calcule également la fréquence document des mots."
   ]
  },
  {
   "cell_type": "code",
   "execution_count": 6,
   "metadata": {
    "collapsed": true
   },
   "outputs": [],
   "source": [
    "from itertools import chain\n",
    "import gensim\n",
    "\n",
    "dictionary = gensim.corpora.Dictionary(lem_abstract_withtitles)"
   ]
  },
  {
   "cell_type": "code",
   "execution_count": 7,
   "metadata": {
    "collapsed": false
   },
   "outputs": [
    {
     "data": {
      "image/png": "[encoded data removed]",
      "text/plain": [
       "<matplotlib.figure.Figure at 0x7f265f304f98>"
      ]
     },
     "metadata": {},
     "output_type": "display_data"
    }
   ],
   "source": [
    "from matplotlib import pyplot as plt\n",
    "import numpy as np\n",
    "%matplotlib inline\n",
    "\n",
    "plt.hist([np.log10(count) for count in dictionary.dfs.values()],\n",
    "         100, log=True)\n",
    "plt.xlabel('Nombre de documents ($log_{10}$)')\n",
    "plt.ylabel('Nombre de mots');"
   ]
  },
  {
   "cell_type": "markdown",
   "metadata": {},
   "source": [
    "Les mot utilisés moins dans moins de 5 documents, ou dans plus de 1/4 des document sont retirés :"
   ]
  },
  {
   "cell_type": "code",
   "execution_count": 8,
   "metadata": {
    "collapsed": false
   },
   "outputs": [],
   "source": [
    "dictionary.filter_extremes(no_below=5, no_above=0.25, keep_n=None)"
   ]
  },
  {
   "cell_type": "markdown",
   "metadata": {},
   "source": [
    "## Modèle `bag of words` par publication\n",
    "Un modèle `bag of words` est construit en utilisant les indices numériques de `dictionary` (cela filtre aussi les mots)."
   ]
  },
  {
   "cell_type": "code",
   "execution_count": 9,
   "metadata": {
    "collapsed": false
   },
   "outputs": [],
   "source": [
    "bows = [dictionary.doc2bow(lems) for lems in lem_abstract_withtitles]"
   ]
  },
  {
   "cell_type": "code",
   "execution_count": 11,
   "metadata": {
    "collapsed": false
   },
   "outputs": [],
   "source": [
    "tfidfmodel = gensim.models.tfidfmodel.TfidfModel(bows, dictionary=dictionary)\n",
    "tfidfs = tfidfmodel[bows]\n",
    "lsimodel = gensim.models.lsimodel.LsiModel(tfidfs, id2word=dictionary)\n",
    "lsimodel.save(bz2.open('lsimodel_bypub.pk.bz2', 'wb'))"
   ]
  },
  {
   "cell_type": "code",
   "execution_count": 16,
   "metadata": {
    "collapsed": false
   },
   "outputs": [],
   "source": [
    "lsimodel.save('lsimodel_bypub')"
   ]
  },
  {
   "cell_type": "code",
   "execution_count": 12,
   "metadata": {
    "collapsed": false
   },
   "outputs": [
    {
     "data": {
      "image/png": "[encoded data removed]",
      "text/plain": [
       "<matplotlib.figure.Figure at 0x7f2698100b38>"
      ]
     },
     "metadata": {},
     "output_type": "display_data"
    }
   ],
   "source": [
    "\n",
    "plt.plot(lsimodel.projection.s);"
   ]
  },
  {
   "cell_type": "code",
   "execution_count": 13,
   "metadata": {
    "collapsed": false
   },
   "outputs": [],
   "source": [
    "hdpmodel = gensim.models.hdpmodel.HdpModel(bows, dictionary)\n",
    "hdpmodel.save('hdpmodel_bypub.pk')"
   ]
  },
  {
   "cell_type": "code",
   "execution_count": 23,
   "metadata": {
    "collapsed": false
   },
   "outputs": [],
   "source": [
    "tc = lsimodel[bows]"
   ]
  },
  {
   "cell_type": "code",
   "execution_count": 28,
   "metadata": {
    "collapsed": false
   },
   "outputs": [
    {
     "data": {
      "text/plain": [
       "set"
      ]
     },
     "execution_count": 28,
     "metadata": {},
     "output_type": "execute_result"
    }
   ],
   "source": [
    "type(authors)"
   ]
  },
  {
   "cell_type": "code",
   "execution_count": 27,
   "metadata": {
    "collapsed": false
   },
   "outputs": [
    {
     "data": {
      "text/plain": [
       "(200, 36687)"
      ]
     },
     "execution_count": 27,
     "metadata": {},
     "output_type": "execute_result"
    }
   ],
   "source": [
    "gensim.matutils.corpus2dense(lsimodel[bows], lsimodel.num_topics).shape"
   ]
  },
  {
   "cell_type": "code",
   "execution_count": 29,
   "metadata": {
    "collapsed": false
   },
   "outputs": [
    {
     "data": {
      "text/plain": [
       "(150, 36687)"
      ]
     },
     "execution_count": 29,
     "metadata": {},
     "output_type": "execute_result"
    }
   ],
   "source": [
    "gensim.matutils.corpus2csc(hdpmodel[bows]).shape"
   ]
  }
 ],
 "metadata": {
  "kernelspec": {
   "display_name": "Python 3",
   "language": "python",
   "name": "python3"
  },
  "language_info": {
   "codemirror_mode": {
    "name": "ipython",
    "version": 3
   },
   "file_extension": ".py",
   "mimetype": "text/x-python",
   "name": "python",
   "nbconvert_exporter": "python",
   "pygments_lexer": "ipython3",
   "version": "3.5.2"
  }
 },
 "nbformat": 4,
 "nbformat_minor": 2
}
