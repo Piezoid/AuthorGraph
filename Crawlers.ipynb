{
 "cells": [
  {
   "cell_type": "code",
   "execution_count": null,
   "metadata": {
    "collapsed": false
   },
   "outputs": [],
   "source": [
    "import db\n",
    "from importlib import reload\n",
    "db = reload(db)\n",
    "db = db.DB()"
   ]
  },
  {
   "cell_type": "code",
   "execution_count": null,
   "metadata": {
    "collapsed": true
   },
   "outputs": [],
   "source": [
    "firstNotNone = lambda it: next((x for x in it if x is not None), None)    "
   ]
  },
  {
   "cell_type": "code",
   "execution_count": null,
   "metadata": {
    "collapsed": false
   },
   "outputs": [],
   "source": [
    "identifiers = ('doi', 'nnt', 'ensam', 'ird', 'irstea', 'oatao', 'pubmed', 'arxiv', 'sciencespo', 'hal')\n",
    "\n",
    "def getids(d):\n",
    "    ids = []\n",
    "    def append(k, v):\n",
    "        if type(v) is list:\n",
    "            ids.extend((k, item) for item in v)\n",
    "        else:\n",
    "            ids.append((k, v))\n",
    "            \n",
    "    for k, v in d.items():\n",
    "        if k.endswith('Id_s'):\n",
    "            append(k[:-4], v)\n",
    "        elif k.endswith('_title_s'):\n",
    "            append(k[:-2], v)\n",
    "    \n",
    "    if 'citationRef_s' in d:\n",
    "        append('cite', d['citationRef_s'])\n",
    "            \n",
    "    pstart, pend = get_pages(d.get('page_s'))\n",
    "    if pstart:     \n",
    "        if 'journalTitle_s' in d and 'issue_s' in d:\n",
    "            append('journal', [dict(title=d['journalTitle_s'], issue=issue, pstart=pstart, pend=pend) \n",
    "                               for issue in d['issue_s']])\n",
    "            \n",
    "        bookTitle = d.get('conferenceTitle_s') or d.get('bookTitle_s')\n",
    "        if bookTitle or 'isbn_s' in d:\n",
    "            append('book', dict(title=bookTitle, isbn=d.get('isbn_s'), pstart=pstart, pend=pend))\n",
    "    return ids\n",
    "\n"
   ]
  },
  {
   "cell_type": "code",
   "execution_count": null,
   "metadata": {
    "collapsed": false,
    "scrolled": true
   },
   "outputs": [],
   "source": [
    "import json\n",
    "from urllib import request\n",
    "from urllib.parse import urlencode\n",
    "from datetime import datetime\n",
    "\n",
    "#query = {'authFullName_t':'Pierre Peterlongo'}\n",
    "query = {'authFullName_t':'Olivier Dameron'}\n",
    "fields = ['authFullName_s', 'authOrganism_s', 'authQuality_s', 'producedDate_tdate',\n",
    "          '*_abstract_s', 'files_s', 'language_s',\n",
    "          'keyword_s',\n",
    "          # Identification\n",
    "          '*_title_s', '*Id_s', 'isbn_s', 'bookTitle_s', 'docType_s',\n",
    "          # Journal\n",
    "          'journalTitle_s', 'issue_s', 'page_s', 'conferenceTitle_s',\n",
    "          # Classifications\n",
    "          'classification_s', 'domain_s', 'acm_s', 'jel_s', 'mesh_s', \n",
    "          'labStructAcronym_s', 'structName_s', 'authOrganism_s', 'collaboration_s',\n",
    "          'citationRef_s'\n",
    "         ]\n",
    "params = dict(\n",
    "    q= ' && '.join(field+':'+ value for field, value in query.items()),\n",
    "    fl= ','.join(fields),\n",
    "    wt= 'json',\n",
    "    rows= 10000,\n",
    ")\n",
    "params = urlencode(params)\n",
    "r = db.http_cache.get('https://api.archives-ouvertes.fr/search/?' + params)\n",
    "r = json.loads(r.decode('utf-8'))\n",
    "\n",
    "for d in r['response']['docs']:\n",
    "    ids = getids(d)\n",
    "    #for k,v in ids:\n",
    "        #print(\"%s:\\t%r\" % (k,v))\n",
    "    #print()\n",
    "    \n",
    "    print()\n",
    "#     print(ids)\n",
    "    doc_id = docid_byref(con,ids)\n",
    "    if doc_id is None:\n",
    "        doc_id = db.docTable.insert(date=datetime.strptime(d['producedDate_tdate'], \"%Y-%m-%dT%H:%M:%Sz\" ),\n",
    "                                    type=d['docType_s'],\n",
    "                                    return_id=True)\n",
    "        for reftype, ref in ids:\n",
    "            db.insert_ref(doc_id, reftype, ref)\n",
    "\n",
    "\n",
    "#     if 'journalTitle_s' in d or 'issue_s' in d or 'isbn_s' in d or 'page_s' in d or 'bookTitle_s' in d:\n",
    "#         #print(d['journalTitle_s'], d['issue_s'], d['page_s'])\n",
    "#         for k, v in d.items():\n",
    "#             print('%s: %s\\n' % (k,v))\n",
    "#     else:\n",
    "#         print(d['docType_s'], d['title_s'])\n",
    "#     print('-'*100)\n",
    "\n",
    "con.commit()"
   ]
  },
  {
   "cell_type": "code",
   "execution_count": null,
   "metadata": {
    "collapsed": false
   },
   "outputs": [],
   "source": [
    "from private import elsevier_key\n",
    "def quick_get(url):\n",
    "    headers={'Accept':'application/json',\n",
    "             'X-ELS-APIKey': elsevier_key}\n",
    "    return json.loads(db.http_cache.get(url, headers=headers).decode('utf-8'))"
   ]
  },
  {
   "cell_type": "code",
   "execution_count": null,
   "metadata": {
    "collapsed": false,
    "scrolled": true
   },
   "outputs": [],
   "source": [
    "quick_get('http://api.crossref.org/works?query.author=olivier+dameron')['message']['items']"
   ]
  },
  {
   "cell_type": "code",
   "execution_count": null,
   "metadata": {
    "collapsed": false
   },
   "outputs": [],
   "source": [
    "url = (\"http://api.elsevier.com/content/abstract/doi/\"\n",
    "          + '10.1016/j.ics.2005.03.213'\n",
    "          + \"?field=authors,title,publicationName,volume,issueIdentifier,item,\"\n",
    "          + \"prism:pageRange,coverDate,article-number,doi,citedby-count,prism:aggregationType,dc:description\"\n",
    "      )\n",
    "quick_get(url)"
   ]
  },
  {
   "cell_type": "code",
   "execution_count": null,
   "metadata": {
    "collapsed": false
   },
   "outputs": [],
   "source": [
    "quick_get('http://api.elsevier.com/content/search/author?' + urlencode(dict(query='authfirst(Olivier) AND authlast(Dameron)')) )"
   ]
  },
  {
   "cell_type": "code",
   "execution_count": null,
   "metadata": {
    "collapsed": false
   },
   "outputs": [],
   "source": [
    "quick_get('http://api.crossref.org/works/10.1016/j.ics.2005.03.213')"
   ]
  },
  {
   "cell_type": "code",
   "execution_count": null,
   "metadata": {
    "collapsed": true
   },
   "outputs": [],
   "source": [
    "con.commit()\n",
    "# con.close()"
   ]
  }
 ],
 "metadata": {
  "kernelspec": {
   "display_name": "Python 3",
   "language": "python",
   "name": "python3"
  },
  "language_info": {
   "codemirror_mode": {
    "name": "ipython",
    "version": 3
   },
   "file_extension": ".py",
   "mimetype": "text/x-python",
   "name": "python",
   "nbconvert_exporter": "python",
   "pygments_lexer": "ipython3",
   "version": "3.5.2"
  }
 },
 "nbformat": 4,
 "nbformat_minor": 0
}
